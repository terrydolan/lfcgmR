{
 "cells": [
  {
   "cell_type": "markdown",
   "metadata": {},
   "source": [
    "# The LFC Goal Machine (R version)"
   ]
  },
  {
   "cell_type": "markdown",
   "metadata": {},
   "source": [
    "This python3 notebook analyses Liverpool FC's goal scorers, in particular exploring a scatter plot of a player's top level league goals scored in a season against the age of the player at the mid-point of that season. The plot is available as an interactive web app called the LFC Goal Machine [here](https://terrydolan.shinyapps.io/lfcgmR/). \n",
    "\n",
    "The notebook generates and validates the required data (based on reference data from lfchistory.net) and prototypes the key parts of the R application. Python is used for the data preparation and analysis, and R is used for the interactive application and plotting. The application's core plotting function uses R's ggplot2.\n",
    "\n",
    "The notebook contains the key algorithms, some interesting LFC player plots and describes how the lfcgmR app is built and deployed.\n",
    "\n",
    "The project uses [Anaconda](https://www.anaconda.com/), [Jupyter Notebook](http://jupyter.org/), [Python](https://www.python.org/), [Pandas](http://pandas.pydata.org/), [rpy2](https://rpy2.readthedocs.io/), [R](https://www.r-project.org/), [R ggplot](http://ggplot2.org/), [R studio](https://www.rstudio.com/), [R Shiny](http://shiny.rstudio.com/), [R Dplyr](https://cran.r-project.org/web/packages/dplyr/index.html), [R Scales](https://cran.r-project.org/web/packages/scales/index.html)."
   ]
  },
  {
   "cell_type": "markdown",
   "metadata": {},
   "source": [
    "__Application History, at August 2019__\n",
    "\n",
    "The original lfcgm interactive application (built around 2016) was contained a shared core plotting function and was deployed as both a Python app (using Spyre and Heroku) and an R app (using RStudio). Both of these verions had ggplot at their core; with the R implementation using ggplot2 and the python implementation using yhat 'port' of ggplot2. The R ggplot implementation is excellent and the original objective was always to have the core plotting algorithm defined in ggplot.\n",
    "\n",
    "The original python app used yhat's ggplot. The yhat ggplot developer has taken the decision to not to continue to R-like version for python. The latest version of yhat's ggplot is 'work in progress'. There are several other ggplot-like developments that are also available in python. All of these projects aim to be pythonic thereby making it difficult to maintain a single core function based on ggplot that can be shared between Rython and R. \n",
    "\n",
    "Also, R Studio makes it very easy to develop and deploy interactive web apps. The nearest equivalent in python in 2016 was Spyre in conjunction with Heroku. Spyre is no longer developed.\n",
    "\n",
    "Therefore I've decided to maintain only the R version of the lfcgm app. However, this remains a hybrid Python and R development. Python infrastructure (Pandas, etc) is used to generate and validate the required data, and explore the core plotting function. The Python rpy2 library is used to run R commands in a python3 notebook."
   ]
  },
  {
   "cell_type": "markdown",
   "metadata": {},
   "source": [
    "## Notebook Approach"
   ]
  },
  {
   "cell_type": "markdown",
   "metadata": {},
   "source": [
    "This python3 notebook prepares and validates the data and algorithms for the LFC Goal Machine app (lfcgmR). \n",
    "\n",
    "1. Load the input data files, enhance (e.g. add player age at season midpoint) and generate the required lfcgmR application data. The application requires 2 csvs:\n",
    " - data/lfc_scorers_tl_pos_age.csv: containing all of the LFC scorers in the top flight seasons with their age.\n",
    " - data/lfcgm_app_dropdown.csv: containing a dropdown list of those scorers.\n",
    "\n",
    "1. Validate the generated data.\n",
    "\n",
    "1. Validate the core r plotting algorithm (using R's ggplot2).\n",
    "\n",
    "1. Describe the lfcgmR app, with a link to the github source code.\n",
    "\n",
    "The lfcgmR app is available as an interactive web app [here](https://terrydolan.shinyapps.io/lfcgmR/). "
   ]
  },
  {
   "cell_type": "markdown",
   "metadata": {},
   "source": [
    "### Notebook Change Log"
   ]
  },
  {
   "cell_type": "code",
   "execution_count": 1,
   "metadata": {},
   "outputs": [
    {
     "data": {
      "text/html": [
       "<! left align the change log table in next cell >\n",
       "<style>\n",
       "table {float:left}\n",
       "</style>\n"
      ],
      "text/plain": [
       "<IPython.core.display.HTML object>"
      ]
     },
     "metadata": {},
     "output_type": "display_data"
    }
   ],
   "source": [
    "%%html\n",
    "<! left align the change log table in next cell >\n",
    "<style>\n",
    "table {float:left}\n",
    "</style>"
   ]
  },
  {
   "cell_type": "markdown",
   "metadata": {},
   "source": [
    "| Date          | Change Description |\n",
    "| :------------- | :----------------- |\n",
    "| 21st February 2016 | Initial python and r baseline versions|\n",
    "| 30th October 2016 | Added LFC season 2015-16 |\n",
    "| 12th October 2017 | Added LFC season 2016-17 |\n",
    "| 31st August 2019 | Added LFC seasons 2017-18 and 2018-19; Moved to Python 3; restuctured the application to focus on R version; updated function to generate age at midpoint of season; improved the data validation; enhanced R app to: improve core plotting function, especially y axis ints; add table tab to show the data table |"
   ]
  },
  {
   "cell_type": "markdown",
   "metadata": {},
   "source": [
    "To Do\n",
    "- Review latest R Studio UI presentation and controls to see if application can be improved.\n",
    "\n",
    "- Consider extending app to also allow sort by season(s) rather than age; allow overlapping seasons?"
   ]
  },
  {
   "cell_type": "markdown",
   "metadata": {},
   "source": [
    "## Set-Up"
   ]
  },
  {
   "cell_type": "markdown",
   "metadata": {},
   "source": [
    "### Environment"
   ]
  },
  {
   "cell_type": "markdown",
   "metadata": {},
   "source": [
    "This notebook uses an Anaconda py37r environment."
   ]
  },
  {
   "cell_type": "code",
   "execution_count": null,
   "metadata": {},
   "outputs": [],
   "source": [
    "# This notebook requires a Python 3 (3.7+) and R (3.6+) environment\n",
    "# Show active conda env\n",
    "!conda env list"
   ]
  },
  {
   "cell_type": "code",
   "execution_count": null,
   "metadata": {},
   "outputs": [],
   "source": [
    "!Python --version"
   ]
  },
  {
   "cell_type": "code",
   "execution_count": null,
   "metadata": {},
   "outputs": [],
   "source": [
    "!R --version"
   ]
  },
  {
   "cell_type": "markdown",
   "metadata": {},
   "source": [
    "### Import the python modules needed for the analysis."
   ]
  },
  {
   "cell_type": "code",
   "execution_count": null,
   "metadata": {},
   "outputs": [],
   "source": [
    "import pandas as pd\n",
    "import numpy as np\n",
    "import matplotlib as mpl\n",
    "import matplotlib.pyplot as plt\n",
    "import dateutil as du\n",
    "import dateutil.relativedelta as dr\n",
    "import sys\n",
    "import os\n",
    "\n",
    "# enable inline plotting\n",
    "%matplotlib inline\n",
    "\n",
    "# activate the rpy capability so that R commands can be run in this notebook\n",
    "from rpy2.robjects import pandas2ri\n",
    "pandas2ri.activate()\n",
    "import rpy2\n",
    "\n",
    "# load the extension for the %%R cell magic\n",
    "%load_ext rpy2.ipython"
   ]
  },
  {
   "cell_type": "markdown",
   "metadata": {},
   "source": [
    "Print key module version numbers."
   ]
  },
  {
   "cell_type": "code",
   "execution_count": null,
   "metadata": {},
   "outputs": [],
   "source": [
    "print('python version: {}'.format(sys.version))\n",
    "print('pandas version: {}'.format(pd.__version__))\n",
    "print('numpy version: {}'.format(np.__version__))\n",
    "print('matplotlib version: {}'.format(mpl.__version__))\n",
    "print('dateutil version: {}'.format(du.__version__))\n",
    "print('rpy2 version: {}'.format(rpy2.__version__))"
   ]
  },
  {
   "cell_type": "markdown",
   "metadata": {},
   "source": [
    "## Prepare The Data Files"
   ]
  },
  {
   "cell_type": "markdown",
   "metadata": {},
   "source": [
    "### Define name and location of csv data files"
   ]
  },
  {
   "cell_type": "code",
   "execution_count": null,
   "metadata": {},
   "outputs": [],
   "source": [
    "# define key seasons\n",
    "LG_SEASON_START = '1893-1894' # first league season (2nd Division)\n",
    "SEASON_START = '1892-1893' # first season in existance\n",
    "# modify the following, as required\n",
    "SEASON_END = '2018-2019' # most recent season\n",
    "PLAYERS_CSV_MONTH = 'August' # month of players csv extract\n",
    "PLAYERS_CSV_YEAR = '2019' # year of players csv extract\n",
    "NUMBER_OF_SEASONS = 104 # 104 in 2018-2019\n",
    "\n",
    "# define input csv files\n",
    "print('\\nLocation of the input csv data files:')\n",
    "\n",
    "# define scorers CSV file name (and check exists)\n",
    "SCORERS_PREFIX = 'lfc_scorers'\n",
    "SCORERS_CSV_FILE = '{}_{}_{}.csv'.format(SCORERS_PREFIX, SEASON_START, SEASON_END)\n",
    "LFC_SCORERS_CSV_FILE = os.path.relpath('data/{}'.format(SCORERS_CSV_FILE))\n",
    "assert os.path.isfile(LFC_SCORERS_CSV_FILE) \n",
    "print('LFC scorers csv file is: {}'.format(LFC_SCORERS_CSV_FILE))\n",
    "\n",
    "# define squads CSV file name (and check exists)\n",
    "SQUADS_PREFIX = 'lfc_squads'\n",
    "SQUADS_CSV_FILE = '{}_{}_{}.csv'.format(SQUADS_PREFIX, SEASON_START, SEASON_END)\n",
    "LFC_SQUADS_CSV_FILE = os.path.relpath('data/{}'.format(SQUADS_CSV_FILE))\n",
    "assert os.path.isfile(LFC_SQUADS_CSV_FILE) \n",
    "print('LFC squads csv file is: {}'.format(LFC_SQUADS_CSV_FILE))\n",
    "\n",
    "# define player appearances CSV file name (and check exists)\n",
    "APPS_PREFIX = 'lfc_apps'\n",
    "APPS_CSV_FILE = '{}_{}_{}.csv'.format(APPS_PREFIX, SEASON_START, SEASON_END)\n",
    "LFC_APPS_CSV_FILE = os.path.relpath('data/{}'.format(APPS_CSV_FILE))\n",
    "assert os.path.isfile(LFC_APPS_CSV_FILE) \n",
    "print('LFC appearances csv file is: {}'.format(LFC_APPS_CSV_FILE))\n",
    "\n",
    "# define league CSV file name (and check exists)\n",
    "LEAGUE_PREFIX = 'lfc_league'\n",
    "LEAGUE_CSV_FILE = '{}_{}_{}.csv'.format(LEAGUE_PREFIX, LG_SEASON_START, SEASON_END)\n",
    "LFC_LEAGUE_CSV_FILE = os.path.relpath('data/{}'.format(LEAGUE_CSV_FILE))\n",
    "assert os.path.isfile(LFC_LEAGUE_CSV_FILE) \n",
    "print('LFC league csv file is: {}'.format(LFC_LEAGUE_CSV_FILE))\n",
    "                                          \n",
    "# define players CSV file name (and check exists)\n",
    "PLAYERS_PREFIX = 'lfc_players'\n",
    "PLAYERS_CSV_FILE_UPDATED = '{}_{}{}_upd.csv'.format(PLAYERS_PREFIX, PLAYERS_CSV_MONTH, PLAYERS_CSV_YEAR)\n",
    "LFC_PLAYERS_CSV_FILE_UPDATED = os.path.relpath('data/{}'.format(PLAYERS_CSV_FILE_UPDATED))\n",
    "assert os.path.isfile(LFC_PLAYERS_CSV_FILE_UPDATED) \n",
    "print('LFC league csv file is: {}'.format(LFC_PLAYERS_CSV_FILE_UPDATED))\n",
    "\n",
    "# define generated csv files (this is the data used by the lfcgm app)\n",
    "print('\\nLocation of the generated csv data files:')\n",
    "\n",
    "# define scorers in top league with position and age CSV file name\n",
    "LFC_SCORERS_TL_POS_AGE_CSV_FILE = os.path.relpath('data/lfc_scorers_tl_pos_age.csv')\n",
    "print('LFC scorers in top league with position and age is: {}'.format(LFC_SCORERS_TL_POS_AGE_CSV_FILE))\n",
    "\n",
    "# define dropdown CSV file name\n",
    "LFCGM_DROPDOWN = os.path.relpath('data/lfcgm_app_dropdown.csv')\n",
    "print('LFC goal machine dropdown is: {}'.format(LFCGM_DROPDOWN))"
   ]
  },
  {
   "cell_type": "code",
   "execution_count": null,
   "metadata": {},
   "outputs": [],
   "source": []
  },
  {
   "cell_type": "markdown",
   "metadata": {},
   "source": [
    "## Load The LFC Data Into Dataframes And Munge"
   ]
  },
  {
   "cell_type": "markdown",
   "metadata": {
    "collapsed": true
   },
   "source": [
    "### Create a dataframe of scorers in top level league seasons\n",
    "Input data source: lfchistory.net"
   ]
  },
  {
   "cell_type": "code",
   "execution_count": null,
   "metadata": {},
   "outputs": [],
   "source": [
    "print('Loading LFC scorers csv from {}'.format(LFC_SCORERS_CSV_FILE))\n",
    "dflfc_scorers = pd.read_csv(LFC_SCORERS_CSV_FILE)\n",
    "\n",
    "# sort by season, then league goals\n",
    "dflfc_scorers = dflfc_scorers.sort_values(['season', 'league'], ascending=([False, False]))\n",
    "dflfc_scorers.shape"
   ]
  },
  {
   "cell_type": "code",
   "execution_count": null,
   "metadata": {},
   "outputs": [],
   "source": [
    "# show the most recent top goal scorers\n",
    "dflfc_scorers.head()"
   ]
  },
  {
   "cell_type": "code",
   "execution_count": null,
   "metadata": {},
   "outputs": [],
   "source": [
    "# expect 1892-1893\n",
    "dflfc_scorers.tail()"
   ]
  },
  {
   "cell_type": "code",
   "execution_count": null,
   "metadata": {},
   "outputs": [],
   "source": [
    "# note that scorers includes own goals\n",
    "dflfc_scorers[dflfc_scorers.player == 'Own goals'].head()"
   ]
  },
  {
   "cell_type": "raw",
   "metadata": {},
   "source": [
    "Filter out seasons that LFC weren't in top level"
   ]
  },
  {
   "cell_type": "code",
   "execution_count": null,
   "metadata": {},
   "outputs": [],
   "source": [
    "# note: war years already excluded in input files\n",
    "LANCS_YRS = ['1892-1893']\n",
    "SECOND_DIV_YRS = ['1893-1894', '1895-1896', '1904-1905', '1961-1962', \n",
    "                  '1954-1955', '1955-1956', '1956-1957', '1957-1958', \n",
    "                  '1958-1959', '1959-1960', '1960-1961']\n",
    "\n",
    "NOT_TOP_LEVEL_YRS = LANCS_YRS + SECOND_DIV_YRS\n",
    "dflfc_scorers_tl = dflfc_scorers[~dflfc_scorers.season.isin(NOT_TOP_LEVEL_YRS)].copy()\n",
    "dflfc_scorers_tl.shape"
   ]
  },
  {
   "cell_type": "code",
   "execution_count": null,
   "metadata": {},
   "outputs": [],
   "source": [
    "## check number of top level seasons aligns with http://www.lfchistory.net/Stats/LeagueOverall\n",
    "## e.g. total was 102 for top level seasons from 1894-95 to 2016-17\n",
    "print('the number of seasons is {}'.format(len(dflfc_scorers_tl.season.unique())))\n",
    "assert len(dflfc_scorers_tl.season.unique()) == NUMBER_OF_SEASONS"
   ]
  },
  {
   "cell_type": "code",
   "execution_count": null,
   "metadata": {},
   "outputs": [],
   "source": [
    "# show most league goals in a season in top level\n",
    "# cross-check with http://en.wikipedia.org/wiki/List_of_Liverpool_F.C._records_and_statistics#Goalscorers\n",
    "# expect 101 in 2013-14\n",
    "assert dflfc_scorers_tl[['season', 'league']].groupby(['season'])\\\n",
    "            .sum().sort_values('league', ascending=False).head(1).reset_index().values.tolist()[0] == ['2013-2014', 101]\n",
    "dflfc_scorers_tl[['season', 'league']].groupby(['season']).sum().sort_values('league', ascending=False).head(1)"
   ]
  },
  {
   "cell_type": "code",
   "execution_count": null,
   "metadata": {},
   "outputs": [],
   "source": [
    "# remove OG\n",
    "dflfc_scorers_tl = dflfc_scorers_tl[dflfc_scorers_tl.player != 'Own goals']\n",
    "dflfc_scorers_tl.shape"
   ]
  },
  {
   "cell_type": "code",
   "execution_count": null,
   "metadata": {},
   "outputs": [],
   "source": [
    "# check latest season\n",
    "dflfc_scorers_tl[dflfc_scorers_tl.season == SEASON_END].head(10)"
   ]
  },
  {
   "cell_type": "code",
   "execution_count": null,
   "metadata": {},
   "outputs": [],
   "source": [
    "# check first top level season, expect 1894-95\n",
    "assert dflfc_scorers_tl.tail(1).season.values[0] =='1894-1895'"
   ]
  },
  {
   "cell_type": "markdown",
   "metadata": {},
   "source": [
    "### Create dataframe of squads giving the position of each player\n",
    "Input data source: lfchistory.net"
   ]
  },
  {
   "cell_type": "code",
   "execution_count": null,
   "metadata": {},
   "outputs": [],
   "source": [
    "print('Loading LFC scorers csv from {}'.format(LFC_SQUADS_CSV_FILE))\n",
    "dflfc_squads = pd.read_csv(LFC_SQUADS_CSV_FILE)\n",
    "dflfc_squads.shape"
   ]
  },
  {
   "cell_type": "code",
   "execution_count": null,
   "metadata": {},
   "outputs": [],
   "source": [
    "dflfc_squads.head()"
   ]
  },
  {
   "cell_type": "code",
   "execution_count": null,
   "metadata": {},
   "outputs": [],
   "source": [
    "dflfc_squads.tail()"
   ]
  },
  {
   "cell_type": "markdown",
   "metadata": {},
   "source": [
    "### Create dataframe of LFC's league position\n",
    "Input data source: lfchistory.net"
   ]
  },
  {
   "cell_type": "code",
   "execution_count": null,
   "metadata": {},
   "outputs": [],
   "source": [
    "print('Loading LFC scorers csv from {}'.format(LFC_LEAGUE_CSV_FILE))\n",
    "dflfc_league = pd.read_csv(LFC_LEAGUE_CSV_FILE)\n",
    "dflfc_league.shape"
   ]
  },
  {
   "cell_type": "code",
   "execution_count": null,
   "metadata": {},
   "outputs": [],
   "source": [
    "dflfc_league.head()"
   ]
  },
  {
   "cell_type": "code",
   "execution_count": null,
   "metadata": {},
   "outputs": [],
   "source": [
    "dflfc_league.tail()"
   ]
  },
  {
   "cell_type": "code",
   "execution_count": null,
   "metadata": {},
   "outputs": [],
   "source": [
    "# check most recent league data is present\n",
    "assert dflfc_league.tail(1).Season.values[0] == SEASON_END"
   ]
  },
  {
   "cell_type": "markdown",
   "metadata": {},
   "source": [
    "### Create merged dataframe, combining scorers in top league level season with squad position"
   ]
  },
  {
   "cell_type": "code",
   "execution_count": null,
   "metadata": {},
   "outputs": [],
   "source": [
    "dflfc_scorers_tl_pos = pd.DataFrame.merge(dflfc_scorers_tl, dflfc_squads)\n",
    "dflfc_scorers_tl_pos.shape"
   ]
  },
  {
   "cell_type": "code",
   "execution_count": null,
   "metadata": {},
   "outputs": [],
   "source": [
    "dflfc_scorers_tl_pos.head()"
   ]
  },
  {
   "cell_type": "code",
   "execution_count": null,
   "metadata": {},
   "outputs": [],
   "source": [
    "dflfc_scorers_tl_pos.tail()"
   ]
  },
  {
   "cell_type": "code",
   "execution_count": null,
   "metadata": {},
   "outputs": [],
   "source": [
    " assert dflfc_scorers_tl_pos[(dflfc_scorers_tl_pos.season == '2018-2019') & \n",
    "                            (dflfc_scorers_tl_pos.player == 'Mohamed Salah')].position.values[0] == 'Striker'"
   ]
  },
  {
   "cell_type": "code",
   "execution_count": null,
   "metadata": {},
   "outputs": [],
   "source": [
    " assert dflfc_scorers_tl_pos[(dflfc_scorers_tl_pos.season == '1905-1906') & \n",
    "                            (dflfc_scorers_tl_pos.player == 'Alex Raisbeck')].position.values[0] == 'Defender'"
   ]
  },
  {
   "cell_type": "markdown",
   "metadata": {},
   "source": [
    "### Create a dataframe of players with birthdate and country of birth"
   ]
  },
  {
   "cell_type": "code",
   "execution_count": null,
   "metadata": {},
   "outputs": [],
   "source": [
    "print('Loading LFC scorers csv from {}'.format(LFC_PLAYERS_CSV_FILE_UPDATED))\n",
    "dflfc_players = pd.read_csv(LFC_PLAYERS_CSV_FILE_UPDATED, parse_dates=['birthdate'])\n",
    "assert dflfc_players.birthdate.dtypes == 'datetime64[ns]'\n",
    "dflfc_players.shape"
   ]
  },
  {
   "cell_type": "code",
   "execution_count": null,
   "metadata": {},
   "outputs": [],
   "source": [
    "dflfc_players.head()"
   ]
  },
  {
   "cell_type": "code",
   "execution_count": null,
   "metadata": {},
   "outputs": [],
   "source": [
    "dflfc_players.tail()"
   ]
  },
  {
   "cell_type": "markdown",
   "metadata": {},
   "source": [
    "### Create merged dataframe of players, combining scorers in top league level season with squad position and age"
   ]
  },
  {
   "cell_type": "markdown",
   "metadata": {},
   "source": [
    "Add players age to the dflfc_scorers_tl_pos dataframe"
   ]
  },
  {
   "cell_type": "raw",
   "metadata": {},
   "source": [
    "# deprecated\n",
    "def age_at_season_v1(row, dflfc_players=dflfc_players):\n",
    "    \"\"\"Return player's age at mid-point of season, assumed to be 1st Jan.\n",
    "    \n",
    "        row.player -> player's name\n",
    "        row.season -> season\n",
    "        \n",
    "        uses dflfc_players to look-up birthdate, keyed on player\n",
    "         - return average age if player is missing from dflfc_players\n",
    "    \"\"\"\n",
    "    #print(row.player)\n",
    "    #print(row.season)\n",
    "    \n",
    "    AVERAGE_AGE = 26.5\n",
    "    \n",
    "    mid_point = '01 January {}'.format(row.season[-4:])\n",
    "    print('this season mid point: {}'.format(mid_point))\n",
    "          \n",
    "    try:\n",
    "        dob = dflfc_players[dflfc_players.player == row.player].birthdate.values[0]\n",
    "    except:\n",
    "        # use average age if player's birthdate not available\n",
    "        print('error: age not found for player {} in season {}, using average age {}'.format(row.player, \n",
    "                                                                                             row.season, \n",
    "                                                                                             AVERAGE_AGE))\n",
    "        return AVERAGE_AGE\n",
    "    return round((pd.Timestamp(mid_point) - dob).days/365.0, 1)"
   ]
  },
  {
   "cell_type": "raw",
   "metadata": {},
   "source": [
    "# v2 deprecated\n",
    "# change log: Aug 2019, \n",
    "# enhanced to pass individual dayta items as input, rather than a row of data\n",
    "# made use of dflfc_players more explicit\n",
    "def age_at_season_v2(player, season, dflfc_players=dflfc_players):\n",
    "    \"\"\"Return player's age at mid-point of season, assumed to be 1st Jan.\n",
    "    \n",
    "        player -> player's name: string e.g. 'Ian Rush'\n",
    "        season -> season: string e.g. '1984-1985'\n",
    "        dflfc_players -> dataframe with columns ['player', 'birthdate'] e.g. \n",
    "                player   | birthdate  | country\n",
    "                Ian Rush | 1961-10-20 | Wales\n",
    "        \n",
    "        uses dflfc_players to look-up birthdate, keyed on player\n",
    "         - return average age if player is missing from dflfc_players\n",
    "    \"\"\"\n",
    "    #print('this player: {}'.format(player))\n",
    "    #print('this season: {}'.format(season))\n",
    "    \n",
    "    AVERAGE_AGE = 26.5\n",
    "    \n",
    "    mid_point = '01 January {}'.format(season[-4:])\n",
    "    #print('this season mid point: {}'.format(mid_point))\n",
    "          \n",
    "    try:\n",
    "        dob = dflfc_players[dflfc_players.player==player].birthdate.values[0]\n",
    "    except:\n",
    "        # use average age if player's birthdate not available\n",
    "        print('warning: age not found for player {} in season {}, using average age {}'.format(player, \n",
    "                                                                                             season, \n",
    "                                                                                             AVERAGE_AGE))\n",
    "        return AVERAGE_AGE\n",
    "    return round((pd.Timestamp(mid_point) - dob).days/365.0, 1)"
   ]
  },
  {
   "cell_type": "code",
   "execution_count": null,
   "metadata": {},
   "outputs": [],
   "source": [
    "# v3\n",
    "# change log: Aug 2019, \n",
    "# enhanced to pass individual dayta items as input, rather than a row of data\n",
    "# made use of dflfc_players more explicit\n",
    "# ensure consistent calculation of age as year decimal\n",
    "def age_at_season(player, season, dflfc_players=dflfc_players):\n",
    "    \"\"\"Return player's age at mid-point of season, assumed to be 1st Jan.\n",
    "    \n",
    "        player -> player's name: string e.g. 'Ian Rush'\n",
    "        season -> season: string e.g. '1984-1985'\n",
    "        dflfc_players -> dataframe with columns ['player', 'birthdate'] e.g. \n",
    "                player   | birthdate  | country\n",
    "                Ian Rush | 1961-10-20 | Wales\n",
    "        \n",
    "        uses dflfc_players to look-up birthdate, keyed on player\n",
    "        return age as year.fraction, rouned to one decimal place\n",
    "        \n",
    "        e.g. age_at_season('Ian Rush', '1985-1986') -> 24.2\n",
    "        \n",
    "        return average age (26.5) if player is missing from dflfc_players\n",
    "    \"\"\"\n",
    "    #print('this player: {}'.format(player))\n",
    "    \n",
    "    AVERAGE_AGE = 26.5\n",
    "    \n",
    "    # define mid-point of the season, to be used to calculate the players age in a given season\n",
    "    mid_point = pd.Timestamp('01 January {}'.format(season[-4:]))\n",
    "    #print('this season mid point: {}'.format(mid_point))\n",
    "          \n",
    "    try:\n",
    "        # look-up player's date of birth\n",
    "        dob = dflfc_players[dflfc_players.player==player].birthdate.values[0]\n",
    "    except:\n",
    "        # use average age if player's birthdate not available\n",
    "        print('warning: age not found for player {} in season {}, using average age {}'.format(player, \n",
    "                                                                                             season, \n",
    "                                                                                             AVERAGE_AGE))\n",
    "        return AVERAGE_AGE\n",
    "\n",
    "    # calculate player's age at mid-point of season\n",
    "    bday = pd.Timestamp(dob)\n",
    "    result = dr.relativedelta(mid_point.to_pydatetime(), bday.to_pydatetime())\n",
    "    \n",
    "    # return result as year.fraction\n",
    "    yr_int = result.years\n",
    "    yr_fraction = (result.months*30 + result.days)/365.2425\n",
    "\n",
    "    return yr_int + round(yr_fraction, 1)"
   ]
  },
  {
   "cell_type": "code",
   "execution_count": null,
   "metadata": {},
   "outputs": [],
   "source": [
    "# test function age_at_season()\n",
    "\n",
    "assert age_at_season('Ian Rush', '1985-1986') == 24.2\n",
    "\n",
    "# create a dataframe with test data\n",
    "d = {'Jan_baby': ['01 January 2000', '2000-2001'], 'Feb_baby': ['01 February 2000', '2000-2001'],\n",
    "     'Jan2_baby': ['02 January 2000', '2000-2001'], 'Dec2_baby': ['31 December 2000', '2000-2001'],\n",
    "     'Mar_baby': ['01 March 2000', '2000-2001'], 'Apr_baby': ['01 April 2000', '2000-2001'],\n",
    "     'May_baby': ['01 May 2000', '2000-2001'], 'Jun_baby': ['01 June 2000', '2000-2001'],\n",
    "     'Jul_baby': ['01 July 2000', '2000-2001'], 'Aug_baby': ['01 August 2000', '2000-2001'],\n",
    "     'Sep_baby': ['01 September 2000', '2000-2001'], 'Oct_baby': ['01 October 2000', '2000-2001'],\n",
    "     'Nov_baby': ['01 November 2000', '2000-2001'], 'Dec_baby': ['01 December 2000', '2000-2001']}\n",
    "df_test = pd.DataFrame.from_dict(d, orient='index', columns=['birthdate', 'season'])\n",
    "df_test.index.name = 'player'\n",
    "df_test.reset_index(inplace=True)\n",
    "df_test['birthdate'] = pd.to_datetime(df_test.birthdate)\n",
    "\n",
    "# check single values in dataframe\n",
    "assert (age_at_season('Jul_baby', '2000-2001', df_test) == 0.5)\n",
    "assert (age_at_season('Nov_baby', '2000-2001', df_test) == 0.2)\n",
    "\n",
    "# check edge examples\n",
    "#print(age_at_season('Jan2_baby', '2000-2001', df_test))\n",
    "assert (age_at_season('Jan2_baby', '2000-2001', df_test) == 1.0)\n",
    "#print(age_at_season('Dec2_baby', '2000-2001', df_test))\n",
    "assert (age_at_season('Dec2_baby', '2000-2001', df_test) == 0.0)\n",
    "\n",
    "# check all values in dataframe\n",
    "#print(age_at_season('Jan_baby', '2000-2001', df_test))\n",
    "assert (age_at_season('Jan_baby', '2000-2001', df_test) == 1.0)\n",
    "#print(age_at_season('Feb_baby', '2000-2001', df_test))\n",
    "assert (age_at_season('Feb_baby', '2000-2001', df_test) == 0.9)\n",
    "#print(age_at_season('Mar_baby', '2000-2001', df_test))\n",
    "assert (age_at_season('Mar_baby', '2000-2001', df_test) == 0.8)\n",
    "#print(age_at_season('Apr_baby', '2000-2001', df_test))\n",
    "assert (age_at_season('Apr_baby', '2000-2001', df_test) == 0.7)\n",
    "#print(age_at_season('May_baby', '2000-2001', df_test))\n",
    "assert (age_at_season('May_baby', '2000-2001', df_test) == 0.7)\n",
    "#print(age_at_season('Jun_baby', '2000-2001', df_test))\n",
    "assert (age_at_season('Jun_baby', '2000-2001', df_test) == 0.6)\n",
    "#print(age_at_season('Jul_baby', '2000-2001', df_test))\n",
    "assert (age_at_season('Jul_baby', '2000-2001', df_test) == 0.5)\n",
    "#print(age_at_season('Aug_baby', '2000-2001', df_test))\n",
    "assert (age_at_season('Aug_baby', '2000-2001', df_test) == 0.4)\n",
    "#print(age_at_season('Sep_baby', '2000-2001', df_test))\n",
    "assert (age_at_season('Sep_baby', '2000-2001', df_test) == 0.3)\n",
    "#print(age_at_season('Oct_baby', '2000-2001', df_test))\n",
    "assert (age_at_season('Oct_baby', '2000-2001', df_test) == 0.2)\n",
    "#print(age_at_season('Nov_baby', '2000-2001', df_test))\n",
    "assert (age_at_season('Nov_baby', '2000-2001', df_test) == 0.2)\n",
    "#print(age_at_season('Dec_baby', '2000-2001', df_test))\n",
    "assert (age_at_season('Dec_baby', '2000-2001', df_test) == 0.1)\n",
    "\n",
    "# check for same result when applying the function\n",
    "expected_set = {1.0, 0.9, 0.8, 0.7, 0.6, 0.5, 0.4, 0.3, 0.2, 0.1, 0.0}\n",
    "#print(set(df_test.apply(lambda row: age_at_season(row.player, row.season, df_test), axis=1)))\n",
    "assert (set(df_test.apply(lambda row: age_at_season(row.player, row.season, df_test), axis=1)) == expected_set)\n",
    "\n",
    "# check specific players with dflfc_players\n",
    "# Jon Flanagan was born on 1st Jan 1993, so check age is whole number\n",
    "assert (age_at_season('Jon Flanagan', '2012-2013') == 20.0)\n",
    "# Rigobert Song was born on 1st Jul 1976, so check age is half a whole number\n",
    "assert (age_at_season('Rigobert Song', '2005-2006') == 29.5)"
   ]
  },
  {
   "cell_type": "code",
   "execution_count": null,
   "metadata": {},
   "outputs": [],
   "source": [
    "# create new dataframe and add age column\n",
    "# no warnings expected i.e. all players should be found\n",
    "dflfc_scorers_tl_pos_age = dflfc_scorers_tl_pos.copy()\n",
    "dflfc_scorers_tl_pos_age['age'] = dflfc_scorers_tl_pos.apply(lambda row: age_at_season(row.player, row.season), axis=1)"
   ]
  },
  {
   "cell_type": "code",
   "execution_count": null,
   "metadata": {},
   "outputs": [],
   "source": [
    "dflfc_scorers_tl_pos_age.head(15)"
   ]
  },
  {
   "cell_type": "code",
   "execution_count": null,
   "metadata": {},
   "outputs": [],
   "source": [
    "# check data for Kenny Dalglish\n",
    "dflfc_scorers_tl_pos_age[dflfc_scorers_tl_pos_age.player=='Kenny Dalglish']"
   ]
  },
  {
   "cell_type": "markdown",
   "metadata": {},
   "source": [
    "#### Save the new dataframe\n",
    "_This is the key dataframe used in the plot of age vs league goals._"
   ]
  },
  {
   "cell_type": "code",
   "execution_count": null,
   "metadata": {},
   "outputs": [],
   "source": [
    "dflfc_scorers_tl_pos_age.to_csv(LFC_SCORERS_TL_POS_AGE_CSV_FILE, header=True, index=False, sep=',')\n",
    "assert os.path.isfile(LFC_SCORERS_TL_POS_AGE_CSV_FILE) "
   ]
  },
  {
   "cell_type": "markdown",
   "metadata": {},
   "source": [
    "### Create a dataframe of players who have scored a goal for Liverpool in the top flight"
   ]
  },
  {
   "cell_type": "code",
   "execution_count": null,
   "metadata": {},
   "outputs": [],
   "source": [
    "df_dropdown = pd.DataFrame(dflfc_scorers_tl_pos_age.player.unique(), columns=['player'])\\\n",
    "                .sort_values('player')\n",
    "print(df_dropdown.head())"
   ]
  },
  {
   "cell_type": "markdown",
   "metadata": {},
   "source": [
    "#### Save the new dataframe\n",
    "_This is used by the lfcgmR application to provide a 'dropdown'list of players_"
   ]
  },
  {
   "cell_type": "code",
   "execution_count": null,
   "metadata": {},
   "outputs": [],
   "source": [
    "df_dropdown.to_csv(LFCGM_DROPDOWN, header=True, index=False)\n",
    "assert os.path.isfile(LFCGM_DROPDOWN) "
   ]
  },
  {
   "cell_type": "markdown",
   "metadata": {},
   "source": [
    "### Create dataframe of player's league appearances\n",
    "Input data source: lfchistory.net"
   ]
  },
  {
   "cell_type": "code",
   "execution_count": null,
   "metadata": {},
   "outputs": [],
   "source": [
    "# read the appearance file\n",
    "print('Loading LFC appearances csv from {}'.format(LFC_APPS_CSV_FILE))\n",
    "dflfc_lgapps = pd.read_csv(LFC_APPS_CSV_FILE)\n",
    "print(dflfc_lgapps.shape)\n",
    "dflfc_lgapps.head()"
   ]
  },
  {
   "cell_type": "markdown",
   "metadata": {},
   "source": [
    "### Create merged dataframe of players, combining scorers in top league level season with squad position, age and appearances"
   ]
  },
  {
   "cell_type": "code",
   "execution_count": null,
   "metadata": {},
   "outputs": [],
   "source": [
    "dflfc_scorers_tl_pos_age_apps = dflfc_scorers_tl_pos_age.merge(dflfc_lgapps)\n",
    "# calculate GPG for each player season and add as a column\n",
    "dflfc_scorers_tl_pos_age_apps['GPG'] = (dflfc_scorers_tl_pos_age_apps.league/dflfc_scorers_tl_pos_age_apps.lgapp).round(3)\n",
    "print(dflfc_scorers_tl_pos_age_apps.shape)\n",
    "print(dflfc_scorers_tl_pos.shape)"
   ]
  },
  {
   "cell_type": "code",
   "execution_count": null,
   "metadata": {},
   "outputs": [],
   "source": [
    "dflfc_scorers_tl_pos_age_apps.head()"
   ]
  },
  {
   "cell_type": "code",
   "execution_count": null,
   "metadata": {},
   "outputs": [],
   "source": [
    "dflfc_scorers_tl_pos_age_apps.tail()"
   ]
  },
  {
   "cell_type": "code",
   "execution_count": null,
   "metadata": {},
   "outputs": [],
   "source": [
    "# show top GPG for players with > 10 games in a season\n",
    "dflfc_scorers_tl_pos_age_apps[dflfc_scorers_tl_pos_age_apps.lgapp > 10].sort_values('GPG', ascending=False).head(10)"
   ]
  },
  {
   "cell_type": "code",
   "execution_count": null,
   "metadata": {},
   "outputs": [],
   "source": []
  },
  {
   "cell_type": "markdown",
   "metadata": {},
   "source": [
    "## Validate The App Data"
   ]
  },
  {
   "cell_type": "markdown",
   "metadata": {},
   "source": [
    "Read the key player goals vs age data that is used by lfcgmR app"
   ]
  },
  {
   "cell_type": "code",
   "execution_count": null,
   "metadata": {},
   "outputs": [],
   "source": [
    "dflfcgm = pd.read_csv(LFC_SCORERS_TL_POS_AGE_CSV_FILE)\n",
    "dflfcgm_dd = pd.read_csv(LFCGM_DROPDOWN)"
   ]
  },
  {
   "cell_type": "code",
   "execution_count": null,
   "metadata": {},
   "outputs": [],
   "source": [
    "dflfcgm.head()"
   ]
  },
  {
   "cell_type": "code",
   "execution_count": null,
   "metadata": {},
   "outputs": [],
   "source": [
    "dflfcgm_dd.head()"
   ]
  },
  {
   "cell_type": "code",
   "execution_count": null,
   "metadata": {},
   "outputs": [],
   "source": [
    "# check start and end\n",
    "assert(dflfcgm.season.head(1).values[0] == SEASON_END)\n",
    "assert(dflfcgm.season.tail(1).values[0] == '1894-1895') # first season in top flight\n",
    "\n",
    "# check lfcgm dropdown consistent with main data source\n",
    "assert(set(dflfcgm_dd.player) == set(dflfcgm.player))\n",
    "\n",
    "# confirm that season 1939-1940 is not included in analysis\n",
    "assert len(dflfcgm[dflfcgm.season == '1939-1940']) == 0"
   ]
  },
  {
   "cell_type": "code",
   "execution_count": null,
   "metadata": {},
   "outputs": [],
   "source": [
    "dflfcgm.head()"
   ]
  },
  {
   "cell_type": "code",
   "execution_count": null,
   "metadata": {},
   "outputs": [],
   "source": [
    "# show players scoring for first time in latest season\n",
    "# these are new to the app dropdown\n",
    "LATEST_SEASON = SEASON_END\n",
    "latest_season_int = int(LATEST_SEASON[0:4])\n",
    "PREVIOUS_SEASON = '{}-{}'.format(latest_season_int-1, latest_season_int)\n",
    "#print(LATEST_SEASON, PREVIOUS_SEASON)\n",
    "scorers_for_latest_season_set = set(dflfcgm[(dflfcgm.season == LATEST_SEASON) & (dflfcgm.league >= 1)].player.values)\n",
    "scorers_for_previous_seasons_set = set(dflfcgm[(dflfcgm.season <= PREVIOUS_SEASON) & (dflfcgm.league >= 1)].player.values)\n",
    "print('players scoring for first time in latest season: \\n\\t{}'\\\n",
    "          .format(', '.join(list(scorers_for_latest_season_set - scorers_for_previous_seasons_set))))"
   ]
  },
  {
   "cell_type": "code",
   "execution_count": null,
   "metadata": {},
   "outputs": [],
   "source": []
  },
  {
   "cell_type": "markdown",
   "metadata": {},
   "source": [
    "Validate the data using reference data from lfchistory.net"
   ]
  },
  {
   "cell_type": "code",
   "execution_count": null,
   "metadata": {},
   "outputs": [],
   "source": [
    "# build a dictionary with selected LFC season and total top flight league goalscorers in that season\n",
    "# ref: data from lfchistory.net, season archive\n",
    "lfc_season_tot_league_goals_d = {'1894-1895': 9,\n",
    "                                 '1905-1906': 11,\n",
    "                                 '1914-1915': 8,\n",
    "                                 '1924-1925': 11,\n",
    "                                 '1934-1935': 11,\n",
    "                                 '1946-1947': 11,\n",
    "                                 '1953-1954': 14,\n",
    "                                 '1964-1965': 15,\n",
    "                                 '1974-1975': 12,\n",
    "                                 '1984-1985': 12,\n",
    "                                 '1994-1995': 9,\n",
    "                                 '2004-2005': 13,\n",
    "                                 '2014-2015': 15}\n",
    "\n",
    "# check total number of scorers matches dictionary\n",
    "for season, tot_lg_scorers in lfc_season_tot_league_goals_d.items():\n",
    "    #print(season, tot_lg_scorers, len(dflfcgm[(dflfcgm.season==season)].player.unique()))\n",
    "    assert tot_lg_scorers == len(dflfcgm[(dflfcgm.season==season)].player.unique())"
   ]
  },
  {
   "cell_type": "code",
   "execution_count": null,
   "metadata": {},
   "outputs": [],
   "source": [
    "# build a dictionary with selected LFC players, giving list of \n",
    "# (season, total top flight league goals in that season, age in that season)\n",
    "# ref: data from lfchistory.net, player archive (with calculation of age based on player profile)\n",
    "lfc_player_season_tot_league_goals_d = {\n",
    "   'Alex Raisbeck': [('1898-1899', 1, 19.0),\n",
    "                     ('1899-1900', 3, 20.0),\n",
    "                     ('1900-1901', 1, 21.0),\n",
    "                     ('1902-1903', 1, 23.0),\n",
    "                     ('1903-1904', 1, 24.0),\n",
    "                     ('1905-1906', 1, 26.0),\n",
    "                     ('1906-1907', 4, 27.0),\n",
    "                     ('1907-1908', 2, 28.0),\n",
    "                     ('1908-1909', 2, 29.0)],\n",
    "        'Ian Rush': [('1981-1982', 17, 20.2),\n",
    "                     ('1982-1983', 24, 21.2),\n",
    "                     ('1983-1984', 32, 22.2),\n",
    "                     ('1984-1985', 14, 23.2),\n",
    "                     ('1985-1986', 22, 24.2),\n",
    "                     ('1986-1987', 30, 25.2),\n",
    "                     ('1988-1989', 7, 27.2),\n",
    "                     ('1989-1990', 18, 28.2),\n",
    "                     ('1990-1991', 16, 29.2),\n",
    "                     ('1991-1992', 4, 30.2),\n",
    "                     ('1992-1993', 14, 31.2),\n",
    "                     ('1993-1994', 14, 32.2),\n",
    "                     ('1994-1995', 12, 33.2),\n",
    "                     ('1995-1996', 5, 34.2)],\n",
    "   'Mohamed Salah': [('2017-2018', 32, 25.5),\n",
    "                     ('2018-2019', 22, 26.5)]}\n",
    "\n",
    "# check total number of scorers matches dictionary\n",
    "for player, l in lfc_player_season_tot_league_goals_d.items():\n",
    "    for season, tot_lg_goals, age in l:\n",
    "        #print(player, season, tot_lg_goals)\n",
    "        assert dflfcgm[(dflfcgm.season==season) & (dflfcgm.player==player)].league.values[0] == tot_lg_goals\n",
    "        assert dflfcgm[(dflfcgm.season==season) & (dflfcgm.player==player)].age.values[0] == age"
   ]
  },
  {
   "cell_type": "code",
   "execution_count": null,
   "metadata": {},
   "outputs": [],
   "source": []
  },
  {
   "cell_type": "markdown",
   "metadata": {},
   "source": [
    "## Explore The Lfcgm App's Core Plotting Function"
   ]
  },
  {
   "cell_type": "markdown",
   "metadata": {},
   "source": [
    "### Set-up the R environment"
   ]
  },
  {
   "cell_type": "code",
   "execution_count": null,
   "metadata": {},
   "outputs": [],
   "source": [
    "%%R\n",
    "\n",
    "#load R libraries\n",
    "library(ggplot2)\n",
    "library(dplyr)\n",
    "library(scales)"
   ]
  },
  {
   "cell_type": "markdown",
   "metadata": {},
   "source": [
    "## Define the core R plotting function using ggplot2"
   ]
  },
  {
   "cell_type": "raw",
   "metadata": {},
   "source": [
    "%%R\n",
    "# Deprecated\n",
    "# Change log\n",
    "# v1, February 2016, original\n",
    "ggplot_age_vs_lgoals_v1 <- function(df, players) {\n",
    "  # Return ggplot of Age vs League Goals for given players in dataframe.\n",
    "  #\n",
    "  #  Given the low number of points, ggplot's geom_smooth uses\n",
    "  #  the loess method with default span.\n",
    "  TITLE <- 'LFCGM Age vs League Goals'\n",
    "  XLABEL <- 'Age at Midpoint of Season'\n",
    "  YLABEL <- 'League Goals per Season'\n",
    "  EXEMPLAR_PLAYERS <- c('Ian Rush', 'Kenny Dalglish', 'Roger Hunt', 'David Johnson', \n",
    "                        'Harry Chambers', 'John Toshack', 'John Barnes', 'Kevin Keegan')\n",
    "  EXEMPLAR_TITLE <- 'LFCGM Example Plot, The Champions: Age vs League Goals'\n",
    "  \n",
    "  # if players vector is empty then set the default exemplar options\n",
    "  if (length(players) == 0) {\n",
    "    players <- EXEMPLAR_PLAYERS\n",
    "    TITLE <- EXEMPLAR_TITLE\n",
    "  } else {\n",
    "    title <- TITLE\n",
    "  }\n",
    "  \n",
    "  # create dataframes to plot...\n",
    "  # filter those players with only 2 points and those with more than 2\n",
    "  this_df <- df[df$player %in% players, ]\n",
    "  print(this_df)\n",
    "  this_dfeq2 <- this_df %>% group_by(player) %>% filter(n()==2)\n",
    "  this_dfgt2 <- this_df %>% group_by(player) %>% filter(n()>2) \n",
    "\n",
    "  # produce the plot and return it\n",
    "  this_plot <- ggplot(this_df, aes(x=age, y=league, color=player, shape=player)) + \n",
    "    geom_point(size=2) + \n",
    "    geom_line(data=this_dfeq2, size=0.1) +\n",
    "    geom_smooth(data=this_dfgt2, se=FALSE, size=0.1) + \n",
    "    xlab(XLABEL) + \n",
    "    ylab(YLABEL) + \n",
    "    ggtitle(TITLE) + \n",
    "    scale_shape_manual(values=0:length(players)) +\n",
    "    theme(legend.text=element_text(size=10))\n",
    "  return (this_plot)\n",
    "}"
   ]
  },
  {
   "cell_type": "code",
   "execution_count": null,
   "metadata": {},
   "outputs": [],
   "source": [
    "%%R\n",
    "\n",
    "# Change log\n",
    "# v1, February 2016, original\n",
    "# v2, August 2019, enhance to ensure pretty printing of x and y axis\n",
    "ggplot_age_vs_lgoals <- function(df, players) {\n",
    "  # Return ggplot of League Goals vs Age for given players in dataframe.\n",
    "  #\n",
    "  #  Given the low number of points, ggplot's geom_smooth uses\n",
    "  #  the loess method with default span.\n",
    "  \n",
    "  TITLE <- 'LFCGMR League Goals vs Age'\n",
    "  XLABEL <- 'Age at Midpoint of Season'\n",
    "  YLABEL <- 'League Goals per Season'\n",
    "  EXEMPLAR_PLAYERS <- c('Ian Rush', 'Kenny Dalglish', 'Roger Hunt', 'David Johnson', \n",
    "                        'Harry Chambers', 'John Toshack', 'John Barnes', 'Kevin Keegan')\n",
    "  EXEMPLAR_TITLE <- 'LFCGMR Example Plot, The Champions: League Goals vs Age\n",
    "\n",
    "This plot shows the goalscoring performance over their Liverpool career of \n",
    "arguably the most important 8 players, those who scored most goals in the \n",
    "18 title winning seasons\n",
    "'\n",
    "  \n",
    "  # if players vector is empty then set the default exemplar options\n",
    "  if (length(players) == 0) {\n",
    "    players <- EXEMPLAR_PLAYERS\n",
    "    title <- EXEMPLAR_TITLE\n",
    "  } else {\n",
    "    title <- TITLE\n",
    "  }\n",
    "  \n",
    "  # create dataframes to plot...\n",
    "  # filter those players with only 2 points and those with more than 2\n",
    "  this_df <- df[df$player %in% players, ]\n",
    "  this_dfeq2 <- this_df %>% group_by(player) %>% filter(n()==2)\n",
    "  this_dfgt2 <- this_df %>% group_by(player) %>% filter(n()>2) \n",
    "  \n",
    "  # produce the plot and return it\n",
    "  this_plot <- ggplot(this_df, aes(x=age, y=league, color=player, shape=player)) + \n",
    "    geom_point(size=2) + \n",
    "    geom_line(data=this_dfeq2, size=0.5) +\n",
    "    geom_smooth(data=this_dfgt2, se=FALSE, size=0.8) + \n",
    "    xlab(XLABEL) + \n",
    "    ylab(YLABEL) + \n",
    "    ggtitle(title) + \n",
    "    scale_shape_manual(values=0:length(players)) +\n",
    "    theme(legend.text=element_text(size=10)) + \n",
    "    scale_y_continuous(breaks = function(x) unique(floor(pretty(seq(0, (max(x) + 1) * 1.1))))) + \n",
    "    ylim(c(0, max(this_df$league)+1)) + \n",
    "    scale_x_continuous(breaks = pretty_breaks())\n",
    "  return (this_plot)\n",
    "}"
   ]
  },
  {
   "cell_type": "markdown",
   "metadata": {},
   "source": [
    "### Explore different plots and check the funtion is well-behaved"
   ]
  },
  {
   "cell_type": "markdown",
   "metadata": {},
   "source": [
    "Note that one of the key challenges is that the function must cope with:\n",
    "- single points (for players who have only scored in 1 season)\n",
    "- straight lines (for players who have scored in 2 seasons)\n",
    "- curved lines, using a line of best fit (for players who have scored in more than 2 seasons)"
   ]
  },
  {
   "cell_type": "markdown",
   "metadata": {},
   "source": [
    "Start with the default plot"
   ]
  },
  {
   "cell_type": "code",
   "execution_count": null,
   "metadata": {},
   "outputs": [],
   "source": [
    "%%R -i dflfcgm -w 12 -h 8 -u in\n",
    "\n",
    "# show the default plot, showing the champions (see below for more info on 'The Champions')\n",
    "players = c()\n",
    "plt <- ggplot_age_vs_lgoals(dflfcgm, players)\n",
    "print(plt)"
   ]
  },
  {
   "cell_type": "markdown",
   "metadata": {},
   "source": [
    "Plot a player with a single point"
   ]
  },
  {
   "cell_type": "code",
   "execution_count": null,
   "metadata": {},
   "outputs": [],
   "source": [
    "# plot a player with a single point\n",
    "dflfcgm[dflfcgm.player=='Abel Xavier']"
   ]
  },
  {
   "cell_type": "code",
   "execution_count": null,
   "metadata": {},
   "outputs": [],
   "source": [
    "%%R -i dflfcgm -w 12 -h 8 -u in\n",
    "\n",
    "# plot a player with a single point\n",
    "players = c('Abel Xavier')\n",
    "plt <- ggplot_age_vs_lgoals(dflfcgm, players)\n",
    "print(plt)"
   ]
  },
  {
   "cell_type": "markdown",
   "metadata": {},
   "source": [
    "Plot a player with 2 points"
   ]
  },
  {
   "cell_type": "code",
   "execution_count": null,
   "metadata": {},
   "outputs": [],
   "source": [
    "# plot a player with 2 points\n",
    "dflfcgm[dflfcgm.player=='Andy Carroll']"
   ]
  },
  {
   "cell_type": "code",
   "execution_count": null,
   "metadata": {},
   "outputs": [],
   "source": [
    "%%R -i dflfcgm -w 12 -h 8 -u in\n",
    "\n",
    "# plot a player with 2 points\n",
    "players = c('Andy Carroll')\n",
    "plt <- ggplot_age_vs_lgoals(dflfcgm, players)\n",
    "print(plt)"
   ]
  },
  {
   "cell_type": "raw",
   "metadata": {},
   "source": [
    "Plot a player with more than 2 points"
   ]
  },
  {
   "cell_type": "code",
   "execution_count": null,
   "metadata": {},
   "outputs": [],
   "source": [
    "# plot a player with more than 2 points\n",
    "dflfcgm[dflfcgm.player=='Luis Suarez']"
   ]
  },
  {
   "cell_type": "code",
   "execution_count": null,
   "metadata": {},
   "outputs": [],
   "source": [
    "%%R -i dflfcgm -w 12 -h 8 -u in\n",
    "\n",
    "# plot a player with more than 2 points\n",
    "players = c('Luis Suarez')\n",
    "plt <- ggplot_age_vs_lgoals(dflfcgm, players)\n",
    "print(plt)"
   ]
  },
  {
   "cell_type": "markdown",
   "metadata": {},
   "source": [
    "Plot all 3, a player with 1, 2 and more than 2 points"
   ]
  },
  {
   "cell_type": "code",
   "execution_count": null,
   "metadata": {},
   "outputs": [],
   "source": [
    "# plot all 3\n",
    "dflfcgm[dflfcgm.player.isin(['Abel Xavier', 'Andy Carroll', 'Luis Suarez'])]"
   ]
  },
  {
   "cell_type": "code",
   "execution_count": null,
   "metadata": {},
   "outputs": [],
   "source": [
    "%%R -i dflfcgm -w 12 -h 8 -u in\n",
    "\n",
    "# Plot all 3, a player with 1, 2 and more than 2 points\n",
    "players = c('Abel Xavier', 'Andy Carroll', 'Luis Suarez')\n",
    "plt <- ggplot_age_vs_lgoals(dflfcgm, players)\n",
    "print(plt)"
   ]
  },
  {
   "cell_type": "markdown",
   "metadata": {},
   "source": [
    "### Show some interesting LFC plots"
   ]
  },
  {
   "cell_type": "markdown",
   "metadata": {},
   "source": [
    "Early Riser"
   ]
  },
  {
   "cell_type": "code",
   "execution_count": null,
   "metadata": {},
   "outputs": [],
   "source": [
    "# show all players scoring more than 20 goals when under 20 years old\n",
    "dflfcgm[(dflfcgm.league >= 20) & \n",
    "        (dflfcgm.age < 20)]"
   ]
  },
  {
   "cell_type": "code",
   "execution_count": null,
   "metadata": {},
   "outputs": [],
   "source": [
    "%%R -i dflfcgm -w 12 -h 8 -u in\n",
    "\n",
    "# produce plot for player known as 'god'\n",
    "players = c('Robbie Fowler')\n",
    "plt <- ggplot_age_vs_lgoals(dflfcgm, players)\n",
    "print(plt)"
   ]
  },
  {
   "cell_type": "markdown",
   "metadata": {},
   "source": [
    "Late Flourish"
   ]
  },
  {
   "cell_type": "code",
   "execution_count": null,
   "metadata": {},
   "outputs": [],
   "source": [
    "# show all players scoring more than 20 goals when over 30 years old\n",
    "df_late = dflfcgm[(dflfcgm.league >= 20) & \n",
    "                  (dflfcgm.age > 30)]\n",
    "players = list(df_late.player.values)\n",
    "print(players)\n",
    "df_late"
   ]
  },
  {
   "cell_type": "code",
   "execution_count": null,
   "metadata": {},
   "outputs": [],
   "source": [
    "%%R -i dflfcgm -w 12 -h 8 -u in\n",
    "\n",
    "players = c('John Aldridge', 'Jack Balmer', 'Gordon Hodgson', 'Dick Forshaw', 'Ronald Orr')\n",
    "plt <- ggplot_age_vs_lgoals(dflfcgm, players)\n",
    "print(plt)"
   ]
  },
  {
   "cell_type": "markdown",
   "metadata": {},
   "source": [
    "All time career top scorers"
   ]
  },
  {
   "cell_type": "code",
   "execution_count": null,
   "metadata": {},
   "outputs": [],
   "source": [
    "# show players scoring most league goals over their career\n",
    "df_top = dflfcgm[['player', 'league']].groupby('player').sum()\n",
    "df_top = df_top.sort_values('league', ascending=False).head(12)\n",
    "df_top"
   ]
  },
  {
   "cell_type": "code",
   "execution_count": null,
   "metadata": {},
   "outputs": [],
   "source": [
    "players = list(df_top[df_top.league >= 120].index.values)\n",
    "print(players)"
   ]
  },
  {
   "cell_type": "code",
   "execution_count": null,
   "metadata": {},
   "outputs": [],
   "source": [
    "%%R -i dflfcgm -w 12 -h 8 -u in\n",
    "\n",
    "players = c('Gordon Hodgson', 'Ian Rush', 'Roger Hunt', 'Harry Chambers', 'Robbie Fowler', 'Steven Gerrard')\n",
    "plt <- ggplot_age_vs_lgoals(dflfcgm, players)\n",
    "print(plt)"
   ]
  },
  {
   "cell_type": "markdown",
   "metadata": {},
   "source": [
    "Elite 30"
   ]
  },
  {
   "cell_type": "code",
   "execution_count": null,
   "metadata": {},
   "outputs": [],
   "source": [
    "# show players scoring >=30 league goals in a season\n",
    "df_elite = dflfcgm[['season', 'player', 'league']].sort_values('league', ascending=False)\n",
    "df_elite.head(10)"
   ]
  },
  {
   "cell_type": "code",
   "execution_count": null,
   "metadata": {},
   "outputs": [],
   "source": [
    "players = list(df_elite[df_elite.league > 30].player.unique())\n",
    "print(players)\n",
    "#ggplot_age_vs_lgoals(dflfc_scorers_tl_pos_age, list(players))"
   ]
  },
  {
   "cell_type": "code",
   "execution_count": null,
   "metadata": {},
   "outputs": [],
   "source": [
    "%%R -i dflfcgm players -w 12 -h 8 -u in\n",
    "\n",
    "players = c('Gordon Hodgson', 'Ian Rush', 'Mohamed Salah', 'Sam Raybould', 'Luis Suarez', 'Roger Hunt')\n",
    "plt <- ggplot_age_vs_lgoals(dflfcgm, players)\n",
    "print(plt)"
   ]
  },
  {
   "cell_type": "markdown",
   "metadata": {},
   "source": [
    "A Striking Trio\n",
    "- For a discusson of Liverpool's best ever trio see Terry's blog [A Striking Trio](http://www.lfcsorted.com/2015/07/lfc-striking-trio.html)"
   ]
  },
  {
   "cell_type": "code",
   "execution_count": null,
   "metadata": {},
   "outputs": [],
   "source": [
    "# show best total for a striking trio in the league\n",
    "df_trio = dflfcgm[['season', 'league']].groupby('season').head(3).groupby('season').sum()\n",
    "df_trio.sort_values('league', ascending=False).head(10)"
   ]
  },
  {
   "cell_type": "code",
   "execution_count": null,
   "metadata": {},
   "outputs": [],
   "source": [
    "TOP_TRIO = ['1963-1964']\n",
    "df_trio_players = dflfcgm[['season', 'player', 'league']]\\\n",
    "                                            [dflfcgm.season.isin(TOP_TRIO)].groupby('season').head(3)\n",
    "players = list(df_trio_players.player.values)\n",
    "print(players)\n",
    "df_trio_players"
   ]
  },
  {
   "cell_type": "code",
   "execution_count": null,
   "metadata": {},
   "outputs": [],
   "source": [
    "%%R -i dflfcgm -w 12 -h 8 -u in\n",
    "\n",
    "players = c('Roger Hunt', 'Ian St John', 'Alf Arrowsmith')\n",
    "plt <- ggplot_age_vs_lgoals(dflfcgm, players)\n",
    "print(plt)"
   ]
  },
  {
   "cell_type": "markdown",
   "metadata": {},
   "source": [
    "A Striking Duo"
   ]
  },
  {
   "cell_type": "code",
   "execution_count": null,
   "metadata": {},
   "outputs": [],
   "source": [
    "# show best total for a striking duo in the league\n",
    "df_duo = dflfcgm[['season', 'league']].groupby('season').head(2).groupby('season').sum()\n",
    "df_duo.sort_values('league', ascending=False).head(20)"
   ]
  },
  {
   "cell_type": "code",
   "execution_count": null,
   "metadata": {},
   "outputs": [],
   "source": [
    "TOP_DUO = ['1963-1964', '2013-2014']\n",
    "df_duo_players = dflfcgm[['season', 'player', 'league']]\\\n",
    "                             [dflfcgm.season.isin(TOP_DUO)].groupby('season').head(2)\n",
    "df_duo_players"
   ]
  },
  {
   "cell_type": "code",
   "execution_count": null,
   "metadata": {},
   "outputs": [],
   "source": [
    "# plot first of TOP_DUO seasons\n",
    "players = list(df_duo_players[df_duo_players.season == TOP_DUO[0]].player.values)\n",
    "print(players)"
   ]
  },
  {
   "cell_type": "code",
   "execution_count": null,
   "metadata": {},
   "outputs": [],
   "source": [
    "%%R -i dflfcgm -w 12 -h 8 -u in\n",
    "\n",
    "players = c('Roger Hunt', 'Ian St John')\n",
    "plt <- ggplot_age_vs_lgoals(dflfcgm, players)\n",
    "print(plt)"
   ]
  },
  {
   "cell_type": "code",
   "execution_count": null,
   "metadata": {},
   "outputs": [],
   "source": [
    "# plot second of TOP_DUO seasons\n",
    "players = list(df_duo_players[df_duo_players.season == TOP_DUO[1]].player.values)\n",
    "print(players)"
   ]
  },
  {
   "cell_type": "code",
   "execution_count": null,
   "metadata": {},
   "outputs": [],
   "source": [
    "%%R -i dflfcgm -w 12 -h 8 -u in\n",
    "\n",
    "players = c('Luis Suarez', 'Daniel Sturridge')\n",
    "plt <- ggplot_age_vs_lgoals(dflfcgm, players)\n",
    "print(plt)"
   ]
  },
  {
   "cell_type": "markdown",
   "metadata": {},
   "source": [
    "Performance of Liverpool players who went on to be managers"
   ]
  },
  {
   "cell_type": "code",
   "execution_count": null,
   "metadata": {},
   "outputs": [],
   "source": [
    "# produce list of managers - ref: http://www.lfchistory.net/Managers/\n",
    "MANAGERS = ['William Barclay', 'Tom Watson', 'David Ashworth', 'Matt McQueen', 'George Patterson',\\\n",
    "    'George Kay', 'Don Welsh', 'Phil Taylor', 'Bill Shankly', 'Bob Paisley', 'Joe Fagan',\\\n",
    "    'Kenny Dalglish', 'Graeme Souness', 'Roy Evans', 'Gerard Houllier',\\\n",
    "    'Rafael Benitez', 'Roy Hodgson', 'Kenny Dalglish', 'Brendan Rodgers', 'Jurgen Klopp']\n",
    "# excludes Ronnie Moran who was temporary manager in 1991"
   ]
  },
  {
   "cell_type": "code",
   "execution_count": null,
   "metadata": {},
   "outputs": [],
   "source": [
    "# produce list of players (who scored in more than 1 season at top level) who were managers\n",
    "df_mgrs = dflfcgm[['player', 'league']][dflfcgm.player.isin(MANAGERS)]\\\n",
    "                                        .groupby('player').sum().sort_values('league', ascending=False)\n",
    "df_mgrs"
   ]
  },
  {
   "cell_type": "code",
   "execution_count": null,
   "metadata": {},
   "outputs": [],
   "source": [
    "players = list(df_mgrs.index.values)\n",
    "print(players)"
   ]
  },
  {
   "cell_type": "code",
   "execution_count": null,
   "metadata": {},
   "outputs": [],
   "source": [
    "%%R -i dflfcgm -w 12 -h 8 -u in\n",
    "\n",
    "players = c('Kenny Dalglish', 'Graeme Souness', 'Phil Taylor', 'Bob Paisley')\n",
    "plt <- ggplot_age_vs_lgoals(dflfcgm, players)\n",
    "print(plt)"
   ]
  },
  {
   "cell_type": "markdown",
   "metadata": {},
   "source": [
    "Top midfielders"
   ]
  },
  {
   "cell_type": "code",
   "execution_count": null,
   "metadata": {},
   "outputs": [],
   "source": [
    "# show midfielders who have scored more than 15 goals\n",
    "df_mids = dflfcgm[(dflfcgm.position == 'Midfielder') &\n",
    "                    (dflfcgm.league > 15)].sort_values('league', ascending=False)\n",
    "df_mids"
   ]
  },
  {
   "cell_type": "code",
   "execution_count": null,
   "metadata": {},
   "outputs": [],
   "source": [
    "players = list(df_mids.sort_values('league', ascending=False).player.unique())\n",
    "print(len(players), players)"
   ]
  },
  {
   "cell_type": "code",
   "execution_count": null,
   "metadata": {},
   "outputs": [],
   "source": [
    "%%R -i dflfcgm -w 12 -h 8 -u in\n",
    "\n",
    "players = c('Billy Liddell', 'John Wark', 'Kenny Dalglish', 'Gordon Gunson', 'Steven Gerrard', 'John Barnes', 'Dick Edmed')\n",
    "plt <- ggplot_age_vs_lgoals(dflfcgm, players)\n",
    "print(plt)"
   ]
  },
  {
   "cell_type": "markdown",
   "metadata": {},
   "source": [
    "Top Defenders"
   ]
  },
  {
   "cell_type": "code",
   "execution_count": null,
   "metadata": {},
   "outputs": [],
   "source": [
    "# show defenders who have scored more than 6 goals\n",
    "df_defs = dflfcgm[(dflfcgm.position == 'Defender') &\n",
    "                  (dflfcgm.league > 6)].sort_values('league', ascending=False)\n",
    "df_defs"
   ]
  },
  {
   "cell_type": "code",
   "execution_count": null,
   "metadata": {},
   "outputs": [],
   "source": [
    "players = list(df_defs.sort_values('league', ascending=False).player.unique())\n",
    "print(len(players), players)"
   ]
  },
  {
   "cell_type": "code",
   "execution_count": null,
   "metadata": {},
   "outputs": [],
   "source": [
    "%%R -i dflfcgm -w 12 -h 8 -u in\n",
    "\n",
    "players = c('Chris Lawler', 'Phil Neal', 'James Milner', 'Martin Skrtel', 'John Arne Riise')\n",
    "plt <- ggplot_age_vs_lgoals(dflfcgm, players)\n",
    "print(plt)"
   ]
  },
  {
   "cell_type": "markdown",
   "metadata": {},
   "source": [
    "Peak Performance"
   ]
  },
  {
   "cell_type": "code",
   "execution_count": null,
   "metadata": {},
   "outputs": [],
   "source": [
    "# show player with top score in a season, Gordon Hodgson\n",
    "top_player = dflfcgm[dflfcgm.league == max(dflfcgm.league)]\n",
    "top_player"
   ]
  },
  {
   "cell_type": "code",
   "execution_count": null,
   "metadata": {},
   "outputs": [],
   "source": [
    "players = list(top_player.player.values)\n",
    "print(players)"
   ]
  },
  {
   "cell_type": "code",
   "execution_count": null,
   "metadata": {},
   "outputs": [],
   "source": [
    "%%R -i dflfcgm -w 12 -h 8 -u in\n",
    "\n",
    "players = c('Gordon Hodgson')\n",
    "plt <- ggplot_age_vs_lgoals(dflfcgm, players)\n",
    "print(plt)"
   ]
  },
  {
   "cell_type": "markdown",
   "metadata": {},
   "source": [
    "Rocket Men"
   ]
  },
  {
   "cell_type": "markdown",
   "metadata": {},
   "source": [
    "Show the players scored over 50  goals in 3 or more consecutive seasons, with a rising number of goals each season."
   ]
  },
  {
   "cell_type": "code",
   "execution_count": null,
   "metadata": {},
   "outputs": [],
   "source": [
    "# create dataframe ordered by player and season\n",
    "df = dflfcgm.groupby(['player', 'season']).sum()\n",
    "df.head(12)"
   ]
  },
  {
   "cell_type": "code",
   "execution_count": null,
   "metadata": {},
   "outputs": [],
   "source": [
    "def linefit(x, y):\n",
    "    \"\"\"\"Return gradient and intercept of straight line of best fit for given x and y arrays.\"\"\"\n",
    "    gradient, intercept = np.polyfit(x, y, 1)\n",
    "    return gradient, intercept"
   ]
  },
  {
   "cell_type": "code",
   "execution_count": null,
   "metadata": {},
   "outputs": [],
   "source": [
    "# test linefit()\n",
    "# using y = 2x^2 + 6\n",
    "x=np.array([-1, 0, 1, 2])\n",
    "print(x)\n",
    "y=2*x*x + 6\n",
    "print(y)\n",
    "print(plt.plot(x, y))\n",
    "gradient, intercept = linefit(x, y)\n",
    "print(np.round(gradient, 1), np.round(intercept, 1))\n",
    "print(plt.plot(x, gradient*x + intercept))"
   ]
  },
  {
   "cell_type": "code",
   "execution_count": null,
   "metadata": {},
   "outputs": [],
   "source": [
    "# Show the players scored over 50 goals in 3 or more consecutive seasons, with a rising number of goals each season.\n",
    "MIN_SEASONS = 3\n",
    "MIN_TOTAL_GOALS = 50\n",
    "p_prev = None # previous player\n",
    "l_prev = None # previous league goals\n",
    "Lg = [] # List of consecutive goals\n",
    "La = [] # List of consecutive ages\n",
    "Ls = [] # List of consecutive seasons\n",
    "\n",
    "# iterate through dataframe \n",
    "# for each row of (player, season) (league goals, age)\n",
    "for (p, s), (l, a) in df.iterrows():\n",
    "    #print (p,s,l,a)\n",
    "    if p != p_prev:\n",
    "        # new player, so check previous\n",
    "        if len(Lg) >= MIN_SEASONS and sum(Lg) >= MIN_TOTAL_GOALS:\n",
    "            grad, intercept = linefit(np.array(range(len(Lg))), np.array(Lg))\n",
    "            print('Rocket man: {}, goals={}, start_season={}, start_age={}, goals={}, grad={}'\\\n",
    "                                .format(p_prev, Lg, Ls[0], La[0], sum(Lg), np.round(grad, 2)))\n",
    "            \n",
    "        #print('new p', p)\n",
    "        l_prev = None\n",
    "        Lg = []\n",
    "        La = []\n",
    "        Ls = []\n",
    "        \n",
    "    #print(p, s, l, a) #player, season, league, age\n",
    "    #print(l, l_prev, Lg)\n",
    "    if (l_prev == None) or (l >= l_prev):\n",
    "        #print('\\t', l, 'greater than', l_prev, Lg)\n",
    "        Lg.append(l)\n",
    "        La.append(a)\n",
    "        Ls.append(s)\n",
    "    else:\n",
    "        if len(Lg) >= MIN_SEASONS and sum(Lg) >= MIN_TOTAL_GOALS:\n",
    "            grad, intercept = linefit(np.array(range(len(Lg))), np.array(Lg))\n",
    "            print('Rocket man: {}, goals={}, start_season={}, start_age={}, goals={}, grad={}'\\\n",
    "                  .format(p_prev, Lg, Ls[0], La[0], sum(Lg), np.round(grad, 2)))\n",
    "        Lg = [l]\n",
    "        La = [a]\n",
    "        Ls = [s]\n",
    "    \n",
    "    l_prev = l\n",
    "    p_prev = p\n",
    "            "
   ]
  },
  {
   "cell_type": "markdown",
   "metadata": {},
   "source": [
    "Top 5 Rocket Men (sorted by gradient of line of best fit) are\n",
    "- Dick Forshaw, 11\n",
    "- Luis Suarez, 9.3\n",
    "- Gordon Hodgson, 8.5\n",
    "- Ian Rush, 8.0\n",
    "- Robbie Fowler, 8.0"
   ]
  },
  {
   "cell_type": "code",
   "execution_count": null,
   "metadata": {},
   "outputs": [],
   "source": [
    "# show example graph of the rocket portion of the players career e.g. Robbie Fowler\n",
    "p = 'Robbie Fowler'\n",
    "Lg = [12.0, 25.0, 28.0]\n",
    "dfp = dflfcgm[(dflfcgm.player == p) &\n",
    "              (dflfcgm.league.isin(Lg))]\n",
    "print(dfp)\n",
    "#print ggplot_age_vs_lgoals(dfp, [p])"
   ]
  },
  {
   "cell_type": "code",
   "execution_count": null,
   "metadata": {},
   "outputs": [],
   "source": [
    "%%R -i dfp -w 12 -h 8 -u in\n",
    "\n",
    "players = c('Robbie Fowler')\n",
    "plt <- ggplot_age_vs_lgoals(dfp, players)\n",
    "print(plt)"
   ]
  },
  {
   "cell_type": "markdown",
   "metadata": {},
   "source": [
    "Striking Nostalgia"
   ]
  },
  {
   "cell_type": "code",
   "execution_count": null,
   "metadata": {},
   "outputs": [],
   "source": [
    "# Just a few of my early favourites\n",
    "players = ['Kevin Keegan', 'Kenny Dalglish', 'Steve Heighway']"
   ]
  },
  {
   "cell_type": "code",
   "execution_count": null,
   "metadata": {},
   "outputs": [],
   "source": [
    "%%R -i dflfcgm -w 12 -h 8 -u in\n",
    "\n",
    "players = c('Kevin Keegan', 'Kenny Dalglish', 'Steve Heighway')\n",
    "plt <- ggplot_age_vs_lgoals(dflfcgm, players)\n",
    "print(plt)"
   ]
  },
  {
   "cell_type": "markdown",
   "metadata": {},
   "source": [
    "Highest scoring midfielders over career"
   ]
  },
  {
   "cell_type": "code",
   "execution_count": null,
   "metadata": {},
   "outputs": [],
   "source": [
    "df = dflfcgm[(dflfcgm.position == 'Midfielder')]\\\n",
    "                            .groupby('player').sum()\n",
    "print(df[df.league > 50].sort_values('league', ascending=False)['league'])\n",
    "players = df[df.league > 50].sort_values('league', ascending=False).index.unique()\n",
    "print(len(players), list(players))"
   ]
  },
  {
   "cell_type": "code",
   "execution_count": null,
   "metadata": {},
   "outputs": [],
   "source": [
    "%%R -i dflfcgm -w 12 -h 8 -u in\n",
    "\n",
    "players = c('Steven Gerrard', 'Billy Liddell', 'Berry Nieuwenhuys', 'Arthur Goddard', 'Jack Cox', 'John Barnes', 'Terry McDermott')\n",
    "plt <- ggplot_age_vs_lgoals(dflfcgm, players)\n",
    "print(plt)"
   ]
  },
  {
   "cell_type": "markdown",
   "metadata": {},
   "source": [
    "Highest scoring defenders over career"
   ]
  },
  {
   "cell_type": "code",
   "execution_count": null,
   "metadata": {},
   "outputs": [],
   "source": [
    "df = dflfcgm[(dflfcgm.position == 'Defender')]\\\n",
    "                            .groupby('player').sum()\n",
    "print(df[df.league > 20].sort_values('league', ascending=False)['league'])\n",
    "players = df[df.league > 20].sort_values('league', ascending=False).index.unique()\n",
    "print(len(players), list(players))"
   ]
  },
  {
   "cell_type": "code",
   "execution_count": null,
   "metadata": {},
   "outputs": [],
   "source": [
    "%%R -i dflfcgm -w 12 -h 8 -u in\n",
    "\n",
    "players = c('Chris Lawler', 'Phil Neal', 'Tommy Smith', 'Donald Mackinlay', 'Steve Nicol', 'Sami Hyypia', 'John Arne Riise')\n",
    "plt <- ggplot_age_vs_lgoals(dflfcgm, players)\n",
    "print(plt)"
   ]
  },
  {
   "cell_type": "markdown",
   "metadata": {
    "collapsed": true
   },
   "source": [
    "The Champions\n",
    "\n",
    "This plot shows the goalscoring performance over their Liverpool career of \n",
    "arguably the most important 8 players, those who scored most goals in the \n",
    "18 title winning seasons"
   ]
  },
  {
   "cell_type": "code",
   "execution_count": null,
   "metadata": {},
   "outputs": [],
   "source": [
    "# create list of seasons when LFC were champions\n",
    "CHAMPS = ['1900-1901', '1905-1906', '1921-1922', '1922-1923', '1946-1947', '1963-1964',\\\n",
    "          '1965-1966', '1972-1973', '1975-1976', '1976-1977', '1978-1979', '1979-1980',\\\n",
    "          '1981-1982', '1982-1983', '1983-1984', '1985-1986', '1987-1988', '1989-1990']\n",
    "print(len(CHAMPS))"
   ]
  },
  {
   "cell_type": "code",
   "execution_count": null,
   "metadata": {},
   "outputs": [],
   "source": [
    "# show total goals over career in title winning teams\n",
    "df_champs = dflfcgm[dflfcgm.season.isin(CHAMPS)][['league', 'player']].groupby('player').sum()\\\n",
    "                            .sort_values('league', ascending=False).head(12)\n",
    "df_champs"
   ]
  },
  {
   "cell_type": "code",
   "execution_count": null,
   "metadata": {},
   "outputs": [],
   "source": [
    "# plot top 8\n",
    "players = list(df_champs.index.values[:8])\n",
    "print(players)"
   ]
  },
  {
   "cell_type": "code",
   "execution_count": null,
   "metadata": {},
   "outputs": [],
   "source": [
    "%%R -i dflfcgm -w 12 -h 8 -u in\n",
    "\n",
    "players = c('Ian Rush', 'Kenny Dalglish', 'Roger Hunt', 'David Johnson', 'Harry Chambers', 'John Toshack', 'John Barnes', 'Kevin Keegan')\n",
    "plt <- ggplot_age_vs_lgoals(dflfcgm, players)\n",
    "print(plt)"
   ]
  },
  {
   "cell_type": "code",
   "execution_count": null,
   "metadata": {},
   "outputs": [],
   "source": [
    "# show highest scorers in a title winning season\n",
    "dflfcgm[dflfcgm.season.isin(CHAMPS)].sort_values('league', ascending=False).head(12)"
   ]
  },
  {
   "cell_type": "markdown",
   "metadata": {
    "collapsed": true
   },
   "source": [
    "European Cup Winning Team, May 1977"
   ]
  },
  {
   "cell_type": "code",
   "execution_count": null,
   "metadata": {},
   "outputs": [],
   "source": [
    "players = ['Ray Clemence', 'Phil Neal', 'Joey Jones', 'Tommy Smith',\n",
    "           'Ray Kennedy', 'Emlyn Hughes', 'Kevin Keegan', 'Jimmy Case',\n",
    "           'Steve Heighway', 'Ian Callaghan', 'Terry McDermott']\n",
    "print(players)"
   ]
  },
  {
   "cell_type": "code",
   "execution_count": null,
   "metadata": {},
   "outputs": [],
   "source": [
    "%%R -i dflfcgm -w 12 -h 8 -u in\n",
    "\n",
    "players = c('Ray Clemence', 'Phil Neal', 'Joey Jones', 'Tommy Smith', 'Ray Kennedy', 'Emlyn Hughes', 'Kevin Keegan', 'Jimmy Case', 'Steve Heighway', 'Ian Callaghan', 'Terry McDermott')\n",
    "plt <- ggplot_age_vs_lgoals(dflfcgm, players)\n",
    "print(plt)"
   ]
  },
  {
   "cell_type": "markdown",
   "metadata": {},
   "source": [
    "Best goals per game"
   ]
  },
  {
   "cell_type": "raw",
   "metadata": {},
   "source": [
    "# calculate GPG for each player season\n",
    "dflfc_scorers_tl_pos_age_apps['GPG'] = (dflfc_scorers_tl_pos_age_apps.league/dflfc_scorers_tl_pos_age_apps.lgapp).round(3)"
   ]
  },
  {
   "cell_type": "code",
   "execution_count": null,
   "metadata": {},
   "outputs": [],
   "source": [
    "dflfc_scorers_tl_pos_age_apps.head()"
   ]
  },
  {
   "cell_type": "code",
   "execution_count": null,
   "metadata": {},
   "outputs": [],
   "source": [
    "# show best GPG per season where appearance > 10\n",
    "dflfc_scorers_tl_pos_age_apps[dflfc_scorers_tl_pos_age_apps.lgapp > 10].sort_values('GPG', ascending=False).head(15)"
   ]
  },
  {
   "cell_type": "code",
   "execution_count": null,
   "metadata": {},
   "outputs": [],
   "source": [
    "# show best Career GPG (CGPG) per career where appearance > 50\n",
    "df_gpg = dflfc_scorers_tl_pos_age_apps[['player', 'league', 'lgapp']].groupby('player').sum()\n",
    "df_gpg['CGPG'] = (df_gpg.league/df_gpg.lgapp).round(3) # career goals per game\n",
    "df_gpg['CMPG'] = (df_gpg.lgapp*90/df_gpg.league).round(3) # career minutes per goal (assume all apps = 90 mins)\n",
    "df_gpg[df_gpg.lgapp > 50].sort_values('CGPG', ascending=False).head(12)"
   ]
  },
  {
   "cell_type": "code",
   "execution_count": null,
   "metadata": {},
   "outputs": [],
   "source": [
    "# plot top 6 goal scorers with best Career GPG\n",
    "players = list(df_gpg[df_gpg.lgapp > 50].sort_values('CGPG', ascending=False).head(6).index.values)\n",
    "print(players)"
   ]
  },
  {
   "cell_type": "code",
   "execution_count": null,
   "metadata": {},
   "outputs": [],
   "source": [
    "%%R -i dflfcgm -w 12 -h 8 -u in\n",
    "\n",
    "players = c('Mohamed Salah', 'Gordon Hodgson', 'Fernando Torres', 'Luis Suarez', 'Jimmy Smith', 'John Aldridge')\n",
    "plt <- ggplot_age_vs_lgoals(dflfcgm, players)\n",
    "print(plt)"
   ]
  },
  {
   "cell_type": "markdown",
   "metadata": {},
   "source": [
    "## Note on the variable number of games per season"
   ]
  },
  {
   "cell_type": "markdown",
   "metadata": {},
   "source": [
    "Note that the number of league games has varied over the top level seasons."
   ]
  },
  {
   "cell_type": "code",
   "execution_count": null,
   "metadata": {},
   "outputs": [],
   "source": [
    "# show number of different total games\n",
    "print(dflfc_league[dflfc_league.League.isin(['1st Division', 'Premier League'])].PLD.unique())"
   ]
  },
  {
   "cell_type": "code",
   "execution_count": null,
   "metadata": {},
   "outputs": [],
   "source": [
    "# show number of seasons for each total\n",
    "dflfc_league[dflfc_league.League.isin(['1st Division', 'Premier League'])][['PLD', 'Season']].groupby('PLD').count()"
   ]
  },
  {
   "cell_type": "code",
   "execution_count": null,
   "metadata": {
    "scrolled": true
   },
   "outputs": [],
   "source": [
    "# show the seasons for each total\n",
    "dflfc_league[dflfc_league.League.isin(['1st Division', 'Premier League'])][['PLD', 'Season']]\\\n",
    "                        .groupby('PLD')['Season'].apply(lambda x: ','.join(x))"
   ]
  },
  {
   "cell_type": "code",
   "execution_count": null,
   "metadata": {},
   "outputs": [],
   "source": []
  },
  {
   "cell_type": "markdown",
   "metadata": {},
   "source": [
    "## lfcgmR App"
   ]
  },
  {
   "cell_type": "markdown",
   "metadata": {
    "collapsed": true
   },
   "source": [
    "### Building and Deploying the lfcgmR App"
   ]
  },
  {
   "cell_type": "markdown",
   "metadata": {},
   "source": [
    "The lfcgmR interactive web app is built using R Shiny and published using their cloud platform.\n",
    "\n",
    "Useful reference material:\n",
    "+ How to develop a shiny app [https://shiny.rstudio.com/](https://shiny.rstudio.com/)."
   ]
  },
  {
   "cell_type": "markdown",
   "metadata": {},
   "source": [
    "### Running the App"
   ]
  },
  {
   "cell_type": "markdown",
   "metadata": {},
   "source": [
    "The app is available at [lfcgmr.lfcsorted.com](http://lfcgmr.lfcsorted.com) and [terrydolan.shinyapps.io/lfcgmR](https://terrydolan.shinyapps.io/lfcgmR/)."
   ]
  },
  {
   "cell_type": "markdown",
   "metadata": {},
   "source": [
    "### App Source Code"
   ]
  },
  {
   "cell_type": "markdown",
   "metadata": {},
   "source": [
    "The lfcgmR source code is available on github at [lfcgmR github repo](https://github.com/terrydolan/lfcgmR).\n",
    "\n",
    "The main files are:\n",
    "+ ui.R: user interface definition.\n",
    "+ server.R: server definition, with main plot and table functions.\n",
    "+ global.R: global definition e.g. version.\n",
    "+ about.R: description of the app.\n",
    "+ lfcgmR.ipynb: this notebook."
   ]
  },
  {
   "cell_type": "markdown",
   "metadata": {},
   "source": [
    "## App Data"
   ]
  },
  {
   "cell_type": "markdown",
   "metadata": {},
   "source": [
    "The LFC Goal Machine app uses the following data files:\n",
    "+ data/lfcgm_app_dropdown.csv (used to build the dropdown list of players)\n",
    "+ data/lfc_scorers_tl_pos_age.csv (used to build the pandas dataframe of LFC scorers in top level league)\n",
    "\n",
    "The data structure of these files is described in this notebook. However the data is not in the lfcgm github repository because the data is owned by [lfchistory.net](http://www.lfchistory.net)."
   ]
  },
  {
   "cell_type": "code",
   "execution_count": null,
   "metadata": {},
   "outputs": [],
   "source": []
  },
  {
   "cell_type": "code",
   "execution_count": null,
   "metadata": {},
   "outputs": [],
   "source": [
    "print(\"reached final cell\")"
   ]
  },
  {
   "cell_type": "code",
   "execution_count": null,
   "metadata": {},
   "outputs": [],
   "source": []
  }
 ],
 "metadata": {
  "kernelspec": {
   "display_name": "Python 3",
   "language": "python",
   "name": "python3"
  },
  "language_info": {
   "codemirror_mode": {
    "name": "ipython",
    "version": 3
   },
   "file_extension": ".py",
   "mimetype": "text/x-python",
   "name": "python",
   "nbconvert_exporter": "python",
   "pygments_lexer": "ipython3",
   "version": "3.7.4"
  }
 },
 "nbformat": 4,
 "nbformat_minor": 1
}
