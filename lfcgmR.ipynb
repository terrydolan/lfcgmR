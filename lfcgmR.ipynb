{
 "cells": [
  {
   "cell_type": "markdown",
   "metadata": {},
   "source": [
    "# The LFC Goal Machine (R version)"
   ]
  },
  {
   "cell_type": "markdown",
   "metadata": {},
   "source": [
    "This python3 notebook analyses Liverpool FC's goal scorers, in particular exploring a scatter plot of a player's top level league goals scored in a season against the age of the player at the mid-point of that season. The plot is available as an interactive web app called the LFC Goal Machine [here](https://terrydolan.shinyapps.io/lfcgmR/). \n",
    "\n",
    "The notebook generates and validates the required data (based on reference data from lfchistory.net) and prototypes the key parts of the R application. Python is used for the data preparation and analysis, and R is used for the interactive application and plotting. The application's core plotting function uses R's ggplot2.\n",
    "\n",
    "The notebook contains the key algorithms, some interesting LFC player plots and describes how the lfcgmR app is built and deployed.\n",
    "\n",
    "The project uses [Anaconda](https://www.anaconda.com/), [Jupyter Notebook](http://jupyter.org/), [Python](https://www.python.org/), [Pandas](http://pandas.pydata.org/), [rpy2](https://rpy2.readthedocs.io/), [R](https://www.r-project.org/), [R ggplot](http://ggplot2.org/), [R studio](https://www.rstudio.com/), [R Shiny](http://shiny.rstudio.com/), [R Dplyr](https://cran.r-project.org/web/packages/dplyr/index.html), [R Scales](https://cran.r-project.org/web/packages/scales/index.html)."
   ]
  },
  {
   "cell_type": "markdown",
   "metadata": {},
   "source": [
    "__Application History, at August 2019__\n",
    "\n",
    "The original lfcgm interactive application (built around 2016) was contained a shared core plotting function and was deployed as both a Python app (using Spyre and Heroku) and an R app (using RStudio). Both of these verions had ggplot at their core; with the R implementation using ggplot2 and the python implementation using yhat 'port' of ggplot2. The R ggplot implementation is excellent and the original objective was always to have the core plotting algorithm defined in ggplot.\n",
    "\n",
    "The original python app used yhat's ggplot. The yhat ggplot developer has taken the decision to not to continue to R-like version for python. The latest version of yhat's ggplot is 'work in progress'. There are several other ggplot-like developments that are also available in python. All of these projects aim to be pythonic thereby making it difficult to maintain a single core function based on ggplot that can be shared between Rython and R. \n",
    "\n",
    "Also, R Studio makes it very easy to develop and deploy interactive web apps. The nearest equivalent in python in 2016 was Spyre in conjunction with Heroku. Spyre is no longer developed.\n",
    "\n",
    "Therefore I've decided to maintain only the R version of the lfcgm app. However, this remains a hybrid Python and R development. Python infrastructure (Pandas, etc) is used to generate and validate the required data, and explore the core plotting function. The Python rpy2 library is used to run R commands in a python3 notebook."
   ]
  },
  {
   "cell_type": "markdown",
   "metadata": {},
   "source": [
    "## Notebook Approach"
   ]
  },
  {
   "cell_type": "markdown",
   "metadata": {},
   "source": [
    "This python3 notebook prepares and validates the data and algorithms for the LFC Goal Machine app (lfcgmR). \n",
    "\n",
    "1. Load the input data files, enhance (e.g. add player age at season midpoint) and generate the required lfcgmR application data. The application requires 2 csvs:\n",
    " - data/lfc_scorers_tl_pos_age.csv: containing all of the LFC scorers in the top flight seasons with their age.\n",
    " - data/lfcgm_app_dropdown.csv: containing a dropdown list of those scorers.\n",
    "\n",
    "1. Validate the generated data.\n",
    "\n",
    "1. Validate the core r plotting algorithm (using R's ggplot2).\n",
    "\n",
    "1. Describe the lfcgmR app, with a link to the github source code.\n",
    "\n",
    "The lfcgmR app is available as an interactive web app [here](https://terrydolan.shinyapps.io/lfcgmR/). "
   ]
  },
  {
   "cell_type": "markdown",
   "metadata": {},
   "source": [
    "### Notebook Change Log"
   ]
  },
  {
   "cell_type": "code",
   "execution_count": 1,
   "metadata": {},
   "outputs": [
    {
     "data": {
      "text/html": [
       "<! left align the change log table in next cell >\n",
       "<style>\n",
       "table {float:left}\n",
       "</style>\n"
      ],
      "text/plain": [
       "<IPython.core.display.HTML object>"
      ]
     },
     "metadata": {},
     "output_type": "display_data"
    }
   ],
   "source": [
    "%%html\n",
    "<! left align the change log table in next cell >\n",
    "<style>\n",
    "table {float:left}\n",
    "</style>"
   ]
  },
  {
   "cell_type": "markdown",
   "metadata": {},
   "source": [
    "| Date          | Change Description |\n",
    "| :------------- | :----------------- |\n",
    "| 21st February 2016 | Initial python and r baseline versions|\n",
    "| 30th October 2016 | Added LFC season 2015-16 |\n",
    "| 12th October 2017 | Added LFC season 2016-17 |\n",
    "| 31st August 2019 | Added LFC seasons 2017-18 and 2018-19; Moved to Python 3; restuctured the application to focus on R version; updated function to generate age at midpoint of season; improved the data validation; enhanced R app to: improve core plotting function, especially y axis ints; add table tab to show the data table |"
   ]
  },
  {
   "cell_type": "markdown",
   "metadata": {},
   "source": [
    "To Do\n",
    "- Review latest R Studio UI presentation and controls to see if application can be improved.\n",
    "\n",
    "- Consider extending app to also allow sort by season(s) rather than age; allow overlapping seasons?"
   ]
  },
  {
   "cell_type": "markdown",
   "metadata": {},
   "source": [
    "## Set-Up"
   ]
  },
  {
   "cell_type": "markdown",
   "metadata": {},
   "source": [
    "### Environment"
   ]
  },
  {
   "cell_type": "markdown",
   "metadata": {},
   "source": [
    "This notebook uses an Anaconda py37r environment."
   ]
  },
  {
   "cell_type": "code",
   "execution_count": 2,
   "metadata": {},
   "outputs": [
    {
     "name": "stdout",
     "output_type": "stream",
     "text": [
      "# conda environments:\n",
      "#\n",
      "base                     C:\\Users\\Terry_2\\Anaconda3\n",
      "py37r                 *  C:\\Users\\Terry_2\\Anaconda3\\envs\\py37r\n",
      "rstudio                  C:\\Users\\Terry_2\\Anaconda3\\envs\\rstudio\n",
      "\n"
     ]
    }
   ],
   "source": [
    "# This notebook requires a Python 3 (3.7+) and R (3.6+) environment\n",
    "# Show active conda env\n",
    "!conda env list"
   ]
  },
  {
   "cell_type": "code",
   "execution_count": 3,
   "metadata": {},
   "outputs": [
    {
     "name": "stdout",
     "output_type": "stream",
     "text": [
      "Python 3.7.4\n"
     ]
    }
   ],
   "source": [
    "!Python --version"
   ]
  },
  {
   "cell_type": "code",
   "execution_count": 4,
   "metadata": {},
   "outputs": [
    {
     "name": "stderr",
     "output_type": "stream",
     "text": [
      "R version 3.6.0 (2019-04-26) -- \"Planting of a Tree\"\n",
      "Copyright (C) 2019 The R Foundation for Statistical Computing\n",
      "Platform: x86_64-w64-mingw32/x64 (64-bit)\n",
      "\n",
      "R is free software and comes with ABSOLUTELY NO WARRANTY.\n",
      "You are welcome to redistribute it under the terms of the\n",
      "GNU General Public License versions 2 or 3.\n",
      "For more information about these matters see\n",
      "https://www.gnu.org/licenses/.\n",
      "\n"
     ]
    }
   ],
   "source": [
    "!R --version"
   ]
  },
  {
   "cell_type": "markdown",
   "metadata": {},
   "source": [
    "### Import the python modules needed for the analysis."
   ]
  },
  {
   "cell_type": "code",
   "execution_count": 5,
   "metadata": {},
   "outputs": [],
   "source": [
    "import pandas as pd\n",
    "import numpy as np\n",
    "import matplotlib as mpl\n",
    "import matplotlib.pyplot as plt\n",
    "import dateutil as du\n",
    "import dateutil.relativedelta as dr\n",
    "import sys\n",
    "import os\n",
    "\n",
    "# enable inline plotting\n",
    "%matplotlib inline\n",
    "\n",
    "# activate the rpy capability so that R commands can be run in this notebook\n",
    "from rpy2.robjects import pandas2ri\n",
    "pandas2ri.activate()\n",
    "import rpy2\n",
    "\n",
    "# load the extension for the %%R cell magic\n",
    "%load_ext rpy2.ipython"
   ]
  },
  {
   "cell_type": "markdown",
   "metadata": {},
   "source": [
    "Print key module version numbers."
   ]
  },
  {
   "cell_type": "code",
   "execution_count": 6,
   "metadata": {},
   "outputs": [
    {
     "name": "stdout",
     "output_type": "stream",
     "text": [
      "python version: 3.7.4 (default, Aug  9 2019, 18:34:13) [MSC v.1915 64 bit (AMD64)]\n",
      "pandas version: 0.25.0\n",
      "numpy version: 1.16.4\n",
      "matplotlib version: 3.1.0\n",
      "dateutil version: 2.8.0\n",
      "rpy2 version: 2.9.4\n"
     ]
    }
   ],
   "source": [
    "print('python version: {}'.format(sys.version))\n",
    "print('pandas version: {}'.format(pd.__version__))\n",
    "print('numpy version: {}'.format(np.__version__))\n",
    "print('matplotlib version: {}'.format(mpl.__version__))\n",
    "print('dateutil version: {}'.format(du.__version__))\n",
    "print('rpy2 version: {}'.format(rpy2.__version__))"
   ]
  },
  {
   "cell_type": "markdown",
   "metadata": {},
   "source": [
    "## Prepare The Data Files"
   ]
  },
  {
   "cell_type": "markdown",
   "metadata": {},
   "source": [
    "### Define name and location of csv data files"
   ]
  },
  {
   "cell_type": "code",
   "execution_count": 7,
   "metadata": {},
   "outputs": [
    {
     "name": "stdout",
     "output_type": "stream",
     "text": [
      "\n",
      "Location of the input csv data files:\n",
      "LFC scorers csv file is: data\\lfc_scorers_1892-1893_2018-2019.csv\n",
      "LFC squads csv file is: data\\lfc_squads_1892-1893_2018-2019.csv\n",
      "LFC appearances csv file is: data\\lfc_apps_1892-1893_2018-2019.csv\n",
      "LFC league csv file is: data\\lfc_league_1893-1894_2018-2019.csv\n",
      "LFC league csv file is: data\\lfc_players_August2019_upd.csv\n",
      "\n",
      "Location of the generated csv data files:\n",
      "LFC scorers in top league with position and age is: data\\lfc_scorers_tl_pos_age.csv\n",
      "LFC goal machine dropdown is: data\\lfcgm_app_dropdown.csv\n"
     ]
    }
   ],
   "source": [
    "# define key seasons\n",
    "LG_SEASON_START = '1893-1894' # first league season (2nd Division)\n",
    "SEASON_START = '1892-1893' # first season in existance\n",
    "# modify the following, as required\n",
    "SEASON_END = '2018-2019' # most recent season\n",
    "PLAYERS_CSV_MONTH = 'August' # month of players csv extract\n",
    "PLAYERS_CSV_YEAR = '2019' # year of players csv extract\n",
    "NUMBER_OF_SEASONS = 104 # 104 in 2018-2019\n",
    "\n",
    "# define input csv files\n",
    "print('\\nLocation of the input csv data files:')\n",
    "\n",
    "# define scorers CSV file name (and check exists)\n",
    "SCORERS_PREFIX = 'lfc_scorers'\n",
    "SCORERS_CSV_FILE = '{}_{}_{}.csv'.format(SCORERS_PREFIX, SEASON_START, SEASON_END)\n",
    "LFC_SCORERS_CSV_FILE = os.path.relpath('data/{}'.format(SCORERS_CSV_FILE))\n",
    "assert os.path.isfile(LFC_SCORERS_CSV_FILE) \n",
    "print('LFC scorers csv file is: {}'.format(LFC_SCORERS_CSV_FILE))\n",
    "\n",
    "# define squads CSV file name (and check exists)\n",
    "SQUADS_PREFIX = 'lfc_squads'\n",
    "SQUADS_CSV_FILE = '{}_{}_{}.csv'.format(SQUADS_PREFIX, SEASON_START, SEASON_END)\n",
    "LFC_SQUADS_CSV_FILE = os.path.relpath('data/{}'.format(SQUADS_CSV_FILE))\n",
    "assert os.path.isfile(LFC_SQUADS_CSV_FILE) \n",
    "print('LFC squads csv file is: {}'.format(LFC_SQUADS_CSV_FILE))\n",
    "\n",
    "# define player appearances CSV file name (and check exists)\n",
    "APPS_PREFIX = 'lfc_apps'\n",
    "APPS_CSV_FILE = '{}_{}_{}.csv'.format(APPS_PREFIX, SEASON_START, SEASON_END)\n",
    "LFC_APPS_CSV_FILE = os.path.relpath('data/{}'.format(APPS_CSV_FILE))\n",
    "assert os.path.isfile(LFC_APPS_CSV_FILE) \n",
    "print('LFC appearances csv file is: {}'.format(LFC_APPS_CSV_FILE))\n",
    "\n",
    "# define league CSV file name (and check exists)\n",
    "LEAGUE_PREFIX = 'lfc_league'\n",
    "LEAGUE_CSV_FILE = '{}_{}_{}.csv'.format(LEAGUE_PREFIX, LG_SEASON_START, SEASON_END)\n",
    "LFC_LEAGUE_CSV_FILE = os.path.relpath('data/{}'.format(LEAGUE_CSV_FILE))\n",
    "assert os.path.isfile(LFC_LEAGUE_CSV_FILE) \n",
    "print('LFC league csv file is: {}'.format(LFC_LEAGUE_CSV_FILE))\n",
    "                                          \n",
    "# define players CSV file name (and check exists)\n",
    "PLAYERS_PREFIX = 'lfc_players'\n",
    "PLAYERS_CSV_FILE_UPDATED = '{}_{}{}_upd.csv'.format(PLAYERS_PREFIX, PLAYERS_CSV_MONTH, PLAYERS_CSV_YEAR)\n",
    "LFC_PLAYERS_CSV_FILE_UPDATED = os.path.relpath('data/{}'.format(PLAYERS_CSV_FILE_UPDATED))\n",
    "assert os.path.isfile(LFC_PLAYERS_CSV_FILE_UPDATED) \n",
    "print('LFC league csv file is: {}'.format(LFC_PLAYERS_CSV_FILE_UPDATED))\n",
    "\n",
    "# define generated csv files (this is the data used by the lfcgm app)\n",
    "print('\\nLocation of the generated csv data files:')\n",
    "\n",
    "# define scorers in top league with position and age CSV file name\n",
    "LFC_SCORERS_TL_POS_AGE_CSV_FILE = os.path.relpath('data/lfc_scorers_tl_pos_age.csv')\n",
    "print('LFC scorers in top league with position and age is: {}'.format(LFC_SCORERS_TL_POS_AGE_CSV_FILE))\n",
    "\n",
    "# define dropdown CSV file name\n",
    "LFCGM_DROPDOWN = os.path.relpath('data/lfcgm_app_dropdown.csv')\n",
    "print('LFC goal machine dropdown is: {}'.format(LFCGM_DROPDOWN))"
   ]
  },
  {
   "cell_type": "code",
   "execution_count": null,
   "metadata": {},
   "outputs": [],
   "source": []
  },
  {
   "cell_type": "markdown",
   "metadata": {},
   "source": [
    "## Load The LFC Data Into Dataframes And Munge"
   ]
  },
  {
   "cell_type": "markdown",
   "metadata": {
    "collapsed": true
   },
   "source": [
    "### Create a dataframe of scorers in top level league seasons\n",
    "Input data source: lfchistory.net"
   ]
  },
  {
   "cell_type": "code",
   "execution_count": 8,
   "metadata": {},
   "outputs": [
    {
     "name": "stdout",
     "output_type": "stream",
     "text": [
      "Loading LFC scorers csv from data\\lfc_scorers_1892-1893_2018-2019.csv\n"
     ]
    },
    {
     "data": {
      "text/plain": [
       "(1462, 3)"
      ]
     },
     "execution_count": 8,
     "metadata": {},
     "output_type": "execute_result"
    }
   ],
   "source": [
    "print('Loading LFC scorers csv from {}'.format(LFC_SCORERS_CSV_FILE))\n",
    "dflfc_scorers = pd.read_csv(LFC_SCORERS_CSV_FILE)\n",
    "\n",
    "# sort by season, then league goals\n",
    "dflfc_scorers = dflfc_scorers.sort_values(['season', 'league'], ascending=([False, False]))\n",
    "dflfc_scorers.shape"
   ]
  },
  {
   "cell_type": "code",
   "execution_count": 9,
   "metadata": {},
   "outputs": [
    {
     "data": {
      "text/html": [
       "<div>\n",
       "<style scoped>\n",
       "    .dataframe tbody tr th:only-of-type {\n",
       "        vertical-align: middle;\n",
       "    }\n",
       "\n",
       "    .dataframe tbody tr th {\n",
       "        vertical-align: top;\n",
       "    }\n",
       "\n",
       "    .dataframe thead th {\n",
       "        text-align: right;\n",
       "    }\n",
       "</style>\n",
       "<table border=\"1\" class=\"dataframe\">\n",
       "  <thead>\n",
       "    <tr style=\"text-align: right;\">\n",
       "      <th></th>\n",
       "      <th>season</th>\n",
       "      <th>player</th>\n",
       "      <th>league</th>\n",
       "    </tr>\n",
       "  </thead>\n",
       "  <tbody>\n",
       "    <tr>\n",
       "      <th>1446</th>\n",
       "      <td>2018-2019</td>\n",
       "      <td>Mohamed Salah</td>\n",
       "      <td>22</td>\n",
       "    </tr>\n",
       "    <tr>\n",
       "      <th>1447</th>\n",
       "      <td>2018-2019</td>\n",
       "      <td>Sadio Mane</td>\n",
       "      <td>22</td>\n",
       "    </tr>\n",
       "    <tr>\n",
       "      <th>1448</th>\n",
       "      <td>2018-2019</td>\n",
       "      <td>Roberto Firmino</td>\n",
       "      <td>12</td>\n",
       "    </tr>\n",
       "    <tr>\n",
       "      <th>1449</th>\n",
       "      <td>2018-2019</td>\n",
       "      <td>Xherdan Shaqiri</td>\n",
       "      <td>6</td>\n",
       "    </tr>\n",
       "    <tr>\n",
       "      <th>1450</th>\n",
       "      <td>2018-2019</td>\n",
       "      <td>James Milner</td>\n",
       "      <td>5</td>\n",
       "    </tr>\n",
       "  </tbody>\n",
       "</table>\n",
       "</div>"
      ],
      "text/plain": [
       "         season           player  league\n",
       "1446  2018-2019    Mohamed Salah      22\n",
       "1447  2018-2019       Sadio Mane      22\n",
       "1448  2018-2019  Roberto Firmino      12\n",
       "1449  2018-2019  Xherdan Shaqiri       6\n",
       "1450  2018-2019     James Milner       5"
      ]
     },
     "execution_count": 9,
     "metadata": {},
     "output_type": "execute_result"
    }
   ],
   "source": [
    "# show the most recent top goal scorers\n",
    "dflfc_scorers.head()"
   ]
  },
  {
   "cell_type": "code",
   "execution_count": 10,
   "metadata": {},
   "outputs": [
    {
     "data": {
      "text/html": [
       "<div>\n",
       "<style scoped>\n",
       "    .dataframe tbody tr th:only-of-type {\n",
       "        vertical-align: middle;\n",
       "    }\n",
       "\n",
       "    .dataframe tbody tr th {\n",
       "        vertical-align: top;\n",
       "    }\n",
       "\n",
       "    .dataframe thead th {\n",
       "        text-align: right;\n",
       "    }\n",
       "</style>\n",
       "<table border=\"1\" class=\"dataframe\">\n",
       "  <thead>\n",
       "    <tr style=\"text-align: right;\">\n",
       "      <th></th>\n",
       "      <th>season</th>\n",
       "      <th>player</th>\n",
       "      <th>league</th>\n",
       "    </tr>\n",
       "  </thead>\n",
       "  <tbody>\n",
       "    <tr>\n",
       "      <th>5</th>\n",
       "      <td>1892-1893</td>\n",
       "      <td>Jonathan Cameron</td>\n",
       "      <td>4</td>\n",
       "    </tr>\n",
       "    <tr>\n",
       "      <th>6</th>\n",
       "      <td>1892-1893</td>\n",
       "      <td>Jim McBride</td>\n",
       "      <td>4</td>\n",
       "    </tr>\n",
       "    <tr>\n",
       "      <th>7</th>\n",
       "      <td>1892-1893</td>\n",
       "      <td>Hugh McQueen</td>\n",
       "      <td>3</td>\n",
       "    </tr>\n",
       "    <tr>\n",
       "      <th>8</th>\n",
       "      <td>1892-1893</td>\n",
       "      <td>Joe McQue</td>\n",
       "      <td>2</td>\n",
       "    </tr>\n",
       "    <tr>\n",
       "      <th>9</th>\n",
       "      <td>1892-1893</td>\n",
       "      <td>Own goals</td>\n",
       "      <td>1</td>\n",
       "    </tr>\n",
       "  </tbody>\n",
       "</table>\n",
       "</div>"
      ],
      "text/plain": [
       "      season            player  league\n",
       "5  1892-1893  Jonathan Cameron       4\n",
       "6  1892-1893       Jim McBride       4\n",
       "7  1892-1893      Hugh McQueen       3\n",
       "8  1892-1893         Joe McQue       2\n",
       "9  1892-1893         Own goals       1"
      ]
     },
     "execution_count": 10,
     "metadata": {},
     "output_type": "execute_result"
    }
   ],
   "source": [
    "# expect 1892-1893\n",
    "dflfc_scorers.tail()"
   ]
  },
  {
   "cell_type": "code",
   "execution_count": 11,
   "metadata": {},
   "outputs": [
    {
     "data": {
      "text/html": [
       "<div>\n",
       "<style scoped>\n",
       "    .dataframe tbody tr th:only-of-type {\n",
       "        vertical-align: middle;\n",
       "    }\n",
       "\n",
       "    .dataframe tbody tr th {\n",
       "        vertical-align: top;\n",
       "    }\n",
       "\n",
       "    .dataframe thead th {\n",
       "        text-align: right;\n",
       "    }\n",
       "</style>\n",
       "<table border=\"1\" class=\"dataframe\">\n",
       "  <thead>\n",
       "    <tr style=\"text-align: right;\">\n",
       "      <th></th>\n",
       "      <th>season</th>\n",
       "      <th>player</th>\n",
       "      <th>league</th>\n",
       "    </tr>\n",
       "  </thead>\n",
       "  <tbody>\n",
       "    <tr>\n",
       "      <th>1454</th>\n",
       "      <td>2018-2019</td>\n",
       "      <td>Own goals</td>\n",
       "      <td>3</td>\n",
       "    </tr>\n",
       "    <tr>\n",
       "      <th>1435</th>\n",
       "      <td>2017-2018</td>\n",
       "      <td>Own goals</td>\n",
       "      <td>2</td>\n",
       "    </tr>\n",
       "    <tr>\n",
       "      <th>1426</th>\n",
       "      <td>2016-2017</td>\n",
       "      <td>Own goals</td>\n",
       "      <td>1</td>\n",
       "    </tr>\n",
       "    <tr>\n",
       "      <th>1411</th>\n",
       "      <td>2015-2016</td>\n",
       "      <td>Own goals</td>\n",
       "      <td>1</td>\n",
       "    </tr>\n",
       "    <tr>\n",
       "      <th>1388</th>\n",
       "      <td>2014-2015</td>\n",
       "      <td>Own goals</td>\n",
       "      <td>4</td>\n",
       "    </tr>\n",
       "  </tbody>\n",
       "</table>\n",
       "</div>"
      ],
      "text/plain": [
       "         season     player  league\n",
       "1454  2018-2019  Own goals       3\n",
       "1435  2017-2018  Own goals       2\n",
       "1426  2016-2017  Own goals       1\n",
       "1411  2015-2016  Own goals       1\n",
       "1388  2014-2015  Own goals       4"
      ]
     },
     "execution_count": 11,
     "metadata": {},
     "output_type": "execute_result"
    }
   ],
   "source": [
    "# note that scorers includes own goals\n",
    "dflfc_scorers[dflfc_scorers.player == 'Own goals'].head()"
   ]
  },
  {
   "cell_type": "raw",
   "metadata": {},
   "source": [
    "Filter out seasons that LFC weren't in top level"
   ]
  },
  {
   "cell_type": "code",
   "execution_count": 12,
   "metadata": {},
   "outputs": [
    {
     "data": {
      "text/plain": [
       "(1314, 3)"
      ]
     },
     "execution_count": 12,
     "metadata": {},
     "output_type": "execute_result"
    }
   ],
   "source": [
    "# note: war years already excluded in input files\n",
    "LANCS_YRS = ['1892-1893']\n",
    "SECOND_DIV_YRS = ['1893-1894', '1895-1896', '1904-1905', '1961-1962', \n",
    "                  '1954-1955', '1955-1956', '1956-1957', '1957-1958', \n",
    "                  '1958-1959', '1959-1960', '1960-1961']\n",
    "\n",
    "NOT_TOP_LEVEL_YRS = LANCS_YRS + SECOND_DIV_YRS\n",
    "dflfc_scorers_tl = dflfc_scorers[~dflfc_scorers.season.isin(NOT_TOP_LEVEL_YRS)].copy()\n",
    "dflfc_scorers_tl.shape"
   ]
  },
  {
   "cell_type": "code",
   "execution_count": 13,
   "metadata": {},
   "outputs": [
    {
     "name": "stdout",
     "output_type": "stream",
     "text": [
      "the number of seasons is 104\n"
     ]
    }
   ],
   "source": [
    "## check number of top level seasons aligns with http://www.lfchistory.net/Stats/LeagueOverall\n",
    "## e.g. total was 102 for top level seasons from 1894-95 to 2016-17\n",
    "print('the number of seasons is {}'.format(len(dflfc_scorers_tl.season.unique())))\n",
    "assert len(dflfc_scorers_tl.season.unique()) == NUMBER_OF_SEASONS"
   ]
  },
  {
   "cell_type": "code",
   "execution_count": 14,
   "metadata": {},
   "outputs": [
    {
     "data": {
      "text/html": [
       "<div>\n",
       "<style scoped>\n",
       "    .dataframe tbody tr th:only-of-type {\n",
       "        vertical-align: middle;\n",
       "    }\n",
       "\n",
       "    .dataframe tbody tr th {\n",
       "        vertical-align: top;\n",
       "    }\n",
       "\n",
       "    .dataframe thead th {\n",
       "        text-align: right;\n",
       "    }\n",
       "</style>\n",
       "<table border=\"1\" class=\"dataframe\">\n",
       "  <thead>\n",
       "    <tr style=\"text-align: right;\">\n",
       "      <th></th>\n",
       "      <th>league</th>\n",
       "    </tr>\n",
       "    <tr>\n",
       "      <th>season</th>\n",
       "      <th></th>\n",
       "    </tr>\n",
       "  </thead>\n",
       "  <tbody>\n",
       "    <tr>\n",
       "      <th>2013-2014</th>\n",
       "      <td>101</td>\n",
       "    </tr>\n",
       "  </tbody>\n",
       "</table>\n",
       "</div>"
      ],
      "text/plain": [
       "           league\n",
       "season           \n",
       "2013-2014     101"
      ]
     },
     "execution_count": 14,
     "metadata": {},
     "output_type": "execute_result"
    }
   ],
   "source": [
    "# show most league goals in a season in top level\n",
    "# cross-check with http://en.wikipedia.org/wiki/List_of_Liverpool_F.C._records_and_statistics#Goalscorers\n",
    "# expect 101 in 2013-14\n",
    "assert dflfc_scorers_tl[['season', 'league']].groupby(['season'])\\\n",
    "            .sum().sort_values('league', ascending=False).head(1).reset_index().values.tolist()[0] == ['2013-2014', 101]\n",
    "dflfc_scorers_tl[['season', 'league']].groupby(['season']).sum().sort_values('league', ascending=False).head(1)"
   ]
  },
  {
   "cell_type": "code",
   "execution_count": 15,
   "metadata": {},
   "outputs": [
    {
     "data": {
      "text/plain": [
       "(1241, 3)"
      ]
     },
     "execution_count": 15,
     "metadata": {},
     "output_type": "execute_result"
    }
   ],
   "source": [
    "# remove OG\n",
    "dflfc_scorers_tl = dflfc_scorers_tl[dflfc_scorers_tl.player != 'Own goals']\n",
    "dflfc_scorers_tl.shape"
   ]
  },
  {
   "cell_type": "code",
   "execution_count": 16,
   "metadata": {},
   "outputs": [
    {
     "data": {
      "text/html": [
       "<div>\n",
       "<style scoped>\n",
       "    .dataframe tbody tr th:only-of-type {\n",
       "        vertical-align: middle;\n",
       "    }\n",
       "\n",
       "    .dataframe tbody tr th {\n",
       "        vertical-align: top;\n",
       "    }\n",
       "\n",
       "    .dataframe thead th {\n",
       "        text-align: right;\n",
       "    }\n",
       "</style>\n",
       "<table border=\"1\" class=\"dataframe\">\n",
       "  <thead>\n",
       "    <tr style=\"text-align: right;\">\n",
       "      <th></th>\n",
       "      <th>season</th>\n",
       "      <th>player</th>\n",
       "      <th>league</th>\n",
       "    </tr>\n",
       "  </thead>\n",
       "  <tbody>\n",
       "    <tr>\n",
       "      <th>1446</th>\n",
       "      <td>2018-2019</td>\n",
       "      <td>Mohamed Salah</td>\n",
       "      <td>22</td>\n",
       "    </tr>\n",
       "    <tr>\n",
       "      <th>1447</th>\n",
       "      <td>2018-2019</td>\n",
       "      <td>Sadio Mane</td>\n",
       "      <td>22</td>\n",
       "    </tr>\n",
       "    <tr>\n",
       "      <th>1448</th>\n",
       "      <td>2018-2019</td>\n",
       "      <td>Roberto Firmino</td>\n",
       "      <td>12</td>\n",
       "    </tr>\n",
       "    <tr>\n",
       "      <th>1449</th>\n",
       "      <td>2018-2019</td>\n",
       "      <td>Xherdan Shaqiri</td>\n",
       "      <td>6</td>\n",
       "    </tr>\n",
       "    <tr>\n",
       "      <th>1450</th>\n",
       "      <td>2018-2019</td>\n",
       "      <td>James Milner</td>\n",
       "      <td>5</td>\n",
       "    </tr>\n",
       "    <tr>\n",
       "      <th>1451</th>\n",
       "      <td>2018-2019</td>\n",
       "      <td>Virgil Van Dijk</td>\n",
       "      <td>4</td>\n",
       "    </tr>\n",
       "    <tr>\n",
       "      <th>1452</th>\n",
       "      <td>2018-2019</td>\n",
       "      <td>Divock Origi</td>\n",
       "      <td>3</td>\n",
       "    </tr>\n",
       "    <tr>\n",
       "      <th>1453</th>\n",
       "      <td>2018-2019</td>\n",
       "      <td>Georginio Wijnaldum</td>\n",
       "      <td>3</td>\n",
       "    </tr>\n",
       "    <tr>\n",
       "      <th>1455</th>\n",
       "      <td>2018-2019</td>\n",
       "      <td>Daniel Sturridge</td>\n",
       "      <td>2</td>\n",
       "    </tr>\n",
       "    <tr>\n",
       "      <th>1456</th>\n",
       "      <td>2018-2019</td>\n",
       "      <td>Naby Keita</td>\n",
       "      <td>2</td>\n",
       "    </tr>\n",
       "  </tbody>\n",
       "</table>\n",
       "</div>"
      ],
      "text/plain": [
       "         season               player  league\n",
       "1446  2018-2019        Mohamed Salah      22\n",
       "1447  2018-2019           Sadio Mane      22\n",
       "1448  2018-2019      Roberto Firmino      12\n",
       "1449  2018-2019      Xherdan Shaqiri       6\n",
       "1450  2018-2019         James Milner       5\n",
       "1451  2018-2019      Virgil Van Dijk       4\n",
       "1452  2018-2019         Divock Origi       3\n",
       "1453  2018-2019  Georginio Wijnaldum       3\n",
       "1455  2018-2019     Daniel Sturridge       2\n",
       "1456  2018-2019           Naby Keita       2"
      ]
     },
     "execution_count": 16,
     "metadata": {},
     "output_type": "execute_result"
    }
   ],
   "source": [
    "# check latest season\n",
    "dflfc_scorers_tl[dflfc_scorers_tl.season == SEASON_END].head(10)"
   ]
  },
  {
   "cell_type": "code",
   "execution_count": 17,
   "metadata": {},
   "outputs": [],
   "source": [
    "# check first top level season, expect 1894-95\n",
    "assert dflfc_scorers_tl.tail(1).season.values[0] =='1894-1895'"
   ]
  },
  {
   "cell_type": "markdown",
   "metadata": {},
   "source": [
    "### Create dataframe of squads giving the position of each player\n",
    "Input data source: lfchistory.net"
   ]
  },
  {
   "cell_type": "code",
   "execution_count": 18,
   "metadata": {},
   "outputs": [
    {
     "name": "stdout",
     "output_type": "stream",
     "text": [
      "Loading LFC scorers csv from data\\lfc_squads_1892-1893_2018-2019.csv\n"
     ]
    },
    {
     "data": {
      "text/plain": [
       "(3047, 3)"
      ]
     },
     "execution_count": 18,
     "metadata": {},
     "output_type": "execute_result"
    }
   ],
   "source": [
    "print('Loading LFC scorers csv from {}'.format(LFC_SQUADS_CSV_FILE))\n",
    "dflfc_squads = pd.read_csv(LFC_SQUADS_CSV_FILE)\n",
    "dflfc_squads.shape"
   ]
  },
  {
   "cell_type": "code",
   "execution_count": 19,
   "metadata": {},
   "outputs": [
    {
     "data": {
      "text/html": [
       "<div>\n",
       "<style scoped>\n",
       "    .dataframe tbody tr th:only-of-type {\n",
       "        vertical-align: middle;\n",
       "    }\n",
       "\n",
       "    .dataframe tbody tr th {\n",
       "        vertical-align: top;\n",
       "    }\n",
       "\n",
       "    .dataframe thead th {\n",
       "        text-align: right;\n",
       "    }\n",
       "</style>\n",
       "<table border=\"1\" class=\"dataframe\">\n",
       "  <thead>\n",
       "    <tr style=\"text-align: right;\">\n",
       "      <th></th>\n",
       "      <th>season</th>\n",
       "      <th>player</th>\n",
       "      <th>position</th>\n",
       "    </tr>\n",
       "  </thead>\n",
       "  <tbody>\n",
       "    <tr>\n",
       "      <th>0</th>\n",
       "      <td>1892-1893</td>\n",
       "      <td>Sydney Ross</td>\n",
       "      <td>Goalkeeper</td>\n",
       "    </tr>\n",
       "    <tr>\n",
       "      <th>1</th>\n",
       "      <td>1892-1893</td>\n",
       "      <td>Billy McOwen</td>\n",
       "      <td>Goalkeeper</td>\n",
       "    </tr>\n",
       "    <tr>\n",
       "      <th>2</th>\n",
       "      <td>1892-1893</td>\n",
       "      <td>Jim McBride</td>\n",
       "      <td>Defender</td>\n",
       "    </tr>\n",
       "    <tr>\n",
       "      <th>3</th>\n",
       "      <td>1892-1893</td>\n",
       "      <td>John McCartney</td>\n",
       "      <td>Defender</td>\n",
       "    </tr>\n",
       "    <tr>\n",
       "      <th>4</th>\n",
       "      <td>1892-1893</td>\n",
       "      <td>Andrew Hannah</td>\n",
       "      <td>Defender</td>\n",
       "    </tr>\n",
       "  </tbody>\n",
       "</table>\n",
       "</div>"
      ],
      "text/plain": [
       "      season          player    position\n",
       "0  1892-1893     Sydney Ross  Goalkeeper\n",
       "1  1892-1893    Billy McOwen  Goalkeeper\n",
       "2  1892-1893     Jim McBride    Defender\n",
       "3  1892-1893  John McCartney    Defender\n",
       "4  1892-1893   Andrew Hannah    Defender"
      ]
     },
     "execution_count": 19,
     "metadata": {},
     "output_type": "execute_result"
    }
   ],
   "source": [
    "dflfc_squads.head()"
   ]
  },
  {
   "cell_type": "code",
   "execution_count": 20,
   "metadata": {},
   "outputs": [
    {
     "data": {
      "text/html": [
       "<div>\n",
       "<style scoped>\n",
       "    .dataframe tbody tr th:only-of-type {\n",
       "        vertical-align: middle;\n",
       "    }\n",
       "\n",
       "    .dataframe tbody tr th {\n",
       "        vertical-align: top;\n",
       "    }\n",
       "\n",
       "    .dataframe thead th {\n",
       "        text-align: right;\n",
       "    }\n",
       "</style>\n",
       "<table border=\"1\" class=\"dataframe\">\n",
       "  <thead>\n",
       "    <tr style=\"text-align: right;\">\n",
       "      <th></th>\n",
       "      <th>season</th>\n",
       "      <th>player</th>\n",
       "      <th>position</th>\n",
       "    </tr>\n",
       "  </thead>\n",
       "  <tbody>\n",
       "    <tr>\n",
       "      <th>3042</th>\n",
       "      <td>2018-2019</td>\n",
       "      <td>Dominic Solanke</td>\n",
       "      <td>Striker</td>\n",
       "    </tr>\n",
       "    <tr>\n",
       "      <th>3043</th>\n",
       "      <td>2018-2019</td>\n",
       "      <td>Daniel Sturridge</td>\n",
       "      <td>Striker</td>\n",
       "    </tr>\n",
       "    <tr>\n",
       "      <th>3044</th>\n",
       "      <td>2018-2019</td>\n",
       "      <td>Divock Origi</td>\n",
       "      <td>Striker</td>\n",
       "    </tr>\n",
       "    <tr>\n",
       "      <th>3045</th>\n",
       "      <td>2018-2019</td>\n",
       "      <td>Ben Woodburn</td>\n",
       "      <td>Striker</td>\n",
       "    </tr>\n",
       "    <tr>\n",
       "      <th>3046</th>\n",
       "      <td>2018-2019</td>\n",
       "      <td>Rhian Brewster</td>\n",
       "      <td>Striker</td>\n",
       "    </tr>\n",
       "  </tbody>\n",
       "</table>\n",
       "</div>"
      ],
      "text/plain": [
       "         season            player position\n",
       "3042  2018-2019   Dominic Solanke  Striker\n",
       "3043  2018-2019  Daniel Sturridge  Striker\n",
       "3044  2018-2019      Divock Origi  Striker\n",
       "3045  2018-2019      Ben Woodburn  Striker\n",
       "3046  2018-2019    Rhian Brewster  Striker"
      ]
     },
     "execution_count": 20,
     "metadata": {},
     "output_type": "execute_result"
    }
   ],
   "source": [
    "dflfc_squads.tail()"
   ]
  },
  {
   "cell_type": "markdown",
   "metadata": {},
   "source": [
    "### Create dataframe of LFC's league position\n",
    "Input data source: lfchistory.net"
   ]
  },
  {
   "cell_type": "code",
   "execution_count": 21,
   "metadata": {},
   "outputs": [
    {
     "name": "stdout",
     "output_type": "stream",
     "text": [
      "Loading LFC scorers csv from data\\lfc_league_1893-1894_2018-2019.csv\n"
     ]
    },
    {
     "data": {
      "text/plain": [
       "(115, 18)"
      ]
     },
     "execution_count": 21,
     "metadata": {},
     "output_type": "execute_result"
    }
   ],
   "source": [
    "print('Loading LFC scorers csv from {}'.format(LFC_LEAGUE_CSV_FILE))\n",
    "dflfc_league = pd.read_csv(LFC_LEAGUE_CSV_FILE)\n",
    "dflfc_league.shape"
   ]
  },
  {
   "cell_type": "code",
   "execution_count": 22,
   "metadata": {},
   "outputs": [
    {
     "data": {
      "text/html": [
       "<div>\n",
       "<style scoped>\n",
       "    .dataframe tbody tr th:only-of-type {\n",
       "        vertical-align: middle;\n",
       "    }\n",
       "\n",
       "    .dataframe tbody tr th {\n",
       "        vertical-align: top;\n",
       "    }\n",
       "\n",
       "    .dataframe thead th {\n",
       "        text-align: right;\n",
       "    }\n",
       "</style>\n",
       "<table border=\"1\" class=\"dataframe\">\n",
       "  <thead>\n",
       "    <tr style=\"text-align: right;\">\n",
       "      <th></th>\n",
       "      <th>Season</th>\n",
       "      <th>League</th>\n",
       "      <th>Pos</th>\n",
       "      <th>PLD</th>\n",
       "      <th>HW</th>\n",
       "      <th>HD</th>\n",
       "      <th>HL</th>\n",
       "      <th>HF</th>\n",
       "      <th>HA</th>\n",
       "      <th>AW</th>\n",
       "      <th>AD</th>\n",
       "      <th>AL</th>\n",
       "      <th>AF</th>\n",
       "      <th>AA</th>\n",
       "      <th>PTS</th>\n",
       "      <th>GF</th>\n",
       "      <th>GA</th>\n",
       "      <th>GD</th>\n",
       "    </tr>\n",
       "  </thead>\n",
       "  <tbody>\n",
       "    <tr>\n",
       "      <th>0</th>\n",
       "      <td>1893-1894</td>\n",
       "      <td>2nd Division</td>\n",
       "      <td>1</td>\n",
       "      <td>28</td>\n",
       "      <td>14</td>\n",
       "      <td>0</td>\n",
       "      <td>0</td>\n",
       "      <td>46</td>\n",
       "      <td>6</td>\n",
       "      <td>8</td>\n",
       "      <td>6</td>\n",
       "      <td>0</td>\n",
       "      <td>31</td>\n",
       "      <td>12</td>\n",
       "      <td>50</td>\n",
       "      <td>77</td>\n",
       "      <td>18</td>\n",
       "      <td>59</td>\n",
       "    </tr>\n",
       "    <tr>\n",
       "      <th>1</th>\n",
       "      <td>1894-1895</td>\n",
       "      <td>1st Division</td>\n",
       "      <td>16</td>\n",
       "      <td>30</td>\n",
       "      <td>6</td>\n",
       "      <td>4</td>\n",
       "      <td>5</td>\n",
       "      <td>38</td>\n",
       "      <td>28</td>\n",
       "      <td>1</td>\n",
       "      <td>4</td>\n",
       "      <td>10</td>\n",
       "      <td>13</td>\n",
       "      <td>42</td>\n",
       "      <td>22</td>\n",
       "      <td>51</td>\n",
       "      <td>70</td>\n",
       "      <td>-19</td>\n",
       "    </tr>\n",
       "    <tr>\n",
       "      <th>2</th>\n",
       "      <td>1895-1896</td>\n",
       "      <td>2nd Division</td>\n",
       "      <td>1</td>\n",
       "      <td>30</td>\n",
       "      <td>14</td>\n",
       "      <td>1</td>\n",
       "      <td>0</td>\n",
       "      <td>65</td>\n",
       "      <td>11</td>\n",
       "      <td>8</td>\n",
       "      <td>1</td>\n",
       "      <td>6</td>\n",
       "      <td>41</td>\n",
       "      <td>21</td>\n",
       "      <td>46</td>\n",
       "      <td>106</td>\n",
       "      <td>32</td>\n",
       "      <td>74</td>\n",
       "    </tr>\n",
       "    <tr>\n",
       "      <th>3</th>\n",
       "      <td>1896-1897</td>\n",
       "      <td>1st Division</td>\n",
       "      <td>5</td>\n",
       "      <td>30</td>\n",
       "      <td>7</td>\n",
       "      <td>6</td>\n",
       "      <td>2</td>\n",
       "      <td>25</td>\n",
       "      <td>10</td>\n",
       "      <td>5</td>\n",
       "      <td>3</td>\n",
       "      <td>7</td>\n",
       "      <td>21</td>\n",
       "      <td>28</td>\n",
       "      <td>33</td>\n",
       "      <td>46</td>\n",
       "      <td>38</td>\n",
       "      <td>8</td>\n",
       "    </tr>\n",
       "    <tr>\n",
       "      <th>4</th>\n",
       "      <td>1897-1898</td>\n",
       "      <td>1st Division</td>\n",
       "      <td>9</td>\n",
       "      <td>30</td>\n",
       "      <td>7</td>\n",
       "      <td>4</td>\n",
       "      <td>4</td>\n",
       "      <td>27</td>\n",
       "      <td>16</td>\n",
       "      <td>4</td>\n",
       "      <td>2</td>\n",
       "      <td>9</td>\n",
       "      <td>21</td>\n",
       "      <td>29</td>\n",
       "      <td>28</td>\n",
       "      <td>48</td>\n",
       "      <td>45</td>\n",
       "      <td>3</td>\n",
       "    </tr>\n",
       "  </tbody>\n",
       "</table>\n",
       "</div>"
      ],
      "text/plain": [
       "      Season        League  Pos  PLD  HW  HD  HL  HF  HA  AW  AD  AL  AF  AA  \\\n",
       "0  1893-1894  2nd Division    1   28  14   0   0  46   6   8   6   0  31  12   \n",
       "1  1894-1895  1st Division   16   30   6   4   5  38  28   1   4  10  13  42   \n",
       "2  1895-1896  2nd Division    1   30  14   1   0  65  11   8   1   6  41  21   \n",
       "3  1896-1897  1st Division    5   30   7   6   2  25  10   5   3   7  21  28   \n",
       "4  1897-1898  1st Division    9   30   7   4   4  27  16   4   2   9  21  29   \n",
       "\n",
       "   PTS   GF  GA  GD  \n",
       "0   50   77  18  59  \n",
       "1   22   51  70 -19  \n",
       "2   46  106  32  74  \n",
       "3   33   46  38   8  \n",
       "4   28   48  45   3  "
      ]
     },
     "execution_count": 22,
     "metadata": {},
     "output_type": "execute_result"
    }
   ],
   "source": [
    "dflfc_league.head()"
   ]
  },
  {
   "cell_type": "code",
   "execution_count": 23,
   "metadata": {},
   "outputs": [
    {
     "data": {
      "text/html": [
       "<div>\n",
       "<style scoped>\n",
       "    .dataframe tbody tr th:only-of-type {\n",
       "        vertical-align: middle;\n",
       "    }\n",
       "\n",
       "    .dataframe tbody tr th {\n",
       "        vertical-align: top;\n",
       "    }\n",
       "\n",
       "    .dataframe thead th {\n",
       "        text-align: right;\n",
       "    }\n",
       "</style>\n",
       "<table border=\"1\" class=\"dataframe\">\n",
       "  <thead>\n",
       "    <tr style=\"text-align: right;\">\n",
       "      <th></th>\n",
       "      <th>Season</th>\n",
       "      <th>League</th>\n",
       "      <th>Pos</th>\n",
       "      <th>PLD</th>\n",
       "      <th>HW</th>\n",
       "      <th>HD</th>\n",
       "      <th>HL</th>\n",
       "      <th>HF</th>\n",
       "      <th>HA</th>\n",
       "      <th>AW</th>\n",
       "      <th>AD</th>\n",
       "      <th>AL</th>\n",
       "      <th>AF</th>\n",
       "      <th>AA</th>\n",
       "      <th>PTS</th>\n",
       "      <th>GF</th>\n",
       "      <th>GA</th>\n",
       "      <th>GD</th>\n",
       "    </tr>\n",
       "  </thead>\n",
       "  <tbody>\n",
       "    <tr>\n",
       "      <th>110</th>\n",
       "      <td>2014-2015</td>\n",
       "      <td>Premier League</td>\n",
       "      <td>6</td>\n",
       "      <td>38</td>\n",
       "      <td>10</td>\n",
       "      <td>5</td>\n",
       "      <td>4</td>\n",
       "      <td>30</td>\n",
       "      <td>20</td>\n",
       "      <td>8</td>\n",
       "      <td>3</td>\n",
       "      <td>8</td>\n",
       "      <td>22</td>\n",
       "      <td>28</td>\n",
       "      <td>62</td>\n",
       "      <td>52</td>\n",
       "      <td>48</td>\n",
       "      <td>4</td>\n",
       "    </tr>\n",
       "    <tr>\n",
       "      <th>111</th>\n",
       "      <td>2015-2016</td>\n",
       "      <td>Premier League</td>\n",
       "      <td>8</td>\n",
       "      <td>38</td>\n",
       "      <td>8</td>\n",
       "      <td>8</td>\n",
       "      <td>3</td>\n",
       "      <td>33</td>\n",
       "      <td>22</td>\n",
       "      <td>8</td>\n",
       "      <td>4</td>\n",
       "      <td>7</td>\n",
       "      <td>30</td>\n",
       "      <td>28</td>\n",
       "      <td>60</td>\n",
       "      <td>63</td>\n",
       "      <td>50</td>\n",
       "      <td>13</td>\n",
       "    </tr>\n",
       "    <tr>\n",
       "      <th>112</th>\n",
       "      <td>2016-2017</td>\n",
       "      <td>Premier League</td>\n",
       "      <td>4</td>\n",
       "      <td>38</td>\n",
       "      <td>12</td>\n",
       "      <td>5</td>\n",
       "      <td>2</td>\n",
       "      <td>45</td>\n",
       "      <td>18</td>\n",
       "      <td>10</td>\n",
       "      <td>5</td>\n",
       "      <td>4</td>\n",
       "      <td>33</td>\n",
       "      <td>24</td>\n",
       "      <td>76</td>\n",
       "      <td>78</td>\n",
       "      <td>42</td>\n",
       "      <td>36</td>\n",
       "    </tr>\n",
       "    <tr>\n",
       "      <th>113</th>\n",
       "      <td>2017-2018</td>\n",
       "      <td>Premier League</td>\n",
       "      <td>4</td>\n",
       "      <td>38</td>\n",
       "      <td>12</td>\n",
       "      <td>7</td>\n",
       "      <td>0</td>\n",
       "      <td>45</td>\n",
       "      <td>10</td>\n",
       "      <td>9</td>\n",
       "      <td>5</td>\n",
       "      <td>5</td>\n",
       "      <td>39</td>\n",
       "      <td>28</td>\n",
       "      <td>75</td>\n",
       "      <td>84</td>\n",
       "      <td>38</td>\n",
       "      <td>46</td>\n",
       "    </tr>\n",
       "    <tr>\n",
       "      <th>114</th>\n",
       "      <td>2018-2019</td>\n",
       "      <td>Premier League</td>\n",
       "      <td>2</td>\n",
       "      <td>38</td>\n",
       "      <td>17</td>\n",
       "      <td>2</td>\n",
       "      <td>0</td>\n",
       "      <td>55</td>\n",
       "      <td>10</td>\n",
       "      <td>13</td>\n",
       "      <td>5</td>\n",
       "      <td>1</td>\n",
       "      <td>34</td>\n",
       "      <td>12</td>\n",
       "      <td>97</td>\n",
       "      <td>89</td>\n",
       "      <td>22</td>\n",
       "      <td>67</td>\n",
       "    </tr>\n",
       "  </tbody>\n",
       "</table>\n",
       "</div>"
      ],
      "text/plain": [
       "        Season          League  Pos  PLD  HW  HD  HL  HF  HA  AW  AD  AL  AF  \\\n",
       "110  2014-2015  Premier League    6   38  10   5   4  30  20   8   3   8  22   \n",
       "111  2015-2016  Premier League    8   38   8   8   3  33  22   8   4   7  30   \n",
       "112  2016-2017  Premier League    4   38  12   5   2  45  18  10   5   4  33   \n",
       "113  2017-2018  Premier League    4   38  12   7   0  45  10   9   5   5  39   \n",
       "114  2018-2019  Premier League    2   38  17   2   0  55  10  13   5   1  34   \n",
       "\n",
       "     AA  PTS  GF  GA  GD  \n",
       "110  28   62  52  48   4  \n",
       "111  28   60  63  50  13  \n",
       "112  24   76  78  42  36  \n",
       "113  28   75  84  38  46  \n",
       "114  12   97  89  22  67  "
      ]
     },
     "execution_count": 23,
     "metadata": {},
     "output_type": "execute_result"
    }
   ],
   "source": [
    "dflfc_league.tail()"
   ]
  },
  {
   "cell_type": "code",
   "execution_count": 24,
   "metadata": {},
   "outputs": [],
   "source": [
    "# check most recent league data is present\n",
    "assert dflfc_league.tail(1).Season.values[0] == SEASON_END"
   ]
  },
  {
   "cell_type": "markdown",
   "metadata": {},
   "source": [
    "### Create merged dataframe, combining scorers in top league level season with squad position"
   ]
  },
  {
   "cell_type": "code",
   "execution_count": 25,
   "metadata": {},
   "outputs": [
    {
     "data": {
      "text/plain": [
       "(1241, 4)"
      ]
     },
     "execution_count": 25,
     "metadata": {},
     "output_type": "execute_result"
    }
   ],
   "source": [
    "dflfc_scorers_tl_pos = pd.DataFrame.merge(dflfc_scorers_tl, dflfc_squads)\n",
    "dflfc_scorers_tl_pos.shape"
   ]
  },
  {
   "cell_type": "code",
   "execution_count": 26,
   "metadata": {},
   "outputs": [
    {
     "data": {
      "text/html": [
       "<div>\n",
       "<style scoped>\n",
       "    .dataframe tbody tr th:only-of-type {\n",
       "        vertical-align: middle;\n",
       "    }\n",
       "\n",
       "    .dataframe tbody tr th {\n",
       "        vertical-align: top;\n",
       "    }\n",
       "\n",
       "    .dataframe thead th {\n",
       "        text-align: right;\n",
       "    }\n",
       "</style>\n",
       "<table border=\"1\" class=\"dataframe\">\n",
       "  <thead>\n",
       "    <tr style=\"text-align: right;\">\n",
       "      <th></th>\n",
       "      <th>season</th>\n",
       "      <th>player</th>\n",
       "      <th>league</th>\n",
       "      <th>position</th>\n",
       "    </tr>\n",
       "  </thead>\n",
       "  <tbody>\n",
       "    <tr>\n",
       "      <th>0</th>\n",
       "      <td>2018-2019</td>\n",
       "      <td>Mohamed Salah</td>\n",
       "      <td>22</td>\n",
       "      <td>Striker</td>\n",
       "    </tr>\n",
       "    <tr>\n",
       "      <th>1</th>\n",
       "      <td>2018-2019</td>\n",
       "      <td>Sadio Mane</td>\n",
       "      <td>22</td>\n",
       "      <td>Striker</td>\n",
       "    </tr>\n",
       "    <tr>\n",
       "      <th>2</th>\n",
       "      <td>2018-2019</td>\n",
       "      <td>Roberto Firmino</td>\n",
       "      <td>12</td>\n",
       "      <td>Striker</td>\n",
       "    </tr>\n",
       "    <tr>\n",
       "      <th>3</th>\n",
       "      <td>2018-2019</td>\n",
       "      <td>Xherdan Shaqiri</td>\n",
       "      <td>6</td>\n",
       "      <td>Midfielder</td>\n",
       "    </tr>\n",
       "    <tr>\n",
       "      <th>4</th>\n",
       "      <td>2018-2019</td>\n",
       "      <td>James Milner</td>\n",
       "      <td>5</td>\n",
       "      <td>Midfielder</td>\n",
       "    </tr>\n",
       "  </tbody>\n",
       "</table>\n",
       "</div>"
      ],
      "text/plain": [
       "      season           player  league    position\n",
       "0  2018-2019    Mohamed Salah      22     Striker\n",
       "1  2018-2019       Sadio Mane      22     Striker\n",
       "2  2018-2019  Roberto Firmino      12     Striker\n",
       "3  2018-2019  Xherdan Shaqiri       6  Midfielder\n",
       "4  2018-2019     James Milner       5  Midfielder"
      ]
     },
     "execution_count": 26,
     "metadata": {},
     "output_type": "execute_result"
    }
   ],
   "source": [
    "dflfc_scorers_tl_pos.head()"
   ]
  },
  {
   "cell_type": "code",
   "execution_count": 27,
   "metadata": {},
   "outputs": [
    {
     "data": {
      "text/html": [
       "<div>\n",
       "<style scoped>\n",
       "    .dataframe tbody tr th:only-of-type {\n",
       "        vertical-align: middle;\n",
       "    }\n",
       "\n",
       "    .dataframe tbody tr th {\n",
       "        vertical-align: top;\n",
       "    }\n",
       "\n",
       "    .dataframe thead th {\n",
       "        text-align: right;\n",
       "    }\n",
       "</style>\n",
       "<table border=\"1\" class=\"dataframe\">\n",
       "  <thead>\n",
       "    <tr style=\"text-align: right;\">\n",
       "      <th></th>\n",
       "      <th>season</th>\n",
       "      <th>player</th>\n",
       "      <th>league</th>\n",
       "      <th>position</th>\n",
       "    </tr>\n",
       "  </thead>\n",
       "  <tbody>\n",
       "    <tr>\n",
       "      <th>1236</th>\n",
       "      <td>1894-1895</td>\n",
       "      <td>Frank Becton</td>\n",
       "      <td>4</td>\n",
       "      <td>Striker</td>\n",
       "    </tr>\n",
       "    <tr>\n",
       "      <th>1237</th>\n",
       "      <td>1894-1895</td>\n",
       "      <td>Neil Kerr</td>\n",
       "      <td>3</td>\n",
       "      <td>Midfielder</td>\n",
       "    </tr>\n",
       "    <tr>\n",
       "      <th>1238</th>\n",
       "      <td>1894-1895</td>\n",
       "      <td>Hugh McQueen</td>\n",
       "      <td>2</td>\n",
       "      <td>Midfielder</td>\n",
       "    </tr>\n",
       "    <tr>\n",
       "      <th>1239</th>\n",
       "      <td>1894-1895</td>\n",
       "      <td>Joe McQue</td>\n",
       "      <td>1</td>\n",
       "      <td>Defender</td>\n",
       "    </tr>\n",
       "    <tr>\n",
       "      <th>1240</th>\n",
       "      <td>1894-1895</td>\n",
       "      <td>Patrick Gordon</td>\n",
       "      <td>1</td>\n",
       "      <td>Midfielder</td>\n",
       "    </tr>\n",
       "  </tbody>\n",
       "</table>\n",
       "</div>"
      ],
      "text/plain": [
       "         season          player  league    position\n",
       "1236  1894-1895    Frank Becton       4     Striker\n",
       "1237  1894-1895       Neil Kerr       3  Midfielder\n",
       "1238  1894-1895    Hugh McQueen       2  Midfielder\n",
       "1239  1894-1895       Joe McQue       1    Defender\n",
       "1240  1894-1895  Patrick Gordon       1  Midfielder"
      ]
     },
     "execution_count": 27,
     "metadata": {},
     "output_type": "execute_result"
    }
   ],
   "source": [
    "dflfc_scorers_tl_pos.tail()"
   ]
  },
  {
   "cell_type": "code",
   "execution_count": 28,
   "metadata": {},
   "outputs": [],
   "source": [
    " assert dflfc_scorers_tl_pos[(dflfc_scorers_tl_pos.season == '2018-2019') & \n",
    "                            (dflfc_scorers_tl_pos.player == 'Mohamed Salah')].position.values[0] == 'Striker'"
   ]
  },
  {
   "cell_type": "code",
   "execution_count": 29,
   "metadata": {},
   "outputs": [],
   "source": [
    " assert dflfc_scorers_tl_pos[(dflfc_scorers_tl_pos.season == '1905-1906') & \n",
    "                            (dflfc_scorers_tl_pos.player == 'Alex Raisbeck')].position.values[0] == 'Defender'"
   ]
  },
  {
   "cell_type": "markdown",
   "metadata": {},
   "source": [
    "### Create a dataframe of players with birthdate and country of birth"
   ]
  },
  {
   "cell_type": "code",
   "execution_count": 30,
   "metadata": {},
   "outputs": [
    {
     "name": "stdout",
     "output_type": "stream",
     "text": [
      "Loading LFC scorers csv from data\\lfc_players_August2019_upd.csv\n"
     ]
    },
    {
     "data": {
      "text/plain": [
       "(797, 3)"
      ]
     },
     "execution_count": 30,
     "metadata": {},
     "output_type": "execute_result"
    }
   ],
   "source": [
    "print('Loading LFC scorers csv from {}'.format(LFC_PLAYERS_CSV_FILE_UPDATED))\n",
    "dflfc_players = pd.read_csv(LFC_PLAYERS_CSV_FILE_UPDATED, parse_dates=['birthdate'])\n",
    "assert dflfc_players.birthdate.dtypes == 'datetime64[ns]'\n",
    "dflfc_players.shape"
   ]
  },
  {
   "cell_type": "code",
   "execution_count": 31,
   "metadata": {},
   "outputs": [
    {
     "data": {
      "text/html": [
       "<div>\n",
       "<style scoped>\n",
       "    .dataframe tbody tr th:only-of-type {\n",
       "        vertical-align: middle;\n",
       "    }\n",
       "\n",
       "    .dataframe tbody tr th {\n",
       "        vertical-align: top;\n",
       "    }\n",
       "\n",
       "    .dataframe thead th {\n",
       "        text-align: right;\n",
       "    }\n",
       "</style>\n",
       "<table border=\"1\" class=\"dataframe\">\n",
       "  <thead>\n",
       "    <tr style=\"text-align: right;\">\n",
       "      <th></th>\n",
       "      <th>player</th>\n",
       "      <th>birthdate</th>\n",
       "      <th>country</th>\n",
       "    </tr>\n",
       "  </thead>\n",
       "  <tbody>\n",
       "    <tr>\n",
       "      <th>0</th>\n",
       "      <td>Gary Ablett</td>\n",
       "      <td>1965-11-19</td>\n",
       "      <td>England</td>\n",
       "    </tr>\n",
       "    <tr>\n",
       "      <th>1</th>\n",
       "      <td>Alan A'Court</td>\n",
       "      <td>1934-09-30</td>\n",
       "      <td>England</td>\n",
       "    </tr>\n",
       "    <tr>\n",
       "      <th>2</th>\n",
       "      <td>Charlie Adam</td>\n",
       "      <td>1985-12-10</td>\n",
       "      <td>Scotland</td>\n",
       "    </tr>\n",
       "    <tr>\n",
       "      <th>3</th>\n",
       "      <td>Daniel Agger</td>\n",
       "      <td>1984-12-12</td>\n",
       "      <td>Denmark</td>\n",
       "    </tr>\n",
       "    <tr>\n",
       "      <th>4</th>\n",
       "      <td>Andrew Aitken</td>\n",
       "      <td>1909-08-25</td>\n",
       "      <td>England</td>\n",
       "    </tr>\n",
       "  </tbody>\n",
       "</table>\n",
       "</div>"
      ],
      "text/plain": [
       "          player  birthdate   country\n",
       "0    Gary Ablett 1965-11-19   England\n",
       "1   Alan A'Court 1934-09-30   England\n",
       "2   Charlie Adam 1985-12-10  Scotland\n",
       "3   Daniel Agger 1984-12-12   Denmark\n",
       "4  Andrew Aitken 1909-08-25   England"
      ]
     },
     "execution_count": 31,
     "metadata": {},
     "output_type": "execute_result"
    }
   ],
   "source": [
    "dflfc_players.head()"
   ]
  },
  {
   "cell_type": "code",
   "execution_count": 32,
   "metadata": {},
   "outputs": [
    {
     "data": {
      "text/html": [
       "<div>\n",
       "<style scoped>\n",
       "    .dataframe tbody tr th:only-of-type {\n",
       "        vertical-align: middle;\n",
       "    }\n",
       "\n",
       "    .dataframe tbody tr th {\n",
       "        vertical-align: top;\n",
       "    }\n",
       "\n",
       "    .dataframe thead th {\n",
       "        text-align: right;\n",
       "    }\n",
       "</style>\n",
       "<table border=\"1\" class=\"dataframe\">\n",
       "  <thead>\n",
       "    <tr style=\"text-align: right;\">\n",
       "      <th></th>\n",
       "      <th>player</th>\n",
       "      <th>birthdate</th>\n",
       "      <th>country</th>\n",
       "    </tr>\n",
       "  </thead>\n",
       "  <tbody>\n",
       "    <tr>\n",
       "      <th>792</th>\n",
       "      <td>Ron Yeats</td>\n",
       "      <td>1937-11-15</td>\n",
       "      <td>Scotland</td>\n",
       "    </tr>\n",
       "    <tr>\n",
       "      <th>793</th>\n",
       "      <td>Samed Yesil</td>\n",
       "      <td>1994-05-25</td>\n",
       "      <td>Germany</td>\n",
       "    </tr>\n",
       "    <tr>\n",
       "      <th>794</th>\n",
       "      <td>Tommy Younger</td>\n",
       "      <td>1930-04-10</td>\n",
       "      <td>Scotland</td>\n",
       "    </tr>\n",
       "    <tr>\n",
       "      <th>795</th>\n",
       "      <td>Bolo Zenden</td>\n",
       "      <td>1976-08-15</td>\n",
       "      <td>Netherlands</td>\n",
       "    </tr>\n",
       "    <tr>\n",
       "      <th>796</th>\n",
       "      <td>Christian Ziege</td>\n",
       "      <td>1972-02-01</td>\n",
       "      <td>Germany</td>\n",
       "    </tr>\n",
       "  </tbody>\n",
       "</table>\n",
       "</div>"
      ],
      "text/plain": [
       "              player  birthdate      country\n",
       "792        Ron Yeats 1937-11-15     Scotland\n",
       "793      Samed Yesil 1994-05-25      Germany\n",
       "794    Tommy Younger 1930-04-10     Scotland\n",
       "795      Bolo Zenden 1976-08-15  Netherlands\n",
       "796  Christian Ziege 1972-02-01      Germany"
      ]
     },
     "execution_count": 32,
     "metadata": {},
     "output_type": "execute_result"
    }
   ],
   "source": [
    "dflfc_players.tail()"
   ]
  },
  {
   "cell_type": "markdown",
   "metadata": {},
   "source": [
    "### Create merged dataframe of players, combining scorers in top league level season with squad position and age"
   ]
  },
  {
   "cell_type": "markdown",
   "metadata": {},
   "source": [
    "Add players age to the dflfc_scorers_tl_pos dataframe"
   ]
  },
  {
   "cell_type": "code",
   "execution_count": 33,
   "metadata": {},
   "outputs": [],
   "source": [
    "# v1, deprecated\n",
    "def age_at_season_v1(row, dflfc_players=dflfc_players):\n",
    "    \"\"\"Return player's age at mid-point of season, assumed to be 1st Jan.\n",
    "    \n",
    "        row.player -> player's name\n",
    "        row.season -> season\n",
    "        \n",
    "        uses dflfc_players to look-up birthdate, keyed on player\n",
    "         - return average age if player is missing from dflfc_players\n",
    "    \"\"\"\n",
    "    #print(row.player)\n",
    "    #print(row.season)\n",
    "    \n",
    "    AVERAGE_AGE = 26.5\n",
    "    \n",
    "    mid_point = '01 January {}'.format(row.season[-4:])\n",
    "    print('this season mid point: {}'.format(mid_point))\n",
    "          \n",
    "    try:\n",
    "        dob = dflfc_players[dflfc_players.player == row.player].birthdate.values[0]\n",
    "    except:\n",
    "        # use average age if player's birthdate not available\n",
    "        print('error: age not found for player {} in season {}, using average age {}'.format(row.player, \n",
    "                                                                                             row.season, \n",
    "                                                                                             AVERAGE_AGE))\n",
    "        return AVERAGE_AGE\n",
    "    return round((pd.Timestamp(mid_point) - dob).days/365.0, 1)"
   ]
  },
  {
   "cell_type": "code",
   "execution_count": 34,
   "metadata": {},
   "outputs": [],
   "source": [
    "# v2, deprecated\n",
    "# change log: Aug 2019\n",
    "# enhanced to pass individual dayta items as input, rather than a row of data\n",
    "# made use of dflfc_players more explicit\n",
    "def age_at_season_v2(player, season, dflfc_players=dflfc_players):\n",
    "    \"\"\"Return player's age at mid-point of season, assumed to be 1st Jan.\n",
    "    \n",
    "        player -> player's name: string e.g. 'Ian Rush'\n",
    "        season -> season: string e.g. '1984-1985'\n",
    "        dflfc_players -> dataframe with columns ['player', 'birthdate'] e.g. \n",
    "                player   | birthdate  | country\n",
    "                Ian Rush | 1961-10-20 | Wales\n",
    "        \n",
    "        uses dflfc_players to look-up birthdate, keyed on player\n",
    "         - return average age if player is missing from dflfc_players\n",
    "    \"\"\"\n",
    "    #print('this player: {}'.format(player))\n",
    "    #print('this season: {}'.format(season))\n",
    "    \n",
    "    AVERAGE_AGE = 26.5\n",
    "    \n",
    "    mid_point = '01 January {}'.format(season[-4:])\n",
    "    #print('this season mid point: {}'.format(mid_point))\n",
    "          \n",
    "    try:\n",
    "        dob = dflfc_players[dflfc_players.player==player].birthdate.values[0]\n",
    "    except:\n",
    "        # use average age if player's birthdate not available\n",
    "        print('warning: age not found for player {} in season {}, using average age {}'.format(player, \n",
    "                                                                                             season, \n",
    "                                                                                             AVERAGE_AGE))\n",
    "        return AVERAGE_AGE\n",
    "    return round((pd.Timestamp(mid_point) - dob).days/365.0, 1)"
   ]
  },
  {
   "cell_type": "code",
   "execution_count": 35,
   "metadata": {},
   "outputs": [],
   "source": [
    "# v3\n",
    "# change log: Aug 2019, \n",
    "# enhanced to pass individual dayta items as input, rather than a row of data\n",
    "# made use of dflfc_players more explicit\n",
    "# ensure consistent calculation of age as year decimal\n",
    "def age_at_season(player, season, dflfc_players=dflfc_players):\n",
    "    \"\"\"Return player's age at mid-point of season, assumed to be 1st Jan.\n",
    "    \n",
    "        player -> player's name: string e.g. 'Ian Rush'\n",
    "        season -> season: string e.g. '1984-1985'\n",
    "        dflfc_players -> dataframe with columns ['player', 'birthdate'] e.g. \n",
    "                player   | birthdate  | country\n",
    "                Ian Rush | 1961-10-20 | Wales\n",
    "        \n",
    "        uses dflfc_players to look-up birthdate, keyed on player\n",
    "        return age as year.fraction, rouned to one decimal place\n",
    "        \n",
    "        e.g. age_at_season('Ian Rush', '1985-1986') -> 24.2\n",
    "        \n",
    "        return average age (26.5) if player is missing from dflfc_players\n",
    "    \"\"\"\n",
    "    #print('this player: {}'.format(player))\n",
    "    \n",
    "    AVERAGE_AGE = 26.5\n",
    "    \n",
    "    # define mid-point of the season, to be used to calculate the players age in a given season\n",
    "    mid_point = pd.Timestamp('01 January {}'.format(season[-4:]))\n",
    "    #print('this season mid point: {}'.format(mid_point))\n",
    "          \n",
    "    try:\n",
    "        # look-up player's date of birth\n",
    "        dob = dflfc_players[dflfc_players.player==player].birthdate.values[0]\n",
    "    except:\n",
    "        # use average age if player's birthdate not available\n",
    "        print('warning: age not found for player {} in season {}, using average age {}'.format(player, \n",
    "                                                                                             season, \n",
    "                                                                                             AVERAGE_AGE))\n",
    "        return AVERAGE_AGE\n",
    "\n",
    "    # calculate player's age at mid-point of season\n",
    "    bday = pd.Timestamp(dob)\n",
    "    result = dr.relativedelta(mid_point.to_pydatetime(), bday.to_pydatetime())\n",
    "    \n",
    "    # return result as year.fraction\n",
    "    yr_int = result.years\n",
    "    yr_fraction = (result.months*30 + result.days)/365.2425\n",
    "\n",
    "    return yr_int + round(yr_fraction, 1)"
   ]
  },
  {
   "cell_type": "code",
   "execution_count": 36,
   "metadata": {},
   "outputs": [],
   "source": [
    "# test function age_at_season()\n",
    "\n",
    "assert age_at_season('Ian Rush', '1985-1986') == 24.2\n",
    "\n",
    "# create a dataframe with test data\n",
    "d = {'Jan_baby': ['01 January 2000', '2000-2001'], 'Feb_baby': ['01 February 2000', '2000-2001'],\n",
    "     'Jan2_baby': ['02 January 2000', '2000-2001'], 'Dec2_baby': ['31 December 2000', '2000-2001'],\n",
    "     'Mar_baby': ['01 March 2000', '2000-2001'], 'Apr_baby': ['01 April 2000', '2000-2001'],\n",
    "     'May_baby': ['01 May 2000', '2000-2001'], 'Jun_baby': ['01 June 2000', '2000-2001'],\n",
    "     'Jul_baby': ['01 July 2000', '2000-2001'], 'Aug_baby': ['01 August 2000', '2000-2001'],\n",
    "     'Sep_baby': ['01 September 2000', '2000-2001'], 'Oct_baby': ['01 October 2000', '2000-2001'],\n",
    "     'Nov_baby': ['01 November 2000', '2000-2001'], 'Dec_baby': ['01 December 2000', '2000-2001']}\n",
    "df_test = pd.DataFrame.from_dict(d, orient='index', columns=['birthdate', 'season'])\n",
    "df_test.index.name = 'player'\n",
    "df_test.reset_index(inplace=True)\n",
    "df_test['birthdate'] = pd.to_datetime(df_test.birthdate)\n",
    "\n",
    "# check single values in dataframe\n",
    "assert (age_at_season('Jul_baby', '2000-2001', df_test) == 0.5)\n",
    "assert (age_at_season('Nov_baby', '2000-2001', df_test) == 0.2)\n",
    "\n",
    "# check edge examples\n",
    "#print(age_at_season('Jan2_baby', '2000-2001', df_test))\n",
    "assert (age_at_season('Jan2_baby', '2000-2001', df_test) == 1.0)\n",
    "#print(age_at_season('Dec2_baby', '2000-2001', df_test))\n",
    "assert (age_at_season('Dec2_baby', '2000-2001', df_test) == 0.0)\n",
    "\n",
    "# check all values in dataframe\n",
    "#print(age_at_season('Jan_baby', '2000-2001', df_test))\n",
    "assert (age_at_season('Jan_baby', '2000-2001', df_test) == 1.0)\n",
    "#print(age_at_season('Feb_baby', '2000-2001', df_test))\n",
    "assert (age_at_season('Feb_baby', '2000-2001', df_test) == 0.9)\n",
    "#print(age_at_season('Mar_baby', '2000-2001', df_test))\n",
    "assert (age_at_season('Mar_baby', '2000-2001', df_test) == 0.8)\n",
    "#print(age_at_season('Apr_baby', '2000-2001', df_test))\n",
    "assert (age_at_season('Apr_baby', '2000-2001', df_test) == 0.7)\n",
    "#print(age_at_season('May_baby', '2000-2001', df_test))\n",
    "assert (age_at_season('May_baby', '2000-2001', df_test) == 0.7)\n",
    "#print(age_at_season('Jun_baby', '2000-2001', df_test))\n",
    "assert (age_at_season('Jun_baby', '2000-2001', df_test) == 0.6)\n",
    "#print(age_at_season('Jul_baby', '2000-2001', df_test))\n",
    "assert (age_at_season('Jul_baby', '2000-2001', df_test) == 0.5)\n",
    "#print(age_at_season('Aug_baby', '2000-2001', df_test))\n",
    "assert (age_at_season('Aug_baby', '2000-2001', df_test) == 0.4)\n",
    "#print(age_at_season('Sep_baby', '2000-2001', df_test))\n",
    "assert (age_at_season('Sep_baby', '2000-2001', df_test) == 0.3)\n",
    "#print(age_at_season('Oct_baby', '2000-2001', df_test))\n",
    "assert (age_at_season('Oct_baby', '2000-2001', df_test) == 0.2)\n",
    "#print(age_at_season('Nov_baby', '2000-2001', df_test))\n",
    "assert (age_at_season('Nov_baby', '2000-2001', df_test) == 0.2)\n",
    "#print(age_at_season('Dec_baby', '2000-2001', df_test))\n",
    "assert (age_at_season('Dec_baby', '2000-2001', df_test) == 0.1)\n",
    "\n",
    "# check for same result when applying the function\n",
    "expected_set = {1.0, 0.9, 0.8, 0.7, 0.6, 0.5, 0.4, 0.3, 0.2, 0.1, 0.0}\n",
    "#print(set(df_test.apply(lambda row: age_at_season(row.player, row.season, df_test), axis=1)))\n",
    "assert (set(df_test.apply(lambda row: age_at_season(row.player, row.season, df_test), axis=1)) == expected_set)\n",
    "\n",
    "# check specific players with dflfc_players\n",
    "# Jon Flanagan was born on 1st Jan 1993, so check age is whole number\n",
    "assert (age_at_season('Jon Flanagan', '2012-2013') == 20.0)\n",
    "# Rigobert Song was born on 1st Jul 1976, so check age is half a whole number\n",
    "assert (age_at_season('Rigobert Song', '2005-2006') == 29.5)"
   ]
  },
  {
   "cell_type": "code",
   "execution_count": 37,
   "metadata": {},
   "outputs": [],
   "source": [
    "# create new dataframe and add age column\n",
    "# no warnings expected i.e. all players should be found\n",
    "dflfc_scorers_tl_pos_age = dflfc_scorers_tl_pos.copy()\n",
    "dflfc_scorers_tl_pos_age['age'] = dflfc_scorers_tl_pos.apply(lambda row: age_at_season(row.player, row.season), axis=1)"
   ]
  },
  {
   "cell_type": "code",
   "execution_count": 38,
   "metadata": {},
   "outputs": [
    {
     "data": {
      "text/html": [
       "<div>\n",
       "<style scoped>\n",
       "    .dataframe tbody tr th:only-of-type {\n",
       "        vertical-align: middle;\n",
       "    }\n",
       "\n",
       "    .dataframe tbody tr th {\n",
       "        vertical-align: top;\n",
       "    }\n",
       "\n",
       "    .dataframe thead th {\n",
       "        text-align: right;\n",
       "    }\n",
       "</style>\n",
       "<table border=\"1\" class=\"dataframe\">\n",
       "  <thead>\n",
       "    <tr style=\"text-align: right;\">\n",
       "      <th></th>\n",
       "      <th>season</th>\n",
       "      <th>player</th>\n",
       "      <th>league</th>\n",
       "      <th>position</th>\n",
       "      <th>age</th>\n",
       "    </tr>\n",
       "  </thead>\n",
       "  <tbody>\n",
       "    <tr>\n",
       "      <th>0</th>\n",
       "      <td>2018-2019</td>\n",
       "      <td>Mohamed Salah</td>\n",
       "      <td>22</td>\n",
       "      <td>Striker</td>\n",
       "      <td>26.5</td>\n",
       "    </tr>\n",
       "    <tr>\n",
       "      <th>1</th>\n",
       "      <td>2018-2019</td>\n",
       "      <td>Sadio Mane</td>\n",
       "      <td>22</td>\n",
       "      <td>Striker</td>\n",
       "      <td>26.7</td>\n",
       "    </tr>\n",
       "    <tr>\n",
       "      <th>2</th>\n",
       "      <td>2018-2019</td>\n",
       "      <td>Roberto Firmino</td>\n",
       "      <td>12</td>\n",
       "      <td>Striker</td>\n",
       "      <td>27.2</td>\n",
       "    </tr>\n",
       "    <tr>\n",
       "      <th>3</th>\n",
       "      <td>2018-2019</td>\n",
       "      <td>Xherdan Shaqiri</td>\n",
       "      <td>6</td>\n",
       "      <td>Midfielder</td>\n",
       "      <td>27.2</td>\n",
       "    </tr>\n",
       "    <tr>\n",
       "      <th>4</th>\n",
       "      <td>2018-2019</td>\n",
       "      <td>James Milner</td>\n",
       "      <td>5</td>\n",
       "      <td>Midfielder</td>\n",
       "      <td>33.0</td>\n",
       "    </tr>\n",
       "    <tr>\n",
       "      <th>5</th>\n",
       "      <td>2018-2019</td>\n",
       "      <td>Virgil Van Dijk</td>\n",
       "      <td>4</td>\n",
       "      <td>Defender</td>\n",
       "      <td>27.5</td>\n",
       "    </tr>\n",
       "    <tr>\n",
       "      <th>6</th>\n",
       "      <td>2018-2019</td>\n",
       "      <td>Divock Origi</td>\n",
       "      <td>3</td>\n",
       "      <td>Striker</td>\n",
       "      <td>23.7</td>\n",
       "    </tr>\n",
       "    <tr>\n",
       "      <th>7</th>\n",
       "      <td>2018-2019</td>\n",
       "      <td>Georginio Wijnaldum</td>\n",
       "      <td>3</td>\n",
       "      <td>Midfielder</td>\n",
       "      <td>28.1</td>\n",
       "    </tr>\n",
       "    <tr>\n",
       "      <th>8</th>\n",
       "      <td>2018-2019</td>\n",
       "      <td>Daniel Sturridge</td>\n",
       "      <td>2</td>\n",
       "      <td>Striker</td>\n",
       "      <td>29.3</td>\n",
       "    </tr>\n",
       "    <tr>\n",
       "      <th>9</th>\n",
       "      <td>2018-2019</td>\n",
       "      <td>Naby Keita</td>\n",
       "      <td>2</td>\n",
       "      <td>Midfielder</td>\n",
       "      <td>23.9</td>\n",
       "    </tr>\n",
       "    <tr>\n",
       "      <th>10</th>\n",
       "      <td>2018-2019</td>\n",
       "      <td>Fabinho Tavarez</td>\n",
       "      <td>1</td>\n",
       "      <td>Midfielder</td>\n",
       "      <td>25.2</td>\n",
       "    </tr>\n",
       "    <tr>\n",
       "      <th>11</th>\n",
       "      <td>2018-2019</td>\n",
       "      <td>Trent Alexander-Arnold</td>\n",
       "      <td>1</td>\n",
       "      <td>Defender</td>\n",
       "      <td>20.2</td>\n",
       "    </tr>\n",
       "    <tr>\n",
       "      <th>12</th>\n",
       "      <td>2018-2019</td>\n",
       "      <td>Joel Matip</td>\n",
       "      <td>1</td>\n",
       "      <td>Defender</td>\n",
       "      <td>27.4</td>\n",
       "    </tr>\n",
       "    <tr>\n",
       "      <th>13</th>\n",
       "      <td>2018-2019</td>\n",
       "      <td>Jordan Henderson</td>\n",
       "      <td>1</td>\n",
       "      <td>Midfielder</td>\n",
       "      <td>28.5</td>\n",
       "    </tr>\n",
       "    <tr>\n",
       "      <th>14</th>\n",
       "      <td>2018-2019</td>\n",
       "      <td>Dejan Lovren</td>\n",
       "      <td>1</td>\n",
       "      <td>Defender</td>\n",
       "      <td>29.5</td>\n",
       "    </tr>\n",
       "  </tbody>\n",
       "</table>\n",
       "</div>"
      ],
      "text/plain": [
       "       season                  player  league    position   age\n",
       "0   2018-2019           Mohamed Salah      22     Striker  26.5\n",
       "1   2018-2019              Sadio Mane      22     Striker  26.7\n",
       "2   2018-2019         Roberto Firmino      12     Striker  27.2\n",
       "3   2018-2019         Xherdan Shaqiri       6  Midfielder  27.2\n",
       "4   2018-2019            James Milner       5  Midfielder  33.0\n",
       "5   2018-2019         Virgil Van Dijk       4    Defender  27.5\n",
       "6   2018-2019            Divock Origi       3     Striker  23.7\n",
       "7   2018-2019     Georginio Wijnaldum       3  Midfielder  28.1\n",
       "8   2018-2019        Daniel Sturridge       2     Striker  29.3\n",
       "9   2018-2019              Naby Keita       2  Midfielder  23.9\n",
       "10  2018-2019         Fabinho Tavarez       1  Midfielder  25.2\n",
       "11  2018-2019  Trent Alexander-Arnold       1    Defender  20.2\n",
       "12  2018-2019              Joel Matip       1    Defender  27.4\n",
       "13  2018-2019        Jordan Henderson       1  Midfielder  28.5\n",
       "14  2018-2019            Dejan Lovren       1    Defender  29.5"
      ]
     },
     "execution_count": 38,
     "metadata": {},
     "output_type": "execute_result"
    }
   ],
   "source": [
    "dflfc_scorers_tl_pos_age.head(15)"
   ]
  },
  {
   "cell_type": "code",
   "execution_count": 39,
   "metadata": {},
   "outputs": [
    {
     "data": {
      "text/html": [
       "<div>\n",
       "<style scoped>\n",
       "    .dataframe tbody tr th:only-of-type {\n",
       "        vertical-align: middle;\n",
       "    }\n",
       "\n",
       "    .dataframe tbody tr th {\n",
       "        vertical-align: top;\n",
       "    }\n",
       "\n",
       "    .dataframe thead th {\n",
       "        text-align: right;\n",
       "    }\n",
       "</style>\n",
       "<table border=\"1\" class=\"dataframe\">\n",
       "  <thead>\n",
       "    <tr style=\"text-align: right;\">\n",
       "      <th></th>\n",
       "      <th>season</th>\n",
       "      <th>player</th>\n",
       "      <th>league</th>\n",
       "      <th>position</th>\n",
       "      <th>age</th>\n",
       "    </tr>\n",
       "  </thead>\n",
       "  <tbody>\n",
       "    <tr>\n",
       "      <th>413</th>\n",
       "      <td>1986-1987</td>\n",
       "      <td>Kenny Dalglish</td>\n",
       "      <td>6</td>\n",
       "      <td>Midfielder</td>\n",
       "      <td>35.8</td>\n",
       "    </tr>\n",
       "    <tr>\n",
       "      <th>429</th>\n",
       "      <td>1985-1986</td>\n",
       "      <td>Kenny Dalglish</td>\n",
       "      <td>3</td>\n",
       "      <td>Midfielder</td>\n",
       "      <td>34.8</td>\n",
       "    </tr>\n",
       "    <tr>\n",
       "      <th>440</th>\n",
       "      <td>1984-1985</td>\n",
       "      <td>Kenny Dalglish</td>\n",
       "      <td>6</td>\n",
       "      <td>Midfielder</td>\n",
       "      <td>33.8</td>\n",
       "    </tr>\n",
       "    <tr>\n",
       "      <th>450</th>\n",
       "      <td>1983-1984</td>\n",
       "      <td>Kenny Dalglish</td>\n",
       "      <td>7</td>\n",
       "      <td>Midfielder</td>\n",
       "      <td>32.8</td>\n",
       "    </tr>\n",
       "    <tr>\n",
       "      <th>461</th>\n",
       "      <td>1982-1983</td>\n",
       "      <td>Kenny Dalglish</td>\n",
       "      <td>18</td>\n",
       "      <td>Midfielder</td>\n",
       "      <td>31.8</td>\n",
       "    </tr>\n",
       "    <tr>\n",
       "      <th>473</th>\n",
       "      <td>1981-1982</td>\n",
       "      <td>Kenny Dalglish</td>\n",
       "      <td>13</td>\n",
       "      <td>Striker</td>\n",
       "      <td>30.8</td>\n",
       "    </tr>\n",
       "    <tr>\n",
       "      <th>484</th>\n",
       "      <td>1980-1981</td>\n",
       "      <td>Kenny Dalglish</td>\n",
       "      <td>8</td>\n",
       "      <td>Striker</td>\n",
       "      <td>29.8</td>\n",
       "    </tr>\n",
       "    <tr>\n",
       "      <th>498</th>\n",
       "      <td>1979-1980</td>\n",
       "      <td>Kenny Dalglish</td>\n",
       "      <td>16</td>\n",
       "      <td>Striker</td>\n",
       "      <td>28.8</td>\n",
       "    </tr>\n",
       "    <tr>\n",
       "      <th>509</th>\n",
       "      <td>1978-1979</td>\n",
       "      <td>Kenny Dalglish</td>\n",
       "      <td>21</td>\n",
       "      <td>Striker</td>\n",
       "      <td>27.8</td>\n",
       "    </tr>\n",
       "    <tr>\n",
       "      <th>520</th>\n",
       "      <td>1977-1978</td>\n",
       "      <td>Kenny Dalglish</td>\n",
       "      <td>20</td>\n",
       "      <td>Striker</td>\n",
       "      <td>26.8</td>\n",
       "    </tr>\n",
       "  </tbody>\n",
       "</table>\n",
       "</div>"
      ],
      "text/plain": [
       "        season          player  league    position   age\n",
       "413  1986-1987  Kenny Dalglish       6  Midfielder  35.8\n",
       "429  1985-1986  Kenny Dalglish       3  Midfielder  34.8\n",
       "440  1984-1985  Kenny Dalglish       6  Midfielder  33.8\n",
       "450  1983-1984  Kenny Dalglish       7  Midfielder  32.8\n",
       "461  1982-1983  Kenny Dalglish      18  Midfielder  31.8\n",
       "473  1981-1982  Kenny Dalglish      13     Striker  30.8\n",
       "484  1980-1981  Kenny Dalglish       8     Striker  29.8\n",
       "498  1979-1980  Kenny Dalglish      16     Striker  28.8\n",
       "509  1978-1979  Kenny Dalglish      21     Striker  27.8\n",
       "520  1977-1978  Kenny Dalglish      20     Striker  26.8"
      ]
     },
     "execution_count": 39,
     "metadata": {},
     "output_type": "execute_result"
    }
   ],
   "source": [
    "# check data for Kenny Dalglish\n",
    "dflfc_scorers_tl_pos_age[dflfc_scorers_tl_pos_age.player=='Kenny Dalglish']"
   ]
  },
  {
   "cell_type": "markdown",
   "metadata": {},
   "source": [
    "#### Save the new dataframe\n",
    "_This is the key dataframe used in the plot of age vs league goals._"
   ]
  },
  {
   "cell_type": "code",
   "execution_count": 40,
   "metadata": {},
   "outputs": [],
   "source": [
    "dflfc_scorers_tl_pos_age.to_csv(LFC_SCORERS_TL_POS_AGE_CSV_FILE, header=True, index=False, sep=',')\n",
    "assert os.path.isfile(LFC_SCORERS_TL_POS_AGE_CSV_FILE) "
   ]
  },
  {
   "cell_type": "markdown",
   "metadata": {},
   "source": [
    "### Create a dataframe of players who have scored a goal for Liverpool in the top flight"
   ]
  },
  {
   "cell_type": "code",
   "execution_count": 41,
   "metadata": {},
   "outputs": [
    {
     "name": "stdout",
     "output_type": "stream",
     "text": [
      "              player\n",
      "99       Abel Xavier\n",
      "384  Abraham Hartley\n",
      "22      Adam Lallana\n",
      "205     Alan A'Court\n",
      "219      Alan Arnell\n"
     ]
    }
   ],
   "source": [
    "df_dropdown = pd.DataFrame(dflfc_scorers_tl_pos_age.player.unique(), columns=['player'])\\\n",
    "                .sort_values('player')\n",
    "print(df_dropdown.head())"
   ]
  },
  {
   "cell_type": "markdown",
   "metadata": {},
   "source": [
    "#### Save the new dataframe\n",
    "_This is used by the lfcgmR application to provide a 'dropdown'list of players_"
   ]
  },
  {
   "cell_type": "code",
   "execution_count": 42,
   "metadata": {},
   "outputs": [],
   "source": [
    "df_dropdown.to_csv(LFCGM_DROPDOWN, header=True, index=False)\n",
    "assert os.path.isfile(LFCGM_DROPDOWN) "
   ]
  },
  {
   "cell_type": "markdown",
   "metadata": {},
   "source": [
    "### Create dataframe of player's league appearances\n",
    "Input data source: lfchistory.net"
   ]
  },
  {
   "cell_type": "code",
   "execution_count": 43,
   "metadata": {},
   "outputs": [
    {
     "name": "stdout",
     "output_type": "stream",
     "text": [
      "Loading LFC appearances csv from data\\lfc_apps_1892-1893_2018-2019.csv\n",
      "(2658, 3)\n"
     ]
    },
    {
     "data": {
      "text/html": [
       "<div>\n",
       "<style scoped>\n",
       "    .dataframe tbody tr th:only-of-type {\n",
       "        vertical-align: middle;\n",
       "    }\n",
       "\n",
       "    .dataframe tbody tr th {\n",
       "        vertical-align: top;\n",
       "    }\n",
       "\n",
       "    .dataframe thead th {\n",
       "        text-align: right;\n",
       "    }\n",
       "</style>\n",
       "<table border=\"1\" class=\"dataframe\">\n",
       "  <thead>\n",
       "    <tr style=\"text-align: right;\">\n",
       "      <th></th>\n",
       "      <th>season</th>\n",
       "      <th>player</th>\n",
       "      <th>lgapp</th>\n",
       "    </tr>\n",
       "  </thead>\n",
       "  <tbody>\n",
       "    <tr>\n",
       "      <th>0</th>\n",
       "      <td>1892-1893</td>\n",
       "      <td>Andrew Hannah</td>\n",
       "      <td>22</td>\n",
       "    </tr>\n",
       "    <tr>\n",
       "      <th>1</th>\n",
       "      <td>1892-1893</td>\n",
       "      <td>Duncan McLean</td>\n",
       "      <td>22</td>\n",
       "    </tr>\n",
       "    <tr>\n",
       "      <th>2</th>\n",
       "      <td>1892-1893</td>\n",
       "      <td>Tom Wyllie</td>\n",
       "      <td>22</td>\n",
       "    </tr>\n",
       "    <tr>\n",
       "      <th>3</th>\n",
       "      <td>1892-1893</td>\n",
       "      <td>Malcolm McVean</td>\n",
       "      <td>21</td>\n",
       "    </tr>\n",
       "    <tr>\n",
       "      <th>4</th>\n",
       "      <td>1892-1893</td>\n",
       "      <td>John Miller</td>\n",
       "      <td>21</td>\n",
       "    </tr>\n",
       "  </tbody>\n",
       "</table>\n",
       "</div>"
      ],
      "text/plain": [
       "      season          player  lgapp\n",
       "0  1892-1893   Andrew Hannah     22\n",
       "1  1892-1893   Duncan McLean     22\n",
       "2  1892-1893      Tom Wyllie     22\n",
       "3  1892-1893  Malcolm McVean     21\n",
       "4  1892-1893     John Miller     21"
      ]
     },
     "execution_count": 43,
     "metadata": {},
     "output_type": "execute_result"
    }
   ],
   "source": [
    "# read the appearance file\n",
    "print('Loading LFC appearances csv from {}'.format(LFC_APPS_CSV_FILE))\n",
    "dflfc_lgapps = pd.read_csv(LFC_APPS_CSV_FILE)\n",
    "print(dflfc_lgapps.shape)\n",
    "dflfc_lgapps.head()"
   ]
  },
  {
   "cell_type": "markdown",
   "metadata": {},
   "source": [
    "### Create merged dataframe of players, combining scorers in top league level season with squad position, age and appearances"
   ]
  },
  {
   "cell_type": "code",
   "execution_count": 44,
   "metadata": {},
   "outputs": [
    {
     "name": "stdout",
     "output_type": "stream",
     "text": [
      "(1241, 7)\n",
      "(1241, 4)\n"
     ]
    }
   ],
   "source": [
    "dflfc_scorers_tl_pos_age_apps = dflfc_scorers_tl_pos_age.merge(dflfc_lgapps)\n",
    "# calculate GPG for each player season and add as a column\n",
    "dflfc_scorers_tl_pos_age_apps['GPG'] = (dflfc_scorers_tl_pos_age_apps.league/dflfc_scorers_tl_pos_age_apps.lgapp).round(3)\n",
    "print(dflfc_scorers_tl_pos_age_apps.shape)\n",
    "print(dflfc_scorers_tl_pos.shape)"
   ]
  },
  {
   "cell_type": "code",
   "execution_count": 45,
   "metadata": {},
   "outputs": [
    {
     "data": {
      "text/html": [
       "<div>\n",
       "<style scoped>\n",
       "    .dataframe tbody tr th:only-of-type {\n",
       "        vertical-align: middle;\n",
       "    }\n",
       "\n",
       "    .dataframe tbody tr th {\n",
       "        vertical-align: top;\n",
       "    }\n",
       "\n",
       "    .dataframe thead th {\n",
       "        text-align: right;\n",
       "    }\n",
       "</style>\n",
       "<table border=\"1\" class=\"dataframe\">\n",
       "  <thead>\n",
       "    <tr style=\"text-align: right;\">\n",
       "      <th></th>\n",
       "      <th>season</th>\n",
       "      <th>player</th>\n",
       "      <th>league</th>\n",
       "      <th>position</th>\n",
       "      <th>age</th>\n",
       "      <th>lgapp</th>\n",
       "      <th>GPG</th>\n",
       "    </tr>\n",
       "  </thead>\n",
       "  <tbody>\n",
       "    <tr>\n",
       "      <th>0</th>\n",
       "      <td>2018-2019</td>\n",
       "      <td>Mohamed Salah</td>\n",
       "      <td>22</td>\n",
       "      <td>Striker</td>\n",
       "      <td>26.5</td>\n",
       "      <td>38</td>\n",
       "      <td>0.579</td>\n",
       "    </tr>\n",
       "    <tr>\n",
       "      <th>1</th>\n",
       "      <td>2018-2019</td>\n",
       "      <td>Sadio Mane</td>\n",
       "      <td>22</td>\n",
       "      <td>Striker</td>\n",
       "      <td>26.7</td>\n",
       "      <td>36</td>\n",
       "      <td>0.611</td>\n",
       "    </tr>\n",
       "    <tr>\n",
       "      <th>2</th>\n",
       "      <td>2018-2019</td>\n",
       "      <td>Roberto Firmino</td>\n",
       "      <td>12</td>\n",
       "      <td>Striker</td>\n",
       "      <td>27.2</td>\n",
       "      <td>34</td>\n",
       "      <td>0.353</td>\n",
       "    </tr>\n",
       "    <tr>\n",
       "      <th>3</th>\n",
       "      <td>2018-2019</td>\n",
       "      <td>Xherdan Shaqiri</td>\n",
       "      <td>6</td>\n",
       "      <td>Midfielder</td>\n",
       "      <td>27.2</td>\n",
       "      <td>24</td>\n",
       "      <td>0.250</td>\n",
       "    </tr>\n",
       "    <tr>\n",
       "      <th>4</th>\n",
       "      <td>2018-2019</td>\n",
       "      <td>James Milner</td>\n",
       "      <td>5</td>\n",
       "      <td>Midfielder</td>\n",
       "      <td>33.0</td>\n",
       "      <td>31</td>\n",
       "      <td>0.161</td>\n",
       "    </tr>\n",
       "  </tbody>\n",
       "</table>\n",
       "</div>"
      ],
      "text/plain": [
       "      season           player  league    position   age  lgapp    GPG\n",
       "0  2018-2019    Mohamed Salah      22     Striker  26.5     38  0.579\n",
       "1  2018-2019       Sadio Mane      22     Striker  26.7     36  0.611\n",
       "2  2018-2019  Roberto Firmino      12     Striker  27.2     34  0.353\n",
       "3  2018-2019  Xherdan Shaqiri       6  Midfielder  27.2     24  0.250\n",
       "4  2018-2019     James Milner       5  Midfielder  33.0     31  0.161"
      ]
     },
     "execution_count": 45,
     "metadata": {},
     "output_type": "execute_result"
    }
   ],
   "source": [
    "dflfc_scorers_tl_pos_age_apps.head()"
   ]
  },
  {
   "cell_type": "code",
   "execution_count": 46,
   "metadata": {},
   "outputs": [
    {
     "data": {
      "text/html": [
       "<div>\n",
       "<style scoped>\n",
       "    .dataframe tbody tr th:only-of-type {\n",
       "        vertical-align: middle;\n",
       "    }\n",
       "\n",
       "    .dataframe tbody tr th {\n",
       "        vertical-align: top;\n",
       "    }\n",
       "\n",
       "    .dataframe thead th {\n",
       "        text-align: right;\n",
       "    }\n",
       "</style>\n",
       "<table border=\"1\" class=\"dataframe\">\n",
       "  <thead>\n",
       "    <tr style=\"text-align: right;\">\n",
       "      <th></th>\n",
       "      <th>season</th>\n",
       "      <th>player</th>\n",
       "      <th>league</th>\n",
       "      <th>position</th>\n",
       "      <th>age</th>\n",
       "      <th>lgapp</th>\n",
       "      <th>GPG</th>\n",
       "    </tr>\n",
       "  </thead>\n",
       "  <tbody>\n",
       "    <tr>\n",
       "      <th>1236</th>\n",
       "      <td>1894-1895</td>\n",
       "      <td>Frank Becton</td>\n",
       "      <td>4</td>\n",
       "      <td>Striker</td>\n",
       "      <td>21.2</td>\n",
       "      <td>5</td>\n",
       "      <td>0.800</td>\n",
       "    </tr>\n",
       "    <tr>\n",
       "      <th>1237</th>\n",
       "      <td>1894-1895</td>\n",
       "      <td>Neil Kerr</td>\n",
       "      <td>3</td>\n",
       "      <td>Midfielder</td>\n",
       "      <td>23.7</td>\n",
       "      <td>12</td>\n",
       "      <td>0.250</td>\n",
       "    </tr>\n",
       "    <tr>\n",
       "      <th>1238</th>\n",
       "      <td>1894-1895</td>\n",
       "      <td>Hugh McQueen</td>\n",
       "      <td>2</td>\n",
       "      <td>Midfielder</td>\n",
       "      <td>27.2</td>\n",
       "      <td>12</td>\n",
       "      <td>0.167</td>\n",
       "    </tr>\n",
       "    <tr>\n",
       "      <th>1239</th>\n",
       "      <td>1894-1895</td>\n",
       "      <td>Joe McQue</td>\n",
       "      <td>1</td>\n",
       "      <td>Defender</td>\n",
       "      <td>21.8</td>\n",
       "      <td>29</td>\n",
       "      <td>0.034</td>\n",
       "    </tr>\n",
       "    <tr>\n",
       "      <th>1240</th>\n",
       "      <td>1894-1895</td>\n",
       "      <td>Patrick Gordon</td>\n",
       "      <td>1</td>\n",
       "      <td>Midfielder</td>\n",
       "      <td>24.9</td>\n",
       "      <td>5</td>\n",
       "      <td>0.200</td>\n",
       "    </tr>\n",
       "  </tbody>\n",
       "</table>\n",
       "</div>"
      ],
      "text/plain": [
       "         season          player  league    position   age  lgapp    GPG\n",
       "1236  1894-1895    Frank Becton       4     Striker  21.2      5  0.800\n",
       "1237  1894-1895       Neil Kerr       3  Midfielder  23.7     12  0.250\n",
       "1238  1894-1895    Hugh McQueen       2  Midfielder  27.2     12  0.167\n",
       "1239  1894-1895       Joe McQue       1    Defender  21.8     29  0.034\n",
       "1240  1894-1895  Patrick Gordon       1  Midfielder  24.9      5  0.200"
      ]
     },
     "execution_count": 46,
     "metadata": {},
     "output_type": "execute_result"
    }
   ],
   "source": [
    "dflfc_scorers_tl_pos_age_apps.tail()"
   ]
  },
  {
   "cell_type": "code",
   "execution_count": 47,
   "metadata": {},
   "outputs": [
    {
     "data": {
      "text/html": [
       "<div>\n",
       "<style scoped>\n",
       "    .dataframe tbody tr th:only-of-type {\n",
       "        vertical-align: middle;\n",
       "    }\n",
       "\n",
       "    .dataframe tbody tr th {\n",
       "        vertical-align: top;\n",
       "    }\n",
       "\n",
       "    .dataframe thead th {\n",
       "        text-align: right;\n",
       "    }\n",
       "</style>\n",
       "<table border=\"1\" class=\"dataframe\">\n",
       "  <thead>\n",
       "    <tr style=\"text-align: right;\">\n",
       "      <th></th>\n",
       "      <th>season</th>\n",
       "      <th>player</th>\n",
       "      <th>league</th>\n",
       "      <th>position</th>\n",
       "      <th>age</th>\n",
       "      <th>lgapp</th>\n",
       "      <th>GPG</th>\n",
       "    </tr>\n",
       "  </thead>\n",
       "  <tbody>\n",
       "    <tr>\n",
       "      <th>1088</th>\n",
       "      <td>1909-1910</td>\n",
       "      <td>Jack Parkinson</td>\n",
       "      <td>30</td>\n",
       "      <td>Striker</td>\n",
       "      <td>26.3</td>\n",
       "      <td>31</td>\n",
       "      <td>0.968</td>\n",
       "    </tr>\n",
       "    <tr>\n",
       "      <th>1159</th>\n",
       "      <td>1902-1903</td>\n",
       "      <td>Sam Raybould</td>\n",
       "      <td>31</td>\n",
       "      <td>Striker</td>\n",
       "      <td>27.6</td>\n",
       "      <td>33</td>\n",
       "      <td>0.939</td>\n",
       "    </tr>\n",
       "    <tr>\n",
       "      <th>75</th>\n",
       "      <td>2013-2014</td>\n",
       "      <td>Luis Suarez</td>\n",
       "      <td>31</td>\n",
       "      <td>Striker</td>\n",
       "      <td>26.9</td>\n",
       "      <td>33</td>\n",
       "      <td>0.939</td>\n",
       "    </tr>\n",
       "    <tr>\n",
       "      <th>892</th>\n",
       "      <td>1930-1931</td>\n",
       "      <td>Gordon Hodgson</td>\n",
       "      <td>36</td>\n",
       "      <td>Striker</td>\n",
       "      <td>26.7</td>\n",
       "      <td>40</td>\n",
       "      <td>0.900</td>\n",
       "    </tr>\n",
       "    <tr>\n",
       "      <th>15</th>\n",
       "      <td>2017-2018</td>\n",
       "      <td>Mohamed Salah</td>\n",
       "      <td>32</td>\n",
       "      <td>Striker</td>\n",
       "      <td>25.5</td>\n",
       "      <td>36</td>\n",
       "      <td>0.889</td>\n",
       "    </tr>\n",
       "    <tr>\n",
       "      <th>953</th>\n",
       "      <td>1925-1926</td>\n",
       "      <td>Dick Forshaw</td>\n",
       "      <td>27</td>\n",
       "      <td>Striker</td>\n",
       "      <td>30.4</td>\n",
       "      <td>32</td>\n",
       "      <td>0.844</td>\n",
       "    </tr>\n",
       "    <tr>\n",
       "      <th>1028</th>\n",
       "      <td>1914-1915</td>\n",
       "      <td>Fred Pagnam</td>\n",
       "      <td>24</td>\n",
       "      <td>Striker</td>\n",
       "      <td>23.3</td>\n",
       "      <td>29</td>\n",
       "      <td>0.828</td>\n",
       "    </tr>\n",
       "    <tr>\n",
       "      <th>128</th>\n",
       "      <td>2009-2010</td>\n",
       "      <td>Fernando Torres</td>\n",
       "      <td>18</td>\n",
       "      <td>Striker</td>\n",
       "      <td>25.8</td>\n",
       "      <td>22</td>\n",
       "      <td>0.818</td>\n",
       "    </tr>\n",
       "    <tr>\n",
       "      <th>845</th>\n",
       "      <td>1934-1935</td>\n",
       "      <td>Gordon Hodgson</td>\n",
       "      <td>27</td>\n",
       "      <td>Striker</td>\n",
       "      <td>30.7</td>\n",
       "      <td>34</td>\n",
       "      <td>0.794</td>\n",
       "    </tr>\n",
       "    <tr>\n",
       "      <th>918</th>\n",
       "      <td>1928-1929</td>\n",
       "      <td>Gordon Hodgson</td>\n",
       "      <td>30</td>\n",
       "      <td>Striker</td>\n",
       "      <td>24.7</td>\n",
       "      <td>38</td>\n",
       "      <td>0.789</td>\n",
       "    </tr>\n",
       "  </tbody>\n",
       "</table>\n",
       "</div>"
      ],
      "text/plain": [
       "         season           player  league position   age  lgapp    GPG\n",
       "1088  1909-1910   Jack Parkinson      30  Striker  26.3     31  0.968\n",
       "1159  1902-1903     Sam Raybould      31  Striker  27.6     33  0.939\n",
       "75    2013-2014      Luis Suarez      31  Striker  26.9     33  0.939\n",
       "892   1930-1931   Gordon Hodgson      36  Striker  26.7     40  0.900\n",
       "15    2017-2018    Mohamed Salah      32  Striker  25.5     36  0.889\n",
       "953   1925-1926     Dick Forshaw      27  Striker  30.4     32  0.844\n",
       "1028  1914-1915      Fred Pagnam      24  Striker  23.3     29  0.828\n",
       "128   2009-2010  Fernando Torres      18  Striker  25.8     22  0.818\n",
       "845   1934-1935   Gordon Hodgson      27  Striker  30.7     34  0.794\n",
       "918   1928-1929   Gordon Hodgson      30  Striker  24.7     38  0.789"
      ]
     },
     "execution_count": 47,
     "metadata": {},
     "output_type": "execute_result"
    }
   ],
   "source": [
    "# show top GPG for players with > 10 games in a season\n",
    "dflfc_scorers_tl_pos_age_apps[dflfc_scorers_tl_pos_age_apps.lgapp > 10].sort_values('GPG', ascending=False).head(10)"
   ]
  },
  {
   "cell_type": "code",
   "execution_count": null,
   "metadata": {},
   "outputs": [],
   "source": []
  },
  {
   "cell_type": "markdown",
   "metadata": {},
   "source": [
    "## Validate The App Data"
   ]
  },
  {
   "cell_type": "markdown",
   "metadata": {},
   "source": [
    "Read the key player goals vs age data that is used by lfcgmR app"
   ]
  },
  {
   "cell_type": "code",
   "execution_count": 48,
   "metadata": {},
   "outputs": [],
   "source": [
    "dflfcgm = pd.read_csv(LFC_SCORERS_TL_POS_AGE_CSV_FILE)\n",
    "dflfcgm_dd = pd.read_csv(LFCGM_DROPDOWN)"
   ]
  },
  {
   "cell_type": "code",
   "execution_count": 49,
   "metadata": {},
   "outputs": [
    {
     "data": {
      "text/html": [
       "<div>\n",
       "<style scoped>\n",
       "    .dataframe tbody tr th:only-of-type {\n",
       "        vertical-align: middle;\n",
       "    }\n",
       "\n",
       "    .dataframe tbody tr th {\n",
       "        vertical-align: top;\n",
       "    }\n",
       "\n",
       "    .dataframe thead th {\n",
       "        text-align: right;\n",
       "    }\n",
       "</style>\n",
       "<table border=\"1\" class=\"dataframe\">\n",
       "  <thead>\n",
       "    <tr style=\"text-align: right;\">\n",
       "      <th></th>\n",
       "      <th>season</th>\n",
       "      <th>player</th>\n",
       "      <th>league</th>\n",
       "      <th>position</th>\n",
       "      <th>age</th>\n",
       "    </tr>\n",
       "  </thead>\n",
       "  <tbody>\n",
       "    <tr>\n",
       "      <th>0</th>\n",
       "      <td>2018-2019</td>\n",
       "      <td>Mohamed Salah</td>\n",
       "      <td>22</td>\n",
       "      <td>Striker</td>\n",
       "      <td>26.5</td>\n",
       "    </tr>\n",
       "    <tr>\n",
       "      <th>1</th>\n",
       "      <td>2018-2019</td>\n",
       "      <td>Sadio Mane</td>\n",
       "      <td>22</td>\n",
       "      <td>Striker</td>\n",
       "      <td>26.7</td>\n",
       "    </tr>\n",
       "    <tr>\n",
       "      <th>2</th>\n",
       "      <td>2018-2019</td>\n",
       "      <td>Roberto Firmino</td>\n",
       "      <td>12</td>\n",
       "      <td>Striker</td>\n",
       "      <td>27.2</td>\n",
       "    </tr>\n",
       "    <tr>\n",
       "      <th>3</th>\n",
       "      <td>2018-2019</td>\n",
       "      <td>Xherdan Shaqiri</td>\n",
       "      <td>6</td>\n",
       "      <td>Midfielder</td>\n",
       "      <td>27.2</td>\n",
       "    </tr>\n",
       "    <tr>\n",
       "      <th>4</th>\n",
       "      <td>2018-2019</td>\n",
       "      <td>James Milner</td>\n",
       "      <td>5</td>\n",
       "      <td>Midfielder</td>\n",
       "      <td>33.0</td>\n",
       "    </tr>\n",
       "  </tbody>\n",
       "</table>\n",
       "</div>"
      ],
      "text/plain": [
       "      season           player  league    position   age\n",
       "0  2018-2019    Mohamed Salah      22     Striker  26.5\n",
       "1  2018-2019       Sadio Mane      22     Striker  26.7\n",
       "2  2018-2019  Roberto Firmino      12     Striker  27.2\n",
       "3  2018-2019  Xherdan Shaqiri       6  Midfielder  27.2\n",
       "4  2018-2019     James Milner       5  Midfielder  33.0"
      ]
     },
     "execution_count": 49,
     "metadata": {},
     "output_type": "execute_result"
    }
   ],
   "source": [
    "dflfcgm.head()"
   ]
  },
  {
   "cell_type": "code",
   "execution_count": 50,
   "metadata": {},
   "outputs": [
    {
     "data": {
      "text/html": [
       "<div>\n",
       "<style scoped>\n",
       "    .dataframe tbody tr th:only-of-type {\n",
       "        vertical-align: middle;\n",
       "    }\n",
       "\n",
       "    .dataframe tbody tr th {\n",
       "        vertical-align: top;\n",
       "    }\n",
       "\n",
       "    .dataframe thead th {\n",
       "        text-align: right;\n",
       "    }\n",
       "</style>\n",
       "<table border=\"1\" class=\"dataframe\">\n",
       "  <thead>\n",
       "    <tr style=\"text-align: right;\">\n",
       "      <th></th>\n",
       "      <th>player</th>\n",
       "    </tr>\n",
       "  </thead>\n",
       "  <tbody>\n",
       "    <tr>\n",
       "      <th>0</th>\n",
       "      <td>Abel Xavier</td>\n",
       "    </tr>\n",
       "    <tr>\n",
       "      <th>1</th>\n",
       "      <td>Abraham Hartley</td>\n",
       "    </tr>\n",
       "    <tr>\n",
       "      <th>2</th>\n",
       "      <td>Adam Lallana</td>\n",
       "    </tr>\n",
       "    <tr>\n",
       "      <th>3</th>\n",
       "      <td>Alan A'Court</td>\n",
       "    </tr>\n",
       "    <tr>\n",
       "      <th>4</th>\n",
       "      <td>Alan Arnell</td>\n",
       "    </tr>\n",
       "  </tbody>\n",
       "</table>\n",
       "</div>"
      ],
      "text/plain": [
       "            player\n",
       "0      Abel Xavier\n",
       "1  Abraham Hartley\n",
       "2     Adam Lallana\n",
       "3     Alan A'Court\n",
       "4      Alan Arnell"
      ]
     },
     "execution_count": 50,
     "metadata": {},
     "output_type": "execute_result"
    }
   ],
   "source": [
    "dflfcgm_dd.head()"
   ]
  },
  {
   "cell_type": "code",
   "execution_count": 51,
   "metadata": {},
   "outputs": [],
   "source": [
    "# check start and end\n",
    "assert(dflfcgm.season.head(1).values[0] == SEASON_END)\n",
    "assert(dflfcgm.season.tail(1).values[0] == '1894-1895') # first season in top flight\n",
    "\n",
    "# check lfcgm dropdown consistent with main data source\n",
    "assert(set(dflfcgm_dd.player) == set(dflfcgm.player))\n",
    "\n",
    "# confirm that season 1939-1940 is not included in analysis\n",
    "assert len(dflfcgm[dflfcgm.season == '1939-1940']) == 0"
   ]
  },
  {
   "cell_type": "code",
   "execution_count": 52,
   "metadata": {},
   "outputs": [
    {
     "data": {
      "text/html": [
       "<div>\n",
       "<style scoped>\n",
       "    .dataframe tbody tr th:only-of-type {\n",
       "        vertical-align: middle;\n",
       "    }\n",
       "\n",
       "    .dataframe tbody tr th {\n",
       "        vertical-align: top;\n",
       "    }\n",
       "\n",
       "    .dataframe thead th {\n",
       "        text-align: right;\n",
       "    }\n",
       "</style>\n",
       "<table border=\"1\" class=\"dataframe\">\n",
       "  <thead>\n",
       "    <tr style=\"text-align: right;\">\n",
       "      <th></th>\n",
       "      <th>season</th>\n",
       "      <th>player</th>\n",
       "      <th>league</th>\n",
       "      <th>position</th>\n",
       "      <th>age</th>\n",
       "    </tr>\n",
       "  </thead>\n",
       "  <tbody>\n",
       "    <tr>\n",
       "      <th>0</th>\n",
       "      <td>2018-2019</td>\n",
       "      <td>Mohamed Salah</td>\n",
       "      <td>22</td>\n",
       "      <td>Striker</td>\n",
       "      <td>26.5</td>\n",
       "    </tr>\n",
       "    <tr>\n",
       "      <th>1</th>\n",
       "      <td>2018-2019</td>\n",
       "      <td>Sadio Mane</td>\n",
       "      <td>22</td>\n",
       "      <td>Striker</td>\n",
       "      <td>26.7</td>\n",
       "    </tr>\n",
       "    <tr>\n",
       "      <th>2</th>\n",
       "      <td>2018-2019</td>\n",
       "      <td>Roberto Firmino</td>\n",
       "      <td>12</td>\n",
       "      <td>Striker</td>\n",
       "      <td>27.2</td>\n",
       "    </tr>\n",
       "    <tr>\n",
       "      <th>3</th>\n",
       "      <td>2018-2019</td>\n",
       "      <td>Xherdan Shaqiri</td>\n",
       "      <td>6</td>\n",
       "      <td>Midfielder</td>\n",
       "      <td>27.2</td>\n",
       "    </tr>\n",
       "    <tr>\n",
       "      <th>4</th>\n",
       "      <td>2018-2019</td>\n",
       "      <td>James Milner</td>\n",
       "      <td>5</td>\n",
       "      <td>Midfielder</td>\n",
       "      <td>33.0</td>\n",
       "    </tr>\n",
       "  </tbody>\n",
       "</table>\n",
       "</div>"
      ],
      "text/plain": [
       "      season           player  league    position   age\n",
       "0  2018-2019    Mohamed Salah      22     Striker  26.5\n",
       "1  2018-2019       Sadio Mane      22     Striker  26.7\n",
       "2  2018-2019  Roberto Firmino      12     Striker  27.2\n",
       "3  2018-2019  Xherdan Shaqiri       6  Midfielder  27.2\n",
       "4  2018-2019     James Milner       5  Midfielder  33.0"
      ]
     },
     "execution_count": 52,
     "metadata": {},
     "output_type": "execute_result"
    }
   ],
   "source": [
    "dflfcgm.head()"
   ]
  },
  {
   "cell_type": "code",
   "execution_count": 53,
   "metadata": {},
   "outputs": [
    {
     "name": "stdout",
     "output_type": "stream",
     "text": [
      "players scoring for first time in latest season: \n",
      "\tXherdan Shaqiri, Fabinho Tavarez, Naby Keita, Virgil Van Dijk\n"
     ]
    }
   ],
   "source": [
    "# show players scoring for first time in latest season\n",
    "# these are new to the app dropdown\n",
    "LATEST_SEASON = SEASON_END\n",
    "latest_season_int = int(LATEST_SEASON[0:4])\n",
    "PREVIOUS_SEASON = '{}-{}'.format(latest_season_int-1, latest_season_int)\n",
    "#print(LATEST_SEASON, PREVIOUS_SEASON)\n",
    "scorers_for_latest_season_set = set(dflfcgm[(dflfcgm.season == LATEST_SEASON) & (dflfcgm.league >= 1)].player.values)\n",
    "scorers_for_previous_seasons_set = set(dflfcgm[(dflfcgm.season <= PREVIOUS_SEASON) & (dflfcgm.league >= 1)].player.values)\n",
    "print('players scoring for first time in latest season: \\n\\t{}'\\\n",
    "          .format(', '.join(list(scorers_for_latest_season_set - scorers_for_previous_seasons_set))))"
   ]
  },
  {
   "cell_type": "code",
   "execution_count": null,
   "metadata": {},
   "outputs": [],
   "source": []
  },
  {
   "cell_type": "markdown",
   "metadata": {},
   "source": [
    "Validate the data using reference data from lfchistory.net"
   ]
  },
  {
   "cell_type": "code",
   "execution_count": 54,
   "metadata": {},
   "outputs": [],
   "source": [
    "# build a dictionary with selected LFC season and total top flight league goalscorers in that season\n",
    "# ref: data from lfchistory.net, season archive\n",
    "lfc_season_tot_league_goals_d = {'1894-1895': 9,\n",
    "                                 '1905-1906': 11,\n",
    "                                 '1914-1915': 8,\n",
    "                                 '1924-1925': 11,\n",
    "                                 '1934-1935': 11,\n",
    "                                 '1946-1947': 11,\n",
    "                                 '1953-1954': 14,\n",
    "                                 '1964-1965': 15,\n",
    "                                 '1974-1975': 12,\n",
    "                                 '1984-1985': 12,\n",
    "                                 '1994-1995': 9,\n",
    "                                 '2004-2005': 13,\n",
    "                                 '2014-2015': 15}\n",
    "\n",
    "# check total number of scorers matches dictionary\n",
    "for season, tot_lg_scorers in lfc_season_tot_league_goals_d.items():\n",
    "    #print(season, tot_lg_scorers, len(dflfcgm[(dflfcgm.season==season)].player.unique()))\n",
    "    assert tot_lg_scorers == len(dflfcgm[(dflfcgm.season==season)].player.unique())"
   ]
  },
  {
   "cell_type": "code",
   "execution_count": 55,
   "metadata": {},
   "outputs": [],
   "source": [
    "# build a dictionary with selected LFC players, giving list of \n",
    "# (season, total top flight league goals in that season, age in that season)\n",
    "# ref: data from lfchistory.net, player archive (with calculation of age based on player profile)\n",
    "lfc_player_season_tot_league_goals_d = {\n",
    "   'Alex Raisbeck': [('1898-1899', 1, 19.0),\n",
    "                     ('1899-1900', 3, 20.0),\n",
    "                     ('1900-1901', 1, 21.0),\n",
    "                     ('1902-1903', 1, 23.0),\n",
    "                     ('1903-1904', 1, 24.0),\n",
    "                     ('1905-1906', 1, 26.0),\n",
    "                     ('1906-1907', 4, 27.0),\n",
    "                     ('1907-1908', 2, 28.0),\n",
    "                     ('1908-1909', 2, 29.0)],\n",
    "        'Ian Rush': [('1981-1982', 17, 20.2),\n",
    "                     ('1982-1983', 24, 21.2),\n",
    "                     ('1983-1984', 32, 22.2),\n",
    "                     ('1984-1985', 14, 23.2),\n",
    "                     ('1985-1986', 22, 24.2),\n",
    "                     ('1986-1987', 30, 25.2),\n",
    "                     ('1988-1989', 7, 27.2),\n",
    "                     ('1989-1990', 18, 28.2),\n",
    "                     ('1990-1991', 16, 29.2),\n",
    "                     ('1991-1992', 4, 30.2),\n",
    "                     ('1992-1993', 14, 31.2),\n",
    "                     ('1993-1994', 14, 32.2),\n",
    "                     ('1994-1995', 12, 33.2),\n",
    "                     ('1995-1996', 5, 34.2)],\n",
    "   'Mohamed Salah': [('2017-2018', 32, 25.5),\n",
    "                     ('2018-2019', 22, 26.5)]}\n",
    "\n",
    "# check total number of scorers matches dictionary\n",
    "for player, l in lfc_player_season_tot_league_goals_d.items():\n",
    "    for season, tot_lg_goals, age in l:\n",
    "        #print(player, season, tot_lg_goals)\n",
    "        assert dflfcgm[(dflfcgm.season==season) & (dflfcgm.player==player)].league.values[0] == tot_lg_goals\n",
    "        assert dflfcgm[(dflfcgm.season==season) & (dflfcgm.player==player)].age.values[0] == age"
   ]
  },
  {
   "cell_type": "code",
   "execution_count": null,
   "metadata": {},
   "outputs": [],
   "source": []
  },
  {
   "cell_type": "markdown",
   "metadata": {},
   "source": [
    "## Explore The Lfcgm App's Core Plotting Function"
   ]
  },
  {
   "cell_type": "markdown",
   "metadata": {},
   "source": [
    "### Set-up the R environment"
   ]
  },
  {
   "cell_type": "code",
   "execution_count": 56,
   "metadata": {},
   "outputs": [],
   "source": [
    "%%R\n",
    "\n",
    "#load R libraries\n",
    "library(ggplot2)\n",
    "library(dplyr)\n",
    "library(scales)"
   ]
  },
  {
   "cell_type": "markdown",
   "metadata": {},
   "source": [
    "## Define the core R plotting function using ggplot2"
   ]
  },
  {
   "cell_type": "code",
   "execution_count": 57,
   "metadata": {},
   "outputs": [],
   "source": [
    "%%R\n",
    "# v1, deprecated\n",
    "# Change log\n",
    "# v1, February 2016, original\n",
    "ggplot_age_vs_lgoals_v1 <- function(df, players) {\n",
    "  # Return ggplot of Age vs League Goals for given players in dataframe.\n",
    "  #\n",
    "  #  Given the low number of points, ggplot's geom_smooth uses\n",
    "  #  the loess method with default span.\n",
    "  TITLE <- 'LFCGM Age vs League Goals'\n",
    "  XLABEL <- 'Age at Midpoint of Season'\n",
    "  YLABEL <- 'League Goals per Season'\n",
    "  EXEMPLAR_PLAYERS <- c('Ian Rush', 'Kenny Dalglish', 'Roger Hunt', 'David Johnson', \n",
    "                        'Harry Chambers', 'John Toshack', 'John Barnes', 'Kevin Keegan')\n",
    "  EXEMPLAR_TITLE <- 'LFCGM Example Plot, The Champions: Age vs League Goals'\n",
    "  \n",
    "  # if players vector is empty then set the default exemplar options\n",
    "  if (length(players) == 0) {\n",
    "    players <- EXEMPLAR_PLAYERS\n",
    "    TITLE <- EXEMPLAR_TITLE\n",
    "  } else {\n",
    "    title <- TITLE\n",
    "  }\n",
    "  \n",
    "  # create dataframes to plot...\n",
    "  # filter those players with only 2 points and those with more than 2\n",
    "  this_df <- df[df$player %in% players, ]\n",
    "  print(this_df)\n",
    "  this_dfeq2 <- this_df %>% group_by(player) %>% filter(n()==2)\n",
    "  this_dfgt2 <- this_df %>% group_by(player) %>% filter(n()>2) \n",
    "\n",
    "  # produce the plot and return it\n",
    "  this_plot <- ggplot(this_df, aes(x=age, y=league, color=player, shape=player)) + \n",
    "    geom_point(size=2) + \n",
    "    geom_line(data=this_dfeq2, size=0.1) +\n",
    "    geom_smooth(data=this_dfgt2, se=FALSE, size=0.1) + \n",
    "    xlab(XLABEL) + \n",
    "    ylab(YLABEL) + \n",
    "    ggtitle(TITLE) + \n",
    "    scale_shape_manual(values=0:length(players)) +\n",
    "    theme(legend.text=element_text(size=10))\n",
    "  return (this_plot)\n",
    "}"
   ]
  },
  {
   "cell_type": "code",
   "execution_count": 58,
   "metadata": {},
   "outputs": [],
   "source": [
    "%%R\n",
    "\n",
    "# Change log\n",
    "# v1, February 2016, original\n",
    "# v2, August 2019, enhance to ensure pretty printing of x and y axis\n",
    "ggplot_age_vs_lgoals <- function(df, players) {\n",
    "  # Return ggplot of League Goals vs Age for given players in dataframe.\n",
    "  #\n",
    "  #  Given the low number of points, ggplot's geom_smooth uses\n",
    "  #  the loess method with default span.\n",
    "  \n",
    "  TITLE <- 'LFCGMR League Goals vs Age'\n",
    "  XLABEL <- 'Age at Midpoint of Season'\n",
    "  YLABEL <- 'League Goals per Season'\n",
    "  EXEMPLAR_PLAYERS <- c('Ian Rush', 'Kenny Dalglish', 'Roger Hunt', 'David Johnson', \n",
    "                        'Harry Chambers', 'John Toshack', 'John Barnes', 'Kevin Keegan')\n",
    "  EXEMPLAR_TITLE <- 'LFCGMR Example Plot, The Champions: League Goals vs Age\n",
    "\n",
    "This plot shows the goalscoring performance over their Liverpool career of \n",
    "arguably the most important 8 players, those who scored most goals in the \n",
    "18 title winning seasons\n",
    "'\n",
    "  \n",
    "  # if players vector is empty then set the default exemplar options\n",
    "  if (length(players) == 0) {\n",
    "    players <- EXEMPLAR_PLAYERS\n",
    "    title <- EXEMPLAR_TITLE\n",
    "  } else {\n",
    "    title <- TITLE\n",
    "  }\n",
    "  \n",
    "  # create dataframes to plot...\n",
    "  # filter those players with only 2 points and those with more than 2\n",
    "  this_df <- df[df$player %in% players, ]\n",
    "  this_dfeq2 <- this_df %>% group_by(player) %>% filter(n()==2)\n",
    "  this_dfgt2 <- this_df %>% group_by(player) %>% filter(n()>2) \n",
    "  \n",
    "  # produce the plot and return it\n",
    "  this_plot <- ggplot(this_df, aes(x=age, y=league, color=player, shape=player)) + \n",
    "    geom_point(size=2) + \n",
    "    geom_line(data=this_dfeq2, size=0.5) +\n",
    "    geom_smooth(data=this_dfgt2, se=FALSE, size=0.8) + \n",
    "    xlab(XLABEL) + \n",
    "    ylab(YLABEL) + \n",
    "    ggtitle(title) + \n",
    "    scale_shape_manual(values=0:length(players)) +\n",
    "    theme(legend.text=element_text(size=10)) + \n",
    "    scale_y_continuous(breaks = function(x) unique(floor(pretty(seq(0, (max(x) + 1) * 1.1))))) + \n",
    "    ylim(c(0, max(this_df$league)+1)) + \n",
    "    scale_x_continuous(breaks = pretty_breaks())\n",
    "  return (this_plot)\n",
    "}"
   ]
  },
  {
   "cell_type": "markdown",
   "metadata": {},
   "source": [
    "### Explore different plots and check the funtion is well-behaved"
   ]
  },
  {
   "cell_type": "markdown",
   "metadata": {},
   "source": [
    "Note that one of the key challenges is that the function must cope with:\n",
    "- single points (for players who have only scored in 1 season)\n",
    "- straight lines (for players who have scored in 2 seasons)\n",
    "- curved lines, using a line of best fit (for players who have scored in more than 2 seasons)"
   ]
  },
  {
   "cell_type": "markdown",
   "metadata": {},
   "source": [
    "Start with the default plot"
   ]
  },
  {
   "cell_type": "code",
   "execution_count": 59,
   "metadata": {},
   "outputs": [
    {
     "name": "stderr",
     "output_type": "stream",
     "text": [
      "C:\\Users\\Terry_2\\Anaconda3\\envs\\py37r\\lib\\site-packages\\rpy2\\robjects\\pandas2ri.py:191: FutureWarning: from_items is deprecated. Please use DataFrame.from_dict(dict(items), ...) instead. DataFrame.from_dict(OrderedDict(items)) may be used to preserve the key order.\n",
      "  res = PandasDataFrame.from_items(items)\n"
     ]
    },
    {
     "data": {
      "image/png": "[encoded data removed]"
     },
     "metadata": {},
     "output_type": "display_data"
    }
   ],
   "source": [
    "%%R -i dflfcgm -w 12 -h 8 -u in\n",
    "\n",
    "# show the default plot, showing the champions (see below for more info on 'The Champions')\n",
    "players = c()\n",
    "plt <- ggplot_age_vs_lgoals(dflfcgm, players)\n",
    "print(plt)"
   ]
  },
  {
   "cell_type": "markdown",
   "metadata": {},
   "source": [
    "Plot a player with a single point"
   ]
  },
  {
   "cell_type": "code",
   "execution_count": 60,
   "metadata": {},
   "outputs": [
    {
     "data": {
      "text/html": [
       "<div>\n",
       "<style scoped>\n",
       "    .dataframe tbody tr th:only-of-type {\n",
       "        vertical-align: middle;\n",
       "    }\n",
       "\n",
       "    .dataframe tbody tr th {\n",
       "        vertical-align: top;\n",
       "    }\n",
       "\n",
       "    .dataframe thead th {\n",
       "        text-align: right;\n",
       "    }\n",
       "</style>\n",
       "<table border=\"1\" class=\"dataframe\">\n",
       "  <thead>\n",
       "    <tr style=\"text-align: right;\">\n",
       "      <th></th>\n",
       "      <th>season</th>\n",
       "      <th>player</th>\n",
       "      <th>league</th>\n",
       "      <th>position</th>\n",
       "      <th>age</th>\n",
       "    </tr>\n",
       "  </thead>\n",
       "  <tbody>\n",
       "    <tr>\n",
       "      <th>240</th>\n",
       "      <td>2001-2002</td>\n",
       "      <td>Abel Xavier</td>\n",
       "      <td>1</td>\n",
       "      <td>Defender</td>\n",
       "      <td>29.1</td>\n",
       "    </tr>\n",
       "  </tbody>\n",
       "</table>\n",
       "</div>"
      ],
      "text/plain": [
       "        season       player  league  position   age\n",
       "240  2001-2002  Abel Xavier       1  Defender  29.1"
      ]
     },
     "execution_count": 60,
     "metadata": {},
     "output_type": "execute_result"
    }
   ],
   "source": [
    "# plot a player with a single point\n",
    "dflfcgm[dflfcgm.player=='Abel Xavier']"
   ]
  },
  {
   "cell_type": "code",
   "execution_count": 61,
   "metadata": {},
   "outputs": [
    {
     "data": {
      "image/png": "[encoded data removed]"
     },
     "metadata": {},
     "output_type": "display_data"
    }
   ],
   "source": [
    "%%R -i dflfcgm -w 12 -h 8 -u in\n",
    "\n",
    "# plot a player with a single point\n",
    "players = c('Abel Xavier')\n",
    "plt <- ggplot_age_vs_lgoals(dflfcgm, players)\n",
    "print(plt)"
   ]
  },
  {
   "cell_type": "markdown",
   "metadata": {},
   "source": [
    "Plot a player with 2 points"
   ]
  },
  {
   "cell_type": "code",
   "execution_count": 62,
   "metadata": {},
   "outputs": [
    {
     "data": {
      "text/html": [
       "<div>\n",
       "<style scoped>\n",
       "    .dataframe tbody tr th:only-of-type {\n",
       "        vertical-align: middle;\n",
       "    }\n",
       "\n",
       "    .dataframe tbody tr th {\n",
       "        vertical-align: top;\n",
       "    }\n",
       "\n",
       "    .dataframe thead th {\n",
       "        text-align: right;\n",
       "    }\n",
       "</style>\n",
       "<table border=\"1\" class=\"dataframe\">\n",
       "  <thead>\n",
       "    <tr style=\"text-align: right;\">\n",
       "      <th></th>\n",
       "      <th>season</th>\n",
       "      <th>player</th>\n",
       "      <th>league</th>\n",
       "      <th>position</th>\n",
       "      <th>age</th>\n",
       "    </tr>\n",
       "  </thead>\n",
       "  <tbody>\n",
       "    <tr>\n",
       "      <th>105</th>\n",
       "      <td>2011-2012</td>\n",
       "      <td>Andy Carroll</td>\n",
       "      <td>4</td>\n",
       "      <td>Striker</td>\n",
       "      <td>23.0</td>\n",
       "    </tr>\n",
       "    <tr>\n",
       "      <th>123</th>\n",
       "      <td>2010-2011</td>\n",
       "      <td>Andy Carroll</td>\n",
       "      <td>2</td>\n",
       "      <td>Striker</td>\n",
       "      <td>22.0</td>\n",
       "    </tr>\n",
       "  </tbody>\n",
       "</table>\n",
       "</div>"
      ],
      "text/plain": [
       "        season        player  league position   age\n",
       "105  2011-2012  Andy Carroll       4  Striker  23.0\n",
       "123  2010-2011  Andy Carroll       2  Striker  22.0"
      ]
     },
     "execution_count": 62,
     "metadata": {},
     "output_type": "execute_result"
    }
   ],
   "source": [
    "# plot a player with 2 points\n",
    "dflfcgm[dflfcgm.player=='Andy Carroll']"
   ]
  },
  {
   "cell_type": "code",
   "execution_count": 63,
   "metadata": {},
   "outputs": [
    {
     "data": {
      "image/png": "[encoded data removed]"
     },
     "metadata": {},
     "output_type": "display_data"
    }
   ],
   "source": [
    "%%R -i dflfcgm -w 12 -h 8 -u in\n",
    "\n",
    "# plot a player with 2 points\n",
    "players = c('Andy Carroll')\n",
    "plt <- ggplot_age_vs_lgoals(dflfcgm, players)\n",
    "print(plt)"
   ]
  },
  {
   "cell_type": "raw",
   "metadata": {},
   "source": [
    "Plot a player with more than 2 points"
   ]
  },
  {
   "cell_type": "code",
   "execution_count": 64,
   "metadata": {},
   "outputs": [
    {
     "data": {
      "text/html": [
       "<div>\n",
       "<style scoped>\n",
       "    .dataframe tbody tr th:only-of-type {\n",
       "        vertical-align: middle;\n",
       "    }\n",
       "\n",
       "    .dataframe tbody tr th {\n",
       "        vertical-align: top;\n",
       "    }\n",
       "\n",
       "    .dataframe thead th {\n",
       "        text-align: right;\n",
       "    }\n",
       "</style>\n",
       "<table border=\"1\" class=\"dataframe\">\n",
       "  <thead>\n",
       "    <tr style=\"text-align: right;\">\n",
       "      <th></th>\n",
       "      <th>season</th>\n",
       "      <th>player</th>\n",
       "      <th>league</th>\n",
       "      <th>position</th>\n",
       "      <th>age</th>\n",
       "    </tr>\n",
       "  </thead>\n",
       "  <tbody>\n",
       "    <tr>\n",
       "      <th>75</th>\n",
       "      <td>2013-2014</td>\n",
       "      <td>Luis Suarez</td>\n",
       "      <td>31</td>\n",
       "      <td>Striker</td>\n",
       "      <td>26.9</td>\n",
       "    </tr>\n",
       "    <tr>\n",
       "      <th>87</th>\n",
       "      <td>2012-2013</td>\n",
       "      <td>Luis Suarez</td>\n",
       "      <td>23</td>\n",
       "      <td>Striker</td>\n",
       "      <td>25.9</td>\n",
       "    </tr>\n",
       "    <tr>\n",
       "      <th>102</th>\n",
       "      <td>2011-2012</td>\n",
       "      <td>Luis Suarez</td>\n",
       "      <td>11</td>\n",
       "      <td>Striker</td>\n",
       "      <td>24.9</td>\n",
       "    </tr>\n",
       "    <tr>\n",
       "      <th>120</th>\n",
       "      <td>2010-2011</td>\n",
       "      <td>Luis Suarez</td>\n",
       "      <td>4</td>\n",
       "      <td>Striker</td>\n",
       "      <td>23.9</td>\n",
       "    </tr>\n",
       "  </tbody>\n",
       "</table>\n",
       "</div>"
      ],
      "text/plain": [
       "        season       player  league position   age\n",
       "75   2013-2014  Luis Suarez      31  Striker  26.9\n",
       "87   2012-2013  Luis Suarez      23  Striker  25.9\n",
       "102  2011-2012  Luis Suarez      11  Striker  24.9\n",
       "120  2010-2011  Luis Suarez       4  Striker  23.9"
      ]
     },
     "execution_count": 64,
     "metadata": {},
     "output_type": "execute_result"
    }
   ],
   "source": [
    "# plot a player with more than 2 points\n",
    "dflfcgm[dflfcgm.player=='Luis Suarez']"
   ]
  },
  {
   "cell_type": "code",
   "execution_count": 65,
   "metadata": {},
   "outputs": [
    {
     "data": {
      "image/png": "[encoded data removed]"
     },
     "metadata": {},
     "output_type": "display_data"
    }
   ],
   "source": [
    "%%R -i dflfcgm -w 12 -h 8 -u in\n",
    "\n",
    "# plot a player with more than 2 points\n",
    "players = c('Luis Suarez')\n",
    "plt <- ggplot_age_vs_lgoals(dflfcgm, players)\n",
    "print(plt)"
   ]
  },
  {
   "cell_type": "markdown",
   "metadata": {},
   "source": [
    "Plot all 3, a player with 1, 2 and more than 2 points"
   ]
  },
  {
   "cell_type": "code",
   "execution_count": 66,
   "metadata": {},
   "outputs": [
    {
     "data": {
      "text/html": [
       "<div>\n",
       "<style scoped>\n",
       "    .dataframe tbody tr th:only-of-type {\n",
       "        vertical-align: middle;\n",
       "    }\n",
       "\n",
       "    .dataframe tbody tr th {\n",
       "        vertical-align: top;\n",
       "    }\n",
       "\n",
       "    .dataframe thead th {\n",
       "        text-align: right;\n",
       "    }\n",
       "</style>\n",
       "<table border=\"1\" class=\"dataframe\">\n",
       "  <thead>\n",
       "    <tr style=\"text-align: right;\">\n",
       "      <th></th>\n",
       "      <th>season</th>\n",
       "      <th>player</th>\n",
       "      <th>league</th>\n",
       "      <th>position</th>\n",
       "      <th>age</th>\n",
       "    </tr>\n",
       "  </thead>\n",
       "  <tbody>\n",
       "    <tr>\n",
       "      <th>75</th>\n",
       "      <td>2013-2014</td>\n",
       "      <td>Luis Suarez</td>\n",
       "      <td>31</td>\n",
       "      <td>Striker</td>\n",
       "      <td>26.9</td>\n",
       "    </tr>\n",
       "    <tr>\n",
       "      <th>87</th>\n",
       "      <td>2012-2013</td>\n",
       "      <td>Luis Suarez</td>\n",
       "      <td>23</td>\n",
       "      <td>Striker</td>\n",
       "      <td>25.9</td>\n",
       "    </tr>\n",
       "    <tr>\n",
       "      <th>102</th>\n",
       "      <td>2011-2012</td>\n",
       "      <td>Luis Suarez</td>\n",
       "      <td>11</td>\n",
       "      <td>Striker</td>\n",
       "      <td>24.9</td>\n",
       "    </tr>\n",
       "    <tr>\n",
       "      <th>105</th>\n",
       "      <td>2011-2012</td>\n",
       "      <td>Andy Carroll</td>\n",
       "      <td>4</td>\n",
       "      <td>Striker</td>\n",
       "      <td>23.0</td>\n",
       "    </tr>\n",
       "    <tr>\n",
       "      <th>120</th>\n",
       "      <td>2010-2011</td>\n",
       "      <td>Luis Suarez</td>\n",
       "      <td>4</td>\n",
       "      <td>Striker</td>\n",
       "      <td>23.9</td>\n",
       "    </tr>\n",
       "    <tr>\n",
       "      <th>123</th>\n",
       "      <td>2010-2011</td>\n",
       "      <td>Andy Carroll</td>\n",
       "      <td>2</td>\n",
       "      <td>Striker</td>\n",
       "      <td>22.0</td>\n",
       "    </tr>\n",
       "    <tr>\n",
       "      <th>240</th>\n",
       "      <td>2001-2002</td>\n",
       "      <td>Abel Xavier</td>\n",
       "      <td>1</td>\n",
       "      <td>Defender</td>\n",
       "      <td>29.1</td>\n",
       "    </tr>\n",
       "  </tbody>\n",
       "</table>\n",
       "</div>"
      ],
      "text/plain": [
       "        season        player  league  position   age\n",
       "75   2013-2014   Luis Suarez      31   Striker  26.9\n",
       "87   2012-2013   Luis Suarez      23   Striker  25.9\n",
       "102  2011-2012   Luis Suarez      11   Striker  24.9\n",
       "105  2011-2012  Andy Carroll       4   Striker  23.0\n",
       "120  2010-2011   Luis Suarez       4   Striker  23.9\n",
       "123  2010-2011  Andy Carroll       2   Striker  22.0\n",
       "240  2001-2002   Abel Xavier       1  Defender  29.1"
      ]
     },
     "execution_count": 66,
     "metadata": {},
     "output_type": "execute_result"
    }
   ],
   "source": [
    "# plot all 3\n",
    "dflfcgm[dflfcgm.player.isin(['Abel Xavier', 'Andy Carroll', 'Luis Suarez'])]"
   ]
  },
  {
   "cell_type": "code",
   "execution_count": 67,
   "metadata": {},
   "outputs": [
    {
     "data": {
      "image/png": "[encoded data removed]"
     },
     "metadata": {},
     "output_type": "display_data"
    }
   ],
   "source": [
    "%%R -i dflfcgm -w 12 -h 8 -u in\n",
    "\n",
    "# Plot all 3, a player with 1, 2 and more than 2 points\n",
    "players = c('Abel Xavier', 'Andy Carroll', 'Luis Suarez')\n",
    "plt <- ggplot_age_vs_lgoals(dflfcgm, players)\n",
    "print(plt)"
   ]
  },
  {
   "cell_type": "markdown",
   "metadata": {},
   "source": [
    "### Show some interesting LFC plots"
   ]
  },
  {
   "cell_type": "markdown",
   "metadata": {},
   "source": [
    "Early Riser"
   ]
  },
  {
   "cell_type": "code",
   "execution_count": 68,
   "metadata": {},
   "outputs": [
    {
     "data": {
      "text/html": [
       "<div>\n",
       "<style scoped>\n",
       "    .dataframe tbody tr th:only-of-type {\n",
       "        vertical-align: middle;\n",
       "    }\n",
       "\n",
       "    .dataframe tbody tr th {\n",
       "        vertical-align: top;\n",
       "    }\n",
       "\n",
       "    .dataframe thead th {\n",
       "        text-align: right;\n",
       "    }\n",
       "</style>\n",
       "<table border=\"1\" class=\"dataframe\">\n",
       "  <thead>\n",
       "    <tr style=\"text-align: right;\">\n",
       "      <th></th>\n",
       "      <th>season</th>\n",
       "      <th>player</th>\n",
       "      <th>league</th>\n",
       "      <th>position</th>\n",
       "      <th>age</th>\n",
       "    </tr>\n",
       "  </thead>\n",
       "  <tbody>\n",
       "    <tr>\n",
       "      <th>316</th>\n",
       "      <td>1994-1995</td>\n",
       "      <td>Robbie Fowler</td>\n",
       "      <td>25</td>\n",
       "      <td>Striker</td>\n",
       "      <td>19.7</td>\n",
       "    </tr>\n",
       "  </tbody>\n",
       "</table>\n",
       "</div>"
      ],
      "text/plain": [
       "        season         player  league position   age\n",
       "316  1994-1995  Robbie Fowler      25  Striker  19.7"
      ]
     },
     "execution_count": 68,
     "metadata": {},
     "output_type": "execute_result"
    }
   ],
   "source": [
    "# show all players scoring more than 20 goals when under 20 years old\n",
    "dflfcgm[(dflfcgm.league >= 20) & \n",
    "        (dflfcgm.age < 20)]"
   ]
  },
  {
   "cell_type": "code",
   "execution_count": 69,
   "metadata": {},
   "outputs": [
    {
     "data": {
      "image/png": "[encoded data removed]"
     },
     "metadata": {},
     "output_type": "display_data"
    }
   ],
   "source": [
    "%%R -i dflfcgm -w 12 -h 8 -u in\n",
    "\n",
    "# produce plot for player known as 'god'\n",
    "players = c('Robbie Fowler')\n",
    "plt <- ggplot_age_vs_lgoals(dflfcgm, players)\n",
    "print(plt)"
   ]
  },
  {
   "cell_type": "markdown",
   "metadata": {},
   "source": [
    "Late Flourish"
   ]
  },
  {
   "cell_type": "code",
   "execution_count": 70,
   "metadata": {},
   "outputs": [
    {
     "name": "stdout",
     "output_type": "stream",
     "text": [
      "['John Aldridge', 'Jack Balmer', 'Gordon Hodgson', 'Dick Forshaw', 'Ronald Orr']\n"
     ]
    },
    {
     "data": {
      "text/html": [
       "<div>\n",
       "<style scoped>\n",
       "    .dataframe tbody tr th:only-of-type {\n",
       "        vertical-align: middle;\n",
       "    }\n",
       "\n",
       "    .dataframe tbody tr th {\n",
       "        vertical-align: top;\n",
       "    }\n",
       "\n",
       "    .dataframe thead th {\n",
       "        text-align: right;\n",
       "    }\n",
       "</style>\n",
       "<table border=\"1\" class=\"dataframe\">\n",
       "  <thead>\n",
       "    <tr style=\"text-align: right;\">\n",
       "      <th></th>\n",
       "      <th>season</th>\n",
       "      <th>player</th>\n",
       "      <th>league</th>\n",
       "      <th>position</th>\n",
       "      <th>age</th>\n",
       "    </tr>\n",
       "  </thead>\n",
       "  <tbody>\n",
       "    <tr>\n",
       "      <th>391</th>\n",
       "      <td>1988-1989</td>\n",
       "      <td>John Aldridge</td>\n",
       "      <td>21</td>\n",
       "      <td>Striker</td>\n",
       "      <td>30.3</td>\n",
       "    </tr>\n",
       "    <tr>\n",
       "      <th>797</th>\n",
       "      <td>1946-1947</td>\n",
       "      <td>Jack Balmer</td>\n",
       "      <td>24</td>\n",
       "      <td>Striker</td>\n",
       "      <td>30.9</td>\n",
       "    </tr>\n",
       "    <tr>\n",
       "      <th>845</th>\n",
       "      <td>1934-1935</td>\n",
       "      <td>Gordon Hodgson</td>\n",
       "      <td>27</td>\n",
       "      <td>Striker</td>\n",
       "      <td>30.7</td>\n",
       "    </tr>\n",
       "    <tr>\n",
       "      <th>953</th>\n",
       "      <td>1925-1926</td>\n",
       "      <td>Dick Forshaw</td>\n",
       "      <td>27</td>\n",
       "      <td>Striker</td>\n",
       "      <td>30.4</td>\n",
       "    </tr>\n",
       "    <tr>\n",
       "      <th>1098</th>\n",
       "      <td>1908-1909</td>\n",
       "      <td>Ronald Orr</td>\n",
       "      <td>20</td>\n",
       "      <td>Striker</td>\n",
       "      <td>32.4</td>\n",
       "    </tr>\n",
       "  </tbody>\n",
       "</table>\n",
       "</div>"
      ],
      "text/plain": [
       "         season          player  league position   age\n",
       "391   1988-1989   John Aldridge      21  Striker  30.3\n",
       "797   1946-1947     Jack Balmer      24  Striker  30.9\n",
       "845   1934-1935  Gordon Hodgson      27  Striker  30.7\n",
       "953   1925-1926    Dick Forshaw      27  Striker  30.4\n",
       "1098  1908-1909      Ronald Orr      20  Striker  32.4"
      ]
     },
     "execution_count": 70,
     "metadata": {},
     "output_type": "execute_result"
    }
   ],
   "source": [
    "# show all players scoring more than 20 goals when over 30 years old\n",
    "df_late = dflfcgm[(dflfcgm.league >= 20) & \n",
    "                  (dflfcgm.age > 30)]\n",
    "players = list(df_late.player.values)\n",
    "print(players)\n",
    "df_late"
   ]
  },
  {
   "cell_type": "code",
   "execution_count": 71,
   "metadata": {},
   "outputs": [
    {
     "data": {
      "image/png": "[encoded data removed]"
     },
     "metadata": {},
     "output_type": "display_data"
    }
   ],
   "source": [
    "%%R -i dflfcgm -w 12 -h 8 -u in\n",
    "\n",
    "players = c('John Aldridge', 'Jack Balmer', 'Gordon Hodgson', 'Dick Forshaw', 'Ronald Orr')\n",
    "plt <- ggplot_age_vs_lgoals(dflfcgm, players)\n",
    "print(plt)"
   ]
  },
  {
   "cell_type": "markdown",
   "metadata": {},
   "source": [
    "All time career top scorers"
   ]
  },
  {
   "cell_type": "code",
   "execution_count": 72,
   "metadata": {},
   "outputs": [
    {
     "data": {
      "text/html": [
       "<div>\n",
       "<style scoped>\n",
       "    .dataframe tbody tr th:only-of-type {\n",
       "        vertical-align: middle;\n",
       "    }\n",
       "\n",
       "    .dataframe tbody tr th {\n",
       "        vertical-align: top;\n",
       "    }\n",
       "\n",
       "    .dataframe thead th {\n",
       "        text-align: right;\n",
       "    }\n",
       "</style>\n",
       "<table border=\"1\" class=\"dataframe\">\n",
       "  <thead>\n",
       "    <tr style=\"text-align: right;\">\n",
       "      <th></th>\n",
       "      <th>league</th>\n",
       "    </tr>\n",
       "    <tr>\n",
       "      <th>player</th>\n",
       "      <th></th>\n",
       "    </tr>\n",
       "  </thead>\n",
       "  <tbody>\n",
       "    <tr>\n",
       "      <th>Gordon Hodgson</th>\n",
       "      <td>233</td>\n",
       "    </tr>\n",
       "    <tr>\n",
       "      <th>Ian Rush</th>\n",
       "      <td>229</td>\n",
       "    </tr>\n",
       "    <tr>\n",
       "      <th>Roger Hunt</th>\n",
       "      <td>167</td>\n",
       "    </tr>\n",
       "    <tr>\n",
       "      <th>Harry Chambers</th>\n",
       "      <td>135</td>\n",
       "    </tr>\n",
       "    <tr>\n",
       "      <th>Robbie Fowler</th>\n",
       "      <td>128</td>\n",
       "    </tr>\n",
       "    <tr>\n",
       "      <th>Steven Gerrard</th>\n",
       "      <td>120</td>\n",
       "    </tr>\n",
       "    <tr>\n",
       "      <th>Michael Owen</th>\n",
       "      <td>118</td>\n",
       "    </tr>\n",
       "    <tr>\n",
       "      <th>Kenny Dalglish</th>\n",
       "      <td>118</td>\n",
       "    </tr>\n",
       "    <tr>\n",
       "      <th>Dick Forshaw</th>\n",
       "      <td>116</td>\n",
       "    </tr>\n",
       "    <tr>\n",
       "      <th>Jack Parkinson</th>\n",
       "      <td>103</td>\n",
       "    </tr>\n",
       "    <tr>\n",
       "      <th>Sam Raybould</th>\n",
       "      <td>101</td>\n",
       "    </tr>\n",
       "    <tr>\n",
       "      <th>Jack Balmer</th>\n",
       "      <td>98</td>\n",
       "    </tr>\n",
       "  </tbody>\n",
       "</table>\n",
       "</div>"
      ],
      "text/plain": [
       "                league\n",
       "player                \n",
       "Gordon Hodgson     233\n",
       "Ian Rush           229\n",
       "Roger Hunt         167\n",
       "Harry Chambers     135\n",
       "Robbie Fowler      128\n",
       "Steven Gerrard     120\n",
       "Michael Owen       118\n",
       "Kenny Dalglish     118\n",
       "Dick Forshaw       116\n",
       "Jack Parkinson     103\n",
       "Sam Raybould       101\n",
       "Jack Balmer         98"
      ]
     },
     "execution_count": 72,
     "metadata": {},
     "output_type": "execute_result"
    }
   ],
   "source": [
    "# show players scoring most league goals over their career\n",
    "df_top = dflfcgm[['player', 'league']].groupby('player').sum()\n",
    "df_top = df_top.sort_values('league', ascending=False).head(12)\n",
    "df_top"
   ]
  },
  {
   "cell_type": "code",
   "execution_count": 73,
   "metadata": {},
   "outputs": [
    {
     "name": "stdout",
     "output_type": "stream",
     "text": [
      "['Gordon Hodgson', 'Ian Rush', 'Roger Hunt', 'Harry Chambers', 'Robbie Fowler', 'Steven Gerrard']\n"
     ]
    }
   ],
   "source": [
    "players = list(df_top[df_top.league >= 120].index.values)\n",
    "print(players)"
   ]
  },
  {
   "cell_type": "code",
   "execution_count": 74,
   "metadata": {},
   "outputs": [
    {
     "data": {
      "image/png": "[encoded data removed]"
     },
     "metadata": {},
     "output_type": "display_data"
    }
   ],
   "source": [
    "%%R -i dflfcgm -w 12 -h 8 -u in\n",
    "\n",
    "players = c('Gordon Hodgson', 'Ian Rush', 'Roger Hunt', 'Harry Chambers', 'Robbie Fowler', 'Steven Gerrard')\n",
    "plt <- ggplot_age_vs_lgoals(dflfcgm, players)\n",
    "print(plt)"
   ]
  },
  {
   "cell_type": "markdown",
   "metadata": {},
   "source": [
    "Elite 30"
   ]
  },
  {
   "cell_type": "code",
   "execution_count": 75,
   "metadata": {},
   "outputs": [
    {
     "data": {
      "text/html": [
       "<div>\n",
       "<style scoped>\n",
       "    .dataframe tbody tr th:only-of-type {\n",
       "        vertical-align: middle;\n",
       "    }\n",
       "\n",
       "    .dataframe tbody tr th {\n",
       "        vertical-align: top;\n",
       "    }\n",
       "\n",
       "    .dataframe thead th {\n",
       "        text-align: right;\n",
       "    }\n",
       "</style>\n",
       "<table border=\"1\" class=\"dataframe\">\n",
       "  <thead>\n",
       "    <tr style=\"text-align: right;\">\n",
       "      <th></th>\n",
       "      <th>season</th>\n",
       "      <th>player</th>\n",
       "      <th>league</th>\n",
       "    </tr>\n",
       "  </thead>\n",
       "  <tbody>\n",
       "    <tr>\n",
       "      <th>892</th>\n",
       "      <td>1930-1931</td>\n",
       "      <td>Gordon Hodgson</td>\n",
       "      <td>36</td>\n",
       "    </tr>\n",
       "    <tr>\n",
       "      <th>448</th>\n",
       "      <td>1983-1984</td>\n",
       "      <td>Ian Rush</td>\n",
       "      <td>32</td>\n",
       "    </tr>\n",
       "    <tr>\n",
       "      <th>15</th>\n",
       "      <td>2017-2018</td>\n",
       "      <td>Mohamed Salah</td>\n",
       "      <td>32</td>\n",
       "    </tr>\n",
       "    <tr>\n",
       "      <th>1159</th>\n",
       "      <td>1902-1903</td>\n",
       "      <td>Sam Raybould</td>\n",
       "      <td>31</td>\n",
       "    </tr>\n",
       "    <tr>\n",
       "      <th>75</th>\n",
       "      <td>2013-2014</td>\n",
       "      <td>Luis Suarez</td>\n",
       "      <td>31</td>\n",
       "    </tr>\n",
       "    <tr>\n",
       "      <th>697</th>\n",
       "      <td>1963-1964</td>\n",
       "      <td>Roger Hunt</td>\n",
       "      <td>31</td>\n",
       "    </tr>\n",
       "    <tr>\n",
       "      <th>918</th>\n",
       "      <td>1928-1929</td>\n",
       "      <td>Gordon Hodgson</td>\n",
       "      <td>30</td>\n",
       "    </tr>\n",
       "    <tr>\n",
       "      <th>411</th>\n",
       "      <td>1986-1987</td>\n",
       "      <td>Ian Rush</td>\n",
       "      <td>30</td>\n",
       "    </tr>\n",
       "    <tr>\n",
       "      <th>1088</th>\n",
       "      <td>1909-1910</td>\n",
       "      <td>Jack Parkinson</td>\n",
       "      <td>30</td>\n",
       "    </tr>\n",
       "    <tr>\n",
       "      <th>670</th>\n",
       "      <td>1965-1966</td>\n",
       "      <td>Roger Hunt</td>\n",
       "      <td>29</td>\n",
       "    </tr>\n",
       "  </tbody>\n",
       "</table>\n",
       "</div>"
      ],
      "text/plain": [
       "         season          player  league\n",
       "892   1930-1931  Gordon Hodgson      36\n",
       "448   1983-1984        Ian Rush      32\n",
       "15    2017-2018   Mohamed Salah      32\n",
       "1159  1902-1903    Sam Raybould      31\n",
       "75    2013-2014     Luis Suarez      31\n",
       "697   1963-1964      Roger Hunt      31\n",
       "918   1928-1929  Gordon Hodgson      30\n",
       "411   1986-1987        Ian Rush      30\n",
       "1088  1909-1910  Jack Parkinson      30\n",
       "670   1965-1966      Roger Hunt      29"
      ]
     },
     "execution_count": 75,
     "metadata": {},
     "output_type": "execute_result"
    }
   ],
   "source": [
    "# show players scoring >=30 league goals in a season\n",
    "df_elite = dflfcgm[['season', 'player', 'league']].sort_values('league', ascending=False)\n",
    "df_elite.head(10)"
   ]
  },
  {
   "cell_type": "code",
   "execution_count": 76,
   "metadata": {},
   "outputs": [
    {
     "name": "stdout",
     "output_type": "stream",
     "text": [
      "['Gordon Hodgson', 'Ian Rush', 'Mohamed Salah', 'Sam Raybould', 'Luis Suarez', 'Roger Hunt']\n"
     ]
    }
   ],
   "source": [
    "players = list(df_elite[df_elite.league > 30].player.unique())\n",
    "print(players)\n",
    "#ggplot_age_vs_lgoals(dflfc_scorers_tl_pos_age, list(players))"
   ]
  },
  {
   "cell_type": "code",
   "execution_count": 77,
   "metadata": {},
   "outputs": [
    {
     "data": {
      "image/png": "[encoded data removed]"
     },
     "metadata": {},
     "output_type": "display_data"
    }
   ],
   "source": [
    "%%R -i dflfcgm players -w 12 -h 8 -u in\n",
    "\n",
    "players = c('Gordon Hodgson', 'Ian Rush', 'Mohamed Salah', 'Sam Raybould', 'Luis Suarez', 'Roger Hunt')\n",
    "plt <- ggplot_age_vs_lgoals(dflfcgm, players)\n",
    "print(plt)"
   ]
  },
  {
   "cell_type": "markdown",
   "metadata": {},
   "source": [
    "A Striking Trio\n",
    "- For a discusson of Liverpool's best ever trio see Terry's blog [A Striking Trio](http://www.lfcsorted.com/2015/07/lfc-striking-trio.html)"
   ]
  },
  {
   "cell_type": "code",
   "execution_count": 78,
   "metadata": {},
   "outputs": [
    {
     "data": {
      "text/html": [
       "<div>\n",
       "<style scoped>\n",
       "    .dataframe tbody tr th:only-of-type {\n",
       "        vertical-align: middle;\n",
       "    }\n",
       "\n",
       "    .dataframe tbody tr th {\n",
       "        vertical-align: top;\n",
       "    }\n",
       "\n",
       "    .dataframe thead th {\n",
       "        text-align: right;\n",
       "    }\n",
       "</style>\n",
       "<table border=\"1\" class=\"dataframe\">\n",
       "  <thead>\n",
       "    <tr style=\"text-align: right;\">\n",
       "      <th></th>\n",
       "      <th>league</th>\n",
       "    </tr>\n",
       "    <tr>\n",
       "      <th>season</th>\n",
       "      <th></th>\n",
       "    </tr>\n",
       "  </thead>\n",
       "  <tbody>\n",
       "    <tr>\n",
       "      <th>1963-1964</th>\n",
       "      <td>67</td>\n",
       "    </tr>\n",
       "    <tr>\n",
       "      <th>2013-2014</th>\n",
       "      <td>65</td>\n",
       "    </tr>\n",
       "    <tr>\n",
       "      <th>1909-1910</th>\n",
       "      <td>60</td>\n",
       "    </tr>\n",
       "    <tr>\n",
       "      <th>1930-1931</th>\n",
       "      <td>60</td>\n",
       "    </tr>\n",
       "    <tr>\n",
       "      <th>1946-1947</th>\n",
       "      <td>58</td>\n",
       "    </tr>\n",
       "    <tr>\n",
       "      <th>2017-2018</th>\n",
       "      <td>57</td>\n",
       "    </tr>\n",
       "    <tr>\n",
       "      <th>1931-1932</th>\n",
       "      <td>56</td>\n",
       "    </tr>\n",
       "    <tr>\n",
       "      <th>1934-1935</th>\n",
       "      <td>56</td>\n",
       "    </tr>\n",
       "    <tr>\n",
       "      <th>2018-2019</th>\n",
       "      <td>56</td>\n",
       "    </tr>\n",
       "    <tr>\n",
       "      <th>1987-1988</th>\n",
       "      <td>56</td>\n",
       "    </tr>\n",
       "  </tbody>\n",
       "</table>\n",
       "</div>"
      ],
      "text/plain": [
       "           league\n",
       "season           \n",
       "1963-1964      67\n",
       "2013-2014      65\n",
       "1909-1910      60\n",
       "1930-1931      60\n",
       "1946-1947      58\n",
       "2017-2018      57\n",
       "1931-1932      56\n",
       "1934-1935      56\n",
       "2018-2019      56\n",
       "1987-1988      56"
      ]
     },
     "execution_count": 78,
     "metadata": {},
     "output_type": "execute_result"
    }
   ],
   "source": [
    "# show best total for a striking trio in the league\n",
    "df_trio = dflfcgm[['season', 'league']].groupby('season').head(3).groupby('season').sum()\n",
    "df_trio.sort_values('league', ascending=False).head(10)"
   ]
  },
  {
   "cell_type": "code",
   "execution_count": 79,
   "metadata": {},
   "outputs": [
    {
     "name": "stdout",
     "output_type": "stream",
     "text": [
      "['Roger Hunt', 'Ian St John', 'Alf Arrowsmith']\n"
     ]
    },
    {
     "data": {
      "text/html": [
       "<div>\n",
       "<style scoped>\n",
       "    .dataframe tbody tr th:only-of-type {\n",
       "        vertical-align: middle;\n",
       "    }\n",
       "\n",
       "    .dataframe tbody tr th {\n",
       "        vertical-align: top;\n",
       "    }\n",
       "\n",
       "    .dataframe thead th {\n",
       "        text-align: right;\n",
       "    }\n",
       "</style>\n",
       "<table border=\"1\" class=\"dataframe\">\n",
       "  <thead>\n",
       "    <tr style=\"text-align: right;\">\n",
       "      <th></th>\n",
       "      <th>season</th>\n",
       "      <th>player</th>\n",
       "      <th>league</th>\n",
       "    </tr>\n",
       "  </thead>\n",
       "  <tbody>\n",
       "    <tr>\n",
       "      <th>697</th>\n",
       "      <td>1963-1964</td>\n",
       "      <td>Roger Hunt</td>\n",
       "      <td>31</td>\n",
       "    </tr>\n",
       "    <tr>\n",
       "      <th>698</th>\n",
       "      <td>1963-1964</td>\n",
       "      <td>Ian St John</td>\n",
       "      <td>21</td>\n",
       "    </tr>\n",
       "    <tr>\n",
       "      <th>699</th>\n",
       "      <td>1963-1964</td>\n",
       "      <td>Alf Arrowsmith</td>\n",
       "      <td>15</td>\n",
       "    </tr>\n",
       "  </tbody>\n",
       "</table>\n",
       "</div>"
      ],
      "text/plain": [
       "        season          player  league\n",
       "697  1963-1964      Roger Hunt      31\n",
       "698  1963-1964     Ian St John      21\n",
       "699  1963-1964  Alf Arrowsmith      15"
      ]
     },
     "execution_count": 79,
     "metadata": {},
     "output_type": "execute_result"
    }
   ],
   "source": [
    "TOP_TRIO = ['1963-1964']\n",
    "df_trio_players = dflfcgm[['season', 'player', 'league']]\\\n",
    "                                            [dflfcgm.season.isin(TOP_TRIO)].groupby('season').head(3)\n",
    "players = list(df_trio_players.player.values)\n",
    "print(players)\n",
    "df_trio_players"
   ]
  },
  {
   "cell_type": "code",
   "execution_count": 80,
   "metadata": {},
   "outputs": [
    {
     "data": {
      "image/png": "[encoded data removed]"
     },
     "metadata": {},
     "output_type": "display_data"
    }
   ],
   "source": [
    "%%R -i dflfcgm -w 12 -h 8 -u in\n",
    "\n",
    "players = c('Roger Hunt', 'Ian St John', 'Alf Arrowsmith')\n",
    "plt <- ggplot_age_vs_lgoals(dflfcgm, players)\n",
    "print(plt)"
   ]
  },
  {
   "cell_type": "markdown",
   "metadata": {},
   "source": [
    "A Striking Duo"
   ]
  },
  {
   "cell_type": "code",
   "execution_count": 81,
   "metadata": {},
   "outputs": [
    {
     "data": {
      "text/html": [
       "<div>\n",
       "<style scoped>\n",
       "    .dataframe tbody tr th:only-of-type {\n",
       "        vertical-align: middle;\n",
       "    }\n",
       "\n",
       "    .dataframe tbody tr th {\n",
       "        vertical-align: top;\n",
       "    }\n",
       "\n",
       "    .dataframe thead th {\n",
       "        text-align: right;\n",
       "    }\n",
       "</style>\n",
       "<table border=\"1\" class=\"dataframe\">\n",
       "  <thead>\n",
       "    <tr style=\"text-align: right;\">\n",
       "      <th></th>\n",
       "      <th>league</th>\n",
       "    </tr>\n",
       "    <tr>\n",
       "      <th>season</th>\n",
       "      <th></th>\n",
       "    </tr>\n",
       "  </thead>\n",
       "  <tbody>\n",
       "    <tr>\n",
       "      <th>2013-2014</th>\n",
       "      <td>52</td>\n",
       "    </tr>\n",
       "    <tr>\n",
       "      <th>1963-1964</th>\n",
       "      <td>52</td>\n",
       "    </tr>\n",
       "    <tr>\n",
       "      <th>1930-1931</th>\n",
       "      <td>50</td>\n",
       "    </tr>\n",
       "    <tr>\n",
       "      <th>1946-1947</th>\n",
       "      <td>48</td>\n",
       "    </tr>\n",
       "    <tr>\n",
       "      <th>1909-1910</th>\n",
       "      <td>48</td>\n",
       "    </tr>\n",
       "    <tr>\n",
       "      <th>2017-2018</th>\n",
       "      <td>47</td>\n",
       "    </tr>\n",
       "    <tr>\n",
       "      <th>1928-1929</th>\n",
       "      <td>46</td>\n",
       "    </tr>\n",
       "    <tr>\n",
       "      <th>1934-1935</th>\n",
       "      <td>46</td>\n",
       "    </tr>\n",
       "    <tr>\n",
       "      <th>2018-2019</th>\n",
       "      <td>44</td>\n",
       "    </tr>\n",
       "    <tr>\n",
       "      <th>1925-1926</th>\n",
       "      <td>44</td>\n",
       "    </tr>\n",
       "    <tr>\n",
       "      <th>1931-1932</th>\n",
       "      <td>43</td>\n",
       "    </tr>\n",
       "    <tr>\n",
       "      <th>1962-1963</th>\n",
       "      <td>43</td>\n",
       "    </tr>\n",
       "    <tr>\n",
       "      <th>1902-1903</th>\n",
       "      <td>42</td>\n",
       "    </tr>\n",
       "    <tr>\n",
       "      <th>1933-1934</th>\n",
       "      <td>42</td>\n",
       "    </tr>\n",
       "    <tr>\n",
       "      <th>1982-1983</th>\n",
       "      <td>42</td>\n",
       "    </tr>\n",
       "    <tr>\n",
       "      <th>1995-1996</th>\n",
       "      <td>42</td>\n",
       "    </tr>\n",
       "    <tr>\n",
       "      <th>1922-1923</th>\n",
       "      <td>41</td>\n",
       "    </tr>\n",
       "    <tr>\n",
       "      <th>1987-1988</th>\n",
       "      <td>41</td>\n",
       "    </tr>\n",
       "    <tr>\n",
       "      <th>1967-1968</th>\n",
       "      <td>41</td>\n",
       "    </tr>\n",
       "    <tr>\n",
       "      <th>1989-1990</th>\n",
       "      <td>40</td>\n",
       "    </tr>\n",
       "  </tbody>\n",
       "</table>\n",
       "</div>"
      ],
      "text/plain": [
       "           league\n",
       "season           \n",
       "2013-2014      52\n",
       "1963-1964      52\n",
       "1930-1931      50\n",
       "1946-1947      48\n",
       "1909-1910      48\n",
       "2017-2018      47\n",
       "1928-1929      46\n",
       "1934-1935      46\n",
       "2018-2019      44\n",
       "1925-1926      44\n",
       "1931-1932      43\n",
       "1962-1963      43\n",
       "1902-1903      42\n",
       "1933-1934      42\n",
       "1982-1983      42\n",
       "1995-1996      42\n",
       "1922-1923      41\n",
       "1987-1988      41\n",
       "1967-1968      41\n",
       "1989-1990      40"
      ]
     },
     "execution_count": 81,
     "metadata": {},
     "output_type": "execute_result"
    }
   ],
   "source": [
    "# show best total for a striking duo in the league\n",
    "df_duo = dflfcgm[['season', 'league']].groupby('season').head(2).groupby('season').sum()\n",
    "df_duo.sort_values('league', ascending=False).head(20)"
   ]
  },
  {
   "cell_type": "code",
   "execution_count": 82,
   "metadata": {},
   "outputs": [
    {
     "data": {
      "text/html": [
       "<div>\n",
       "<style scoped>\n",
       "    .dataframe tbody tr th:only-of-type {\n",
       "        vertical-align: middle;\n",
       "    }\n",
       "\n",
       "    .dataframe tbody tr th {\n",
       "        vertical-align: top;\n",
       "    }\n",
       "\n",
       "    .dataframe thead th {\n",
       "        text-align: right;\n",
       "    }\n",
       "</style>\n",
       "<table border=\"1\" class=\"dataframe\">\n",
       "  <thead>\n",
       "    <tr style=\"text-align: right;\">\n",
       "      <th></th>\n",
       "      <th>season</th>\n",
       "      <th>player</th>\n",
       "      <th>league</th>\n",
       "    </tr>\n",
       "  </thead>\n",
       "  <tbody>\n",
       "    <tr>\n",
       "      <th>75</th>\n",
       "      <td>2013-2014</td>\n",
       "      <td>Luis Suarez</td>\n",
       "      <td>31</td>\n",
       "    </tr>\n",
       "    <tr>\n",
       "      <th>76</th>\n",
       "      <td>2013-2014</td>\n",
       "      <td>Daniel Sturridge</td>\n",
       "      <td>21</td>\n",
       "    </tr>\n",
       "    <tr>\n",
       "      <th>697</th>\n",
       "      <td>1963-1964</td>\n",
       "      <td>Roger Hunt</td>\n",
       "      <td>31</td>\n",
       "    </tr>\n",
       "    <tr>\n",
       "      <th>698</th>\n",
       "      <td>1963-1964</td>\n",
       "      <td>Ian St John</td>\n",
       "      <td>21</td>\n",
       "    </tr>\n",
       "  </tbody>\n",
       "</table>\n",
       "</div>"
      ],
      "text/plain": [
       "        season            player  league\n",
       "75   2013-2014       Luis Suarez      31\n",
       "76   2013-2014  Daniel Sturridge      21\n",
       "697  1963-1964        Roger Hunt      31\n",
       "698  1963-1964       Ian St John      21"
      ]
     },
     "execution_count": 82,
     "metadata": {},
     "output_type": "execute_result"
    }
   ],
   "source": [
    "TOP_DUO = ['1963-1964', '2013-2014']\n",
    "df_duo_players = dflfcgm[['season', 'player', 'league']]\\\n",
    "                             [dflfcgm.season.isin(TOP_DUO)].groupby('season').head(2)\n",
    "df_duo_players"
   ]
  },
  {
   "cell_type": "code",
   "execution_count": 83,
   "metadata": {},
   "outputs": [
    {
     "name": "stdout",
     "output_type": "stream",
     "text": [
      "['Roger Hunt', 'Ian St John']\n"
     ]
    }
   ],
   "source": [
    "# plot first of TOP_DUO seasons\n",
    "players = list(df_duo_players[df_duo_players.season == TOP_DUO[0]].player.values)\n",
    "print(players)"
   ]
  },
  {
   "cell_type": "code",
   "execution_count": 84,
   "metadata": {},
   "outputs": [
    {
     "data": {
      "image/png": "[encoded data removed]"
     },
     "metadata": {},
     "output_type": "display_data"
    }
   ],
   "source": [
    "%%R -i dflfcgm -w 12 -h 8 -u in\n",
    "\n",
    "players = c('Roger Hunt', 'Ian St John')\n",
    "plt <- ggplot_age_vs_lgoals(dflfcgm, players)\n",
    "print(plt)"
   ]
  },
  {
   "cell_type": "code",
   "execution_count": 85,
   "metadata": {},
   "outputs": [
    {
     "name": "stdout",
     "output_type": "stream",
     "text": [
      "['Luis Suarez', 'Daniel Sturridge']\n"
     ]
    }
   ],
   "source": [
    "# plot second of TOP_DUO seasons\n",
    "players = list(df_duo_players[df_duo_players.season == TOP_DUO[1]].player.values)\n",
    "print(players)"
   ]
  },
  {
   "cell_type": "code",
   "execution_count": 86,
   "metadata": {},
   "outputs": [
    {
     "data": {
      "image/png": "[encoded data removed]"
     },
     "metadata": {},
     "output_type": "display_data"
    }
   ],
   "source": [
    "%%R -i dflfcgm -w 12 -h 8 -u in\n",
    "\n",
    "players = c('Luis Suarez', 'Daniel Sturridge')\n",
    "plt <- ggplot_age_vs_lgoals(dflfcgm, players)\n",
    "print(plt)"
   ]
  },
  {
   "cell_type": "markdown",
   "metadata": {},
   "source": [
    "Performance of Liverpool players who went on to be managers"
   ]
  },
  {
   "cell_type": "code",
   "execution_count": 87,
   "metadata": {},
   "outputs": [],
   "source": [
    "# produce list of managers - ref: http://www.lfchistory.net/Managers/\n",
    "MANAGERS = ['William Barclay', 'Tom Watson', 'David Ashworth', 'Matt McQueen', 'George Patterson',\\\n",
    "    'George Kay', 'Don Welsh', 'Phil Taylor', 'Bill Shankly', 'Bob Paisley', 'Joe Fagan',\\\n",
    "    'Kenny Dalglish', 'Graeme Souness', 'Roy Evans', 'Gerard Houllier',\\\n",
    "    'Rafael Benitez', 'Roy Hodgson', 'Kenny Dalglish', 'Brendan Rodgers', 'Jurgen Klopp']\n",
    "# excludes Ronnie Moran who was temporary manager in 1991"
   ]
  },
  {
   "cell_type": "code",
   "execution_count": 88,
   "metadata": {},
   "outputs": [
    {
     "data": {
      "text/html": [
       "<div>\n",
       "<style scoped>\n",
       "    .dataframe tbody tr th:only-of-type {\n",
       "        vertical-align: middle;\n",
       "    }\n",
       "\n",
       "    .dataframe tbody tr th {\n",
       "        vertical-align: top;\n",
       "    }\n",
       "\n",
       "    .dataframe thead th {\n",
       "        text-align: right;\n",
       "    }\n",
       "</style>\n",
       "<table border=\"1\" class=\"dataframe\">\n",
       "  <thead>\n",
       "    <tr style=\"text-align: right;\">\n",
       "      <th></th>\n",
       "      <th>league</th>\n",
       "    </tr>\n",
       "    <tr>\n",
       "      <th>player</th>\n",
       "      <th></th>\n",
       "    </tr>\n",
       "  </thead>\n",
       "  <tbody>\n",
       "    <tr>\n",
       "      <th>Kenny Dalglish</th>\n",
       "      <td>118</td>\n",
       "    </tr>\n",
       "    <tr>\n",
       "      <th>Graeme Souness</th>\n",
       "      <td>38</td>\n",
       "    </tr>\n",
       "    <tr>\n",
       "      <th>Phil Taylor</th>\n",
       "      <td>32</td>\n",
       "    </tr>\n",
       "    <tr>\n",
       "      <th>Bob Paisley</th>\n",
       "      <td>10</td>\n",
       "    </tr>\n",
       "  </tbody>\n",
       "</table>\n",
       "</div>"
      ],
      "text/plain": [
       "                league\n",
       "player                \n",
       "Kenny Dalglish     118\n",
       "Graeme Souness      38\n",
       "Phil Taylor         32\n",
       "Bob Paisley         10"
      ]
     },
     "execution_count": 88,
     "metadata": {},
     "output_type": "execute_result"
    }
   ],
   "source": [
    "# produce list of players (who scored in more than 1 season at top level) who were managers\n",
    "df_mgrs = dflfcgm[['player', 'league']][dflfcgm.player.isin(MANAGERS)]\\\n",
    "                                        .groupby('player').sum().sort_values('league', ascending=False)\n",
    "df_mgrs"
   ]
  },
  {
   "cell_type": "code",
   "execution_count": 89,
   "metadata": {},
   "outputs": [
    {
     "name": "stdout",
     "output_type": "stream",
     "text": [
      "['Kenny Dalglish', 'Graeme Souness', 'Phil Taylor', 'Bob Paisley']\n"
     ]
    }
   ],
   "source": [
    "players = list(df_mgrs.index.values)\n",
    "print(players)"
   ]
  },
  {
   "cell_type": "code",
   "execution_count": 90,
   "metadata": {},
   "outputs": [
    {
     "data": {
      "image/png": "[encoded data removed]"
     },
     "metadata": {},
     "output_type": "display_data"
    }
   ],
   "source": [
    "%%R -i dflfcgm -w 12 -h 8 -u in\n",
    "\n",
    "players = c('Kenny Dalglish', 'Graeme Souness', 'Phil Taylor', 'Bob Paisley')\n",
    "plt <- ggplot_age_vs_lgoals(dflfcgm, players)\n",
    "print(plt)"
   ]
  },
  {
   "cell_type": "markdown",
   "metadata": {},
   "source": [
    "Top midfielders"
   ]
  },
  {
   "cell_type": "code",
   "execution_count": 91,
   "metadata": {},
   "outputs": [
    {
     "data": {
      "text/html": [
       "<div>\n",
       "<style scoped>\n",
       "    .dataframe tbody tr th:only-of-type {\n",
       "        vertical-align: middle;\n",
       "    }\n",
       "\n",
       "    .dataframe tbody tr th {\n",
       "        vertical-align: top;\n",
       "    }\n",
       "\n",
       "    .dataframe thead th {\n",
       "        text-align: right;\n",
       "    }\n",
       "</style>\n",
       "<table border=\"1\" class=\"dataframe\">\n",
       "  <thead>\n",
       "    <tr style=\"text-align: right;\">\n",
       "      <th></th>\n",
       "      <th>season</th>\n",
       "      <th>player</th>\n",
       "      <th>league</th>\n",
       "      <th>position</th>\n",
       "      <th>age</th>\n",
       "    </tr>\n",
       "  </thead>\n",
       "  <tbody>\n",
       "    <tr>\n",
       "      <th>743</th>\n",
       "      <td>1951-1952</td>\n",
       "      <td>Billy Liddell</td>\n",
       "      <td>19</td>\n",
       "      <td>Midfielder</td>\n",
       "      <td>30.0</td>\n",
       "    </tr>\n",
       "    <tr>\n",
       "      <th>436</th>\n",
       "      <td>1984-1985</td>\n",
       "      <td>John Wark</td>\n",
       "      <td>18</td>\n",
       "      <td>Midfielder</td>\n",
       "      <td>27.4</td>\n",
       "    </tr>\n",
       "    <tr>\n",
       "      <th>461</th>\n",
       "      <td>1982-1983</td>\n",
       "      <td>Kenny Dalglish</td>\n",
       "      <td>18</td>\n",
       "      <td>Midfielder</td>\n",
       "      <td>31.8</td>\n",
       "    </tr>\n",
       "    <tr>\n",
       "      <th>766</th>\n",
       "      <td>1949-1950</td>\n",
       "      <td>Billy Liddell</td>\n",
       "      <td>17</td>\n",
       "      <td>Midfielder</td>\n",
       "      <td>28.0</td>\n",
       "    </tr>\n",
       "    <tr>\n",
       "      <th>882</th>\n",
       "      <td>1931-1932</td>\n",
       "      <td>Gordon Gunson</td>\n",
       "      <td>17</td>\n",
       "      <td>Midfielder</td>\n",
       "      <td>27.5</td>\n",
       "    </tr>\n",
       "    <tr>\n",
       "      <th>139</th>\n",
       "      <td>2008-2009</td>\n",
       "      <td>Steven Gerrard</td>\n",
       "      <td>16</td>\n",
       "      <td>Midfielder</td>\n",
       "      <td>28.6</td>\n",
       "    </tr>\n",
       "    <tr>\n",
       "      <th>370</th>\n",
       "      <td>1990-1991</td>\n",
       "      <td>John Barnes</td>\n",
       "      <td>16</td>\n",
       "      <td>Midfielder</td>\n",
       "      <td>27.2</td>\n",
       "    </tr>\n",
       "    <tr>\n",
       "      <th>919</th>\n",
       "      <td>1928-1929</td>\n",
       "      <td>Dick Edmed</td>\n",
       "      <td>16</td>\n",
       "      <td>Midfielder</td>\n",
       "      <td>24.9</td>\n",
       "    </tr>\n",
       "  </tbody>\n",
       "</table>\n",
       "</div>"
      ],
      "text/plain": [
       "        season          player  league    position   age\n",
       "743  1951-1952   Billy Liddell      19  Midfielder  30.0\n",
       "436  1984-1985       John Wark      18  Midfielder  27.4\n",
       "461  1982-1983  Kenny Dalglish      18  Midfielder  31.8\n",
       "766  1949-1950   Billy Liddell      17  Midfielder  28.0\n",
       "882  1931-1932   Gordon Gunson      17  Midfielder  27.5\n",
       "139  2008-2009  Steven Gerrard      16  Midfielder  28.6\n",
       "370  1990-1991     John Barnes      16  Midfielder  27.2\n",
       "919  1928-1929      Dick Edmed      16  Midfielder  24.9"
      ]
     },
     "execution_count": 91,
     "metadata": {},
     "output_type": "execute_result"
    }
   ],
   "source": [
    "# show midfielders who have scored more than 15 goals\n",
    "df_mids = dflfcgm[(dflfcgm.position == 'Midfielder') &\n",
    "                    (dflfcgm.league > 15)].sort_values('league', ascending=False)\n",
    "df_mids"
   ]
  },
  {
   "cell_type": "code",
   "execution_count": 92,
   "metadata": {},
   "outputs": [
    {
     "name": "stdout",
     "output_type": "stream",
     "text": [
      "7 ['Billy Liddell', 'John Wark', 'Kenny Dalglish', 'Gordon Gunson', 'Steven Gerrard', 'John Barnes', 'Dick Edmed']\n"
     ]
    }
   ],
   "source": [
    "players = list(df_mids.sort_values('league', ascending=False).player.unique())\n",
    "print(len(players), players)"
   ]
  },
  {
   "cell_type": "code",
   "execution_count": 93,
   "metadata": {},
   "outputs": [
    {
     "data": {
      "image/png": "[encoded data removed]"
     },
     "metadata": {},
     "output_type": "display_data"
    }
   ],
   "source": [
    "%%R -i dflfcgm -w 12 -h 8 -u in\n",
    "\n",
    "players = c('Billy Liddell', 'John Wark', 'Kenny Dalglish', 'Gordon Gunson', 'Steven Gerrard', 'John Barnes', 'Dick Edmed')\n",
    "plt <- ggplot_age_vs_lgoals(dflfcgm, players)\n",
    "print(plt)"
   ]
  },
  {
   "cell_type": "markdown",
   "metadata": {},
   "source": [
    "Top Defenders"
   ]
  },
  {
   "cell_type": "code",
   "execution_count": 94,
   "metadata": {},
   "outputs": [
    {
     "data": {
      "text/html": [
       "<div>\n",
       "<style scoped>\n",
       "    .dataframe tbody tr th:only-of-type {\n",
       "        vertical-align: middle;\n",
       "    }\n",
       "\n",
       "    .dataframe tbody tr th {\n",
       "        vertical-align: top;\n",
       "    }\n",
       "\n",
       "    .dataframe thead th {\n",
       "        text-align: right;\n",
       "    }\n",
       "</style>\n",
       "<table border=\"1\" class=\"dataframe\">\n",
       "  <thead>\n",
       "    <tr style=\"text-align: right;\">\n",
       "      <th></th>\n",
       "      <th>season</th>\n",
       "      <th>player</th>\n",
       "      <th>league</th>\n",
       "      <th>position</th>\n",
       "      <th>age</th>\n",
       "    </tr>\n",
       "  </thead>\n",
       "  <tbody>\n",
       "    <tr>\n",
       "      <th>621</th>\n",
       "      <td>1969-1970</td>\n",
       "      <td>Chris Lawler</td>\n",
       "      <td>10</td>\n",
       "      <td>Defender</td>\n",
       "      <td>26.2</td>\n",
       "    </tr>\n",
       "    <tr>\n",
       "      <th>463</th>\n",
       "      <td>1982-1983</td>\n",
       "      <td>Phil Neal</td>\n",
       "      <td>8</td>\n",
       "      <td>Defender</td>\n",
       "      <td>31.9</td>\n",
       "    </tr>\n",
       "    <tr>\n",
       "      <th>36</th>\n",
       "      <td>2016-2017</td>\n",
       "      <td>James Milner</td>\n",
       "      <td>7</td>\n",
       "      <td>Defender</td>\n",
       "      <td>31.0</td>\n",
       "    </tr>\n",
       "    <tr>\n",
       "      <th>79</th>\n",
       "      <td>2013-2014</td>\n",
       "      <td>Martin Skrtel</td>\n",
       "      <td>7</td>\n",
       "      <td>Defender</td>\n",
       "      <td>29.0</td>\n",
       "    </tr>\n",
       "    <tr>\n",
       "      <th>231</th>\n",
       "      <td>2001-2002</td>\n",
       "      <td>John Arne Riise</td>\n",
       "      <td>7</td>\n",
       "      <td>Defender</td>\n",
       "      <td>21.3</td>\n",
       "    </tr>\n",
       "    <tr>\n",
       "      <th>535</th>\n",
       "      <td>1976-1977</td>\n",
       "      <td>Phil Neal</td>\n",
       "      <td>7</td>\n",
       "      <td>Defender</td>\n",
       "      <td>25.9</td>\n",
       "    </tr>\n",
       "  </tbody>\n",
       "</table>\n",
       "</div>"
      ],
      "text/plain": [
       "        season           player  league  position   age\n",
       "621  1969-1970     Chris Lawler      10  Defender  26.2\n",
       "463  1982-1983        Phil Neal       8  Defender  31.9\n",
       "36   2016-2017     James Milner       7  Defender  31.0\n",
       "79   2013-2014    Martin Skrtel       7  Defender  29.0\n",
       "231  2001-2002  John Arne Riise       7  Defender  21.3\n",
       "535  1976-1977        Phil Neal       7  Defender  25.9"
      ]
     },
     "execution_count": 94,
     "metadata": {},
     "output_type": "execute_result"
    }
   ],
   "source": [
    "# show defenders who have scored more than 6 goals\n",
    "df_defs = dflfcgm[(dflfcgm.position == 'Defender') &\n",
    "                  (dflfcgm.league > 6)].sort_values('league', ascending=False)\n",
    "df_defs"
   ]
  },
  {
   "cell_type": "code",
   "execution_count": 95,
   "metadata": {},
   "outputs": [
    {
     "name": "stdout",
     "output_type": "stream",
     "text": [
      "5 ['Chris Lawler', 'Phil Neal', 'James Milner', 'Martin Skrtel', 'John Arne Riise']\n"
     ]
    }
   ],
   "source": [
    "players = list(df_defs.sort_values('league', ascending=False).player.unique())\n",
    "print(len(players), players)"
   ]
  },
  {
   "cell_type": "code",
   "execution_count": 96,
   "metadata": {},
   "outputs": [
    {
     "data": {
      "image/png": "[encoded data removed]"
     },
     "metadata": {},
     "output_type": "display_data"
    }
   ],
   "source": [
    "%%R -i dflfcgm -w 12 -h 8 -u in\n",
    "\n",
    "players = c('Chris Lawler', 'Phil Neal', 'James Milner', 'Martin Skrtel', 'John Arne Riise')\n",
    "plt <- ggplot_age_vs_lgoals(dflfcgm, players)\n",
    "print(plt)"
   ]
  },
  {
   "cell_type": "markdown",
   "metadata": {},
   "source": [
    "Peak Performance"
   ]
  },
  {
   "cell_type": "code",
   "execution_count": 97,
   "metadata": {},
   "outputs": [
    {
     "data": {
      "text/html": [
       "<div>\n",
       "<style scoped>\n",
       "    .dataframe tbody tr th:only-of-type {\n",
       "        vertical-align: middle;\n",
       "    }\n",
       "\n",
       "    .dataframe tbody tr th {\n",
       "        vertical-align: top;\n",
       "    }\n",
       "\n",
       "    .dataframe thead th {\n",
       "        text-align: right;\n",
       "    }\n",
       "</style>\n",
       "<table border=\"1\" class=\"dataframe\">\n",
       "  <thead>\n",
       "    <tr style=\"text-align: right;\">\n",
       "      <th></th>\n",
       "      <th>season</th>\n",
       "      <th>player</th>\n",
       "      <th>league</th>\n",
       "      <th>position</th>\n",
       "      <th>age</th>\n",
       "    </tr>\n",
       "  </thead>\n",
       "  <tbody>\n",
       "    <tr>\n",
       "      <th>892</th>\n",
       "      <td>1930-1931</td>\n",
       "      <td>Gordon Hodgson</td>\n",
       "      <td>36</td>\n",
       "      <td>Striker</td>\n",
       "      <td>26.7</td>\n",
       "    </tr>\n",
       "  </tbody>\n",
       "</table>\n",
       "</div>"
      ],
      "text/plain": [
       "        season          player  league position   age\n",
       "892  1930-1931  Gordon Hodgson      36  Striker  26.7"
      ]
     },
     "execution_count": 97,
     "metadata": {},
     "output_type": "execute_result"
    }
   ],
   "source": [
    "# show player with top score in a season, Gordon Hodgson\n",
    "top_player = dflfcgm[dflfcgm.league == max(dflfcgm.league)]\n",
    "top_player"
   ]
  },
  {
   "cell_type": "code",
   "execution_count": 98,
   "metadata": {},
   "outputs": [
    {
     "name": "stdout",
     "output_type": "stream",
     "text": [
      "['Gordon Hodgson']\n"
     ]
    }
   ],
   "source": [
    "players = list(top_player.player.values)\n",
    "print(players)"
   ]
  },
  {
   "cell_type": "code",
   "execution_count": 99,
   "metadata": {},
   "outputs": [
    {
     "data": {
      "image/png": "[encoded data removed]"
     },
     "metadata": {},
     "output_type": "display_data"
    }
   ],
   "source": [
    "%%R -i dflfcgm -w 12 -h 8 -u in\n",
    "\n",
    "players = c('Gordon Hodgson')\n",
    "plt <- ggplot_age_vs_lgoals(dflfcgm, players)\n",
    "print(plt)"
   ]
  },
  {
   "cell_type": "markdown",
   "metadata": {},
   "source": [
    "Rocket Men"
   ]
  },
  {
   "cell_type": "markdown",
   "metadata": {},
   "source": [
    "Show the players scored over 50  goals in 3 or more consecutive seasons, with a rising number of goals each season."
   ]
  },
  {
   "cell_type": "code",
   "execution_count": 100,
   "metadata": {},
   "outputs": [
    {
     "data": {
      "text/html": [
       "<div>\n",
       "<style scoped>\n",
       "    .dataframe tbody tr th:only-of-type {\n",
       "        vertical-align: middle;\n",
       "    }\n",
       "\n",
       "    .dataframe tbody tr th {\n",
       "        vertical-align: top;\n",
       "    }\n",
       "\n",
       "    .dataframe thead th {\n",
       "        text-align: right;\n",
       "    }\n",
       "</style>\n",
       "<table border=\"1\" class=\"dataframe\">\n",
       "  <thead>\n",
       "    <tr style=\"text-align: right;\">\n",
       "      <th></th>\n",
       "      <th></th>\n",
       "      <th>league</th>\n",
       "      <th>age</th>\n",
       "    </tr>\n",
       "    <tr>\n",
       "      <th>player</th>\n",
       "      <th>season</th>\n",
       "      <th></th>\n",
       "      <th></th>\n",
       "    </tr>\n",
       "  </thead>\n",
       "  <tbody>\n",
       "    <tr>\n",
       "      <th>Abel Xavier</th>\n",
       "      <th>2001-2002</th>\n",
       "      <td>1</td>\n",
       "      <td>29.1</td>\n",
       "    </tr>\n",
       "    <tr>\n",
       "      <th>Abraham Hartley</th>\n",
       "      <th>1897-1898</th>\n",
       "      <td>1</td>\n",
       "      <td>25.9</td>\n",
       "    </tr>\n",
       "    <tr>\n",
       "      <th rowspan=\"3\" valign=\"top\">Adam Lallana</th>\n",
       "      <th>2014-2015</th>\n",
       "      <td>5</td>\n",
       "      <td>26.6</td>\n",
       "    </tr>\n",
       "    <tr>\n",
       "      <th>2015-2016</th>\n",
       "      <td>4</td>\n",
       "      <td>27.6</td>\n",
       "    </tr>\n",
       "    <tr>\n",
       "      <th>2016-2017</th>\n",
       "      <td>8</td>\n",
       "      <td>28.6</td>\n",
       "    </tr>\n",
       "    <tr>\n",
       "      <th rowspan=\"3\" valign=\"top\">Alan A'Court</th>\n",
       "      <th>1952-1953</th>\n",
       "      <td>2</td>\n",
       "      <td>18.3</td>\n",
       "    </tr>\n",
       "    <tr>\n",
       "      <th>1953-1954</th>\n",
       "      <td>3</td>\n",
       "      <td>19.3</td>\n",
       "    </tr>\n",
       "    <tr>\n",
       "      <th>1962-1963</th>\n",
       "      <td>2</td>\n",
       "      <td>28.3</td>\n",
       "    </tr>\n",
       "    <tr>\n",
       "      <th>Alan Arnell</th>\n",
       "      <th>1953-1954</th>\n",
       "      <td>1</td>\n",
       "      <td>20.1</td>\n",
       "    </tr>\n",
       "    <tr>\n",
       "      <th rowspan=\"3\" valign=\"top\">Alan Hansen</th>\n",
       "      <th>1978-1979</th>\n",
       "      <td>1</td>\n",
       "      <td>23.5</td>\n",
       "    </tr>\n",
       "    <tr>\n",
       "      <th>1979-1980</th>\n",
       "      <td>4</td>\n",
       "      <td>24.5</td>\n",
       "    </tr>\n",
       "    <tr>\n",
       "      <th>1980-1981</th>\n",
       "      <td>1</td>\n",
       "      <td>25.5</td>\n",
       "    </tr>\n",
       "  </tbody>\n",
       "</table>\n",
       "</div>"
      ],
      "text/plain": [
       "                           league   age\n",
       "player          season                 \n",
       "Abel Xavier     2001-2002       1  29.1\n",
       "Abraham Hartley 1897-1898       1  25.9\n",
       "Adam Lallana    2014-2015       5  26.6\n",
       "                2015-2016       4  27.6\n",
       "                2016-2017       8  28.6\n",
       "Alan A'Court    1952-1953       2  18.3\n",
       "                1953-1954       3  19.3\n",
       "                1962-1963       2  28.3\n",
       "Alan Arnell     1953-1954       1  20.1\n",
       "Alan Hansen     1978-1979       1  23.5\n",
       "                1979-1980       4  24.5\n",
       "                1980-1981       1  25.5"
      ]
     },
     "execution_count": 100,
     "metadata": {},
     "output_type": "execute_result"
    }
   ],
   "source": [
    "# create dataframe ordered by player and season\n",
    "df = dflfcgm.groupby(['player', 'season']).sum()\n",
    "df.head(12)"
   ]
  },
  {
   "cell_type": "code",
   "execution_count": 101,
   "metadata": {},
   "outputs": [],
   "source": [
    "def linefit(x, y):\n",
    "    \"\"\"\"Return gradient and intercept of straight line of best fit for given x and y arrays.\"\"\"\n",
    "    gradient, intercept = np.polyfit(x, y, 1)\n",
    "    return gradient, intercept"
   ]
  },
  {
   "cell_type": "code",
   "execution_count": 102,
   "metadata": {},
   "outputs": [
    {
     "name": "stdout",
     "output_type": "stream",
     "text": [
      "[-1  0  1  2]\n",
      "[ 8  6  8 14]\n",
      "[<matplotlib.lines.Line2D object at 0x0000026A73F874C8>]\n",
      "2.0 8.0\n",
      "[<matplotlib.lines.Line2D object at 0x0000026A010B6248>]\n"
     ]
    },
    {
     "data": {
      "image/png": "[encoded data removed]",
      "text/plain": [
       "<Figure size 432x288 with 1 Axes>"
      ]
     },
     "metadata": {
      "needs_background": "light"
     },
     "output_type": "display_data"
    }
   ],
   "source": [
    "# test linefit()\n",
    "# using y = 2x^2 + 6\n",
    "x=np.array([-1, 0, 1, 2])\n",
    "print(x)\n",
    "y=2*x*x + 6\n",
    "print(y)\n",
    "print(plt.plot(x, y))\n",
    "gradient, intercept = linefit(x, y)\n",
    "print(np.round(gradient, 1), np.round(intercept, 1))\n",
    "print(plt.plot(x, gradient*x + intercept))"
   ]
  },
  {
   "cell_type": "code",
   "execution_count": 103,
   "metadata": {},
   "outputs": [
    {
     "name": "stdout",
     "output_type": "stream",
     "text": [
      "Rocket man: Berry Nieuwenhuys, goals=[9.0, 10.0, 10.0, 13.0, 13.0, 14.0], start_season=1933-1934, start_age=22.2, goals=69.0, grad=1.06\n",
      "Rocket man: Dick Forshaw, goals=[7.0, 9.0, 17.0, 19.0], start_season=1919-1920, start_age=24.4, goals=52.0, grad=4.4\n",
      "Rocket man: Dick Forshaw, goals=[5.0, 19.0, 27.0], start_season=1923-1924, start_age=28.4, goals=51.0, grad=11.0\n",
      "Rocket man: Gordon Hodgson, goals=[4.0, 16.0, 23.0, 30.0], start_season=1925-1926, start_age=21.7, goals=73.0, grad=8.5\n",
      "Rocket man: Gordon Hodgson, goals=[24.0, 24.0, 27.0], start_season=1932-1933, start_age=28.7, goals=75.0, grad=1.5\n",
      "Rocket man: Ian Rush, goals=[17.0, 24.0, 32.0], start_season=1981-1982, start_age=20.2, goals=73.0, grad=7.5\n",
      "Rocket man: Ian Rush, goals=[14.0, 22.0, 30.0], start_season=1984-1985, start_age=23.2, goals=66.0, grad=8.0\n",
      "Rocket man: Luis Suarez, goals=[4.0, 11.0, 23.0, 31.0], start_season=2010-2011, start_age=23.9, goals=69.0, grad=9.3\n",
      "Rocket man: Michael Owen, goals=[11.0, 16.0, 19.0, 19.0], start_season=1999-2000, start_age=20.0, goals=65.0, grad=2.7\n",
      "Rocket man: Robbie Fowler, goals=[12.0, 25.0, 28.0], start_season=1993-1994, start_age=18.7, goals=65.0, grad=8.0\n",
      "Rocket man: Terry McDermott, goals=[1.0, 1.0, 4.0, 8.0, 11.0, 13.0, 14.0], start_season=1975-1976, start_age=24.1, goals=52.0, grad=2.5\n"
     ]
    }
   ],
   "source": [
    "# Show the players scored over 50 goals in 3 or more consecutive seasons, with a rising number of goals each season.\n",
    "MIN_SEASONS = 3\n",
    "MIN_TOTAL_GOALS = 50\n",
    "p_prev = None # previous player\n",
    "l_prev = None # previous league goals\n",
    "Lg = [] # List of consecutive goals\n",
    "La = [] # List of consecutive ages\n",
    "Ls = [] # List of consecutive seasons\n",
    "\n",
    "# iterate through dataframe \n",
    "# for each row of (player, season) (league goals, age)\n",
    "for (p, s), (l, a) in df.iterrows():\n",
    "    #print (p,s,l,a)\n",
    "    if p != p_prev:\n",
    "        # new player, so check previous\n",
    "        if len(Lg) >= MIN_SEASONS and sum(Lg) >= MIN_TOTAL_GOALS:\n",
    "            grad, intercept = linefit(np.array(range(len(Lg))), np.array(Lg))\n",
    "            print('Rocket man: {}, goals={}, start_season={}, start_age={}, goals={}, grad={}'\\\n",
    "                                .format(p_prev, Lg, Ls[0], La[0], sum(Lg), np.round(grad, 2)))\n",
    "            \n",
    "        #print('new p', p)\n",
    "        l_prev = None\n",
    "        Lg = []\n",
    "        La = []\n",
    "        Ls = []\n",
    "        \n",
    "    #print(p, s, l, a) #player, season, league, age\n",
    "    #print(l, l_prev, Lg)\n",
    "    if (l_prev == None) or (l >= l_prev):\n",
    "        #print('\\t', l, 'greater than', l_prev, Lg)\n",
    "        Lg.append(l)\n",
    "        La.append(a)\n",
    "        Ls.append(s)\n",
    "    else:\n",
    "        if len(Lg) >= MIN_SEASONS and sum(Lg) >= MIN_TOTAL_GOALS:\n",
    "            grad, intercept = linefit(np.array(range(len(Lg))), np.array(Lg))\n",
    "            print('Rocket man: {}, goals={}, start_season={}, start_age={}, goals={}, grad={}'\\\n",
    "                  .format(p_prev, Lg, Ls[0], La[0], sum(Lg), np.round(grad, 2)))\n",
    "        Lg = [l]\n",
    "        La = [a]\n",
    "        Ls = [s]\n",
    "    \n",
    "    l_prev = l\n",
    "    p_prev = p\n",
    "            "
   ]
  },
  {
   "cell_type": "markdown",
   "metadata": {},
   "source": [
    "Top 5 Rocket Men (sorted by gradient of line of best fit) are\n",
    "- Dick Forshaw, 11\n",
    "- Luis Suarez, 9.3\n",
    "- Gordon Hodgson, 8.5\n",
    "- Ian Rush, 8.0\n",
    "- Robbie Fowler, 8.0"
   ]
  },
  {
   "cell_type": "code",
   "execution_count": 104,
   "metadata": {},
   "outputs": [
    {
     "name": "stdout",
     "output_type": "stream",
     "text": [
      "        season         player  league position   age\n",
      "306  1995-1996  Robbie Fowler      28  Striker  20.7\n",
      "316  1994-1995  Robbie Fowler      25  Striker  19.7\n",
      "326  1993-1994  Robbie Fowler      12  Striker  18.7\n"
     ]
    }
   ],
   "source": [
    "# show example graph of the rocket portion of the players career e.g. Robbie Fowler\n",
    "p = 'Robbie Fowler'\n",
    "Lg = [12.0, 25.0, 28.0]\n",
    "dfp = dflfcgm[(dflfcgm.player == p) &\n",
    "              (dflfcgm.league.isin(Lg))]\n",
    "print(dfp)\n",
    "#print ggplot_age_vs_lgoals(dfp, [p])"
   ]
  },
  {
   "cell_type": "code",
   "execution_count": 105,
   "metadata": {},
   "outputs": [
    {
     "data": {
      "image/png": "[encoded data removed]"
     },
     "metadata": {},
     "output_type": "display_data"
    }
   ],
   "source": [
    "%%R -i dfp -w 12 -h 8 -u in\n",
    "\n",
    "players = c('Robbie Fowler')\n",
    "plt <- ggplot_age_vs_lgoals(dfp, players)\n",
    "print(plt)"
   ]
  },
  {
   "cell_type": "markdown",
   "metadata": {},
   "source": [
    "Striking Nostalgia"
   ]
  },
  {
   "cell_type": "code",
   "execution_count": 106,
   "metadata": {},
   "outputs": [],
   "source": [
    "# Just a few of my early favourites\n",
    "players = ['Kevin Keegan', 'Kenny Dalglish', 'Steve Heighway']"
   ]
  },
  {
   "cell_type": "code",
   "execution_count": 107,
   "metadata": {},
   "outputs": [
    {
     "data": {
      "image/png": "[encoded data removed]"
     },
     "metadata": {},
     "output_type": "display_data"
    }
   ],
   "source": [
    "%%R -i dflfcgm -w 12 -h 8 -u in\n",
    "\n",
    "players = c('Kevin Keegan', 'Kenny Dalglish', 'Steve Heighway')\n",
    "plt <- ggplot_age_vs_lgoals(dflfcgm, players)\n",
    "print(plt)"
   ]
  },
  {
   "cell_type": "markdown",
   "metadata": {},
   "source": [
    "Highest scoring midfielders over career"
   ]
  },
  {
   "cell_type": "code",
   "execution_count": 108,
   "metadata": {},
   "outputs": [
    {
     "name": "stdout",
     "output_type": "stream",
     "text": [
      "player\n",
      "Steven Gerrard       120\n",
      "Billy Liddell         96\n",
      "Berry Nieuwenhuys     74\n",
      "Arthur Goddard        65\n",
      "Jack Cox              62\n",
      "John Barnes           62\n",
      "Terry McDermott       54\n",
      "Name: league, dtype: int64\n",
      "7 ['Steven Gerrard', 'Billy Liddell', 'Berry Nieuwenhuys', 'Arthur Goddard', 'Jack Cox', 'John Barnes', 'Terry McDermott']\n"
     ]
    }
   ],
   "source": [
    "df = dflfcgm[(dflfcgm.position == 'Midfielder')]\\\n",
    "                            .groupby('player').sum()\n",
    "print(df[df.league > 50].sort_values('league', ascending=False)['league'])\n",
    "players = df[df.league > 50].sort_values('league', ascending=False).index.unique()\n",
    "print(len(players), list(players))"
   ]
  },
  {
   "cell_type": "code",
   "execution_count": 109,
   "metadata": {},
   "outputs": [
    {
     "data": {
      "image/png": "[encoded data removed]"
     },
     "metadata": {},
     "output_type": "display_data"
    }
   ],
   "source": [
    "%%R -i dflfcgm -w 12 -h 8 -u in\n",
    "\n",
    "players = c('Steven Gerrard', 'Billy Liddell', 'Berry Nieuwenhuys', 'Arthur Goddard', 'Jack Cox', 'John Barnes', 'Terry McDermott')\n",
    "plt <- ggplot_age_vs_lgoals(dflfcgm, players)\n",
    "print(plt)"
   ]
  },
  {
   "cell_type": "markdown",
   "metadata": {},
   "source": [
    "Highest scoring defenders over career"
   ]
  },
  {
   "cell_type": "code",
   "execution_count": 110,
   "metadata": {},
   "outputs": [
    {
     "name": "stdout",
     "output_type": "stream",
     "text": [
      "player\n",
      "Chris Lawler        41\n",
      "Phil Neal           41\n",
      "Tommy Smith         36\n",
      "Donald Mackinlay    28\n",
      "Steve Nicol         23\n",
      "Sami Hyypia         22\n",
      "John Arne Riise     21\n",
      "Name: league, dtype: int64\n",
      "7 ['Chris Lawler', 'Phil Neal', 'Tommy Smith', 'Donald Mackinlay', 'Steve Nicol', 'Sami Hyypia', 'John Arne Riise']\n"
     ]
    }
   ],
   "source": [
    "df = dflfcgm[(dflfcgm.position == 'Defender')]\\\n",
    "                            .groupby('player').sum()\n",
    "print(df[df.league > 20].sort_values('league', ascending=False)['league'])\n",
    "players = df[df.league > 20].sort_values('league', ascending=False).index.unique()\n",
    "print(len(players), list(players))"
   ]
  },
  {
   "cell_type": "code",
   "execution_count": 111,
   "metadata": {},
   "outputs": [
    {
     "data": {
      "image/png": "[encoded data removed]"
     },
     "metadata": {},
     "output_type": "display_data"
    }
   ],
   "source": [
    "%%R -i dflfcgm -w 12 -h 8 -u in\n",
    "\n",
    "players = c('Chris Lawler', 'Phil Neal', 'Tommy Smith', 'Donald Mackinlay', 'Steve Nicol', 'Sami Hyypia', 'John Arne Riise')\n",
    "plt <- ggplot_age_vs_lgoals(dflfcgm, players)\n",
    "print(plt)"
   ]
  },
  {
   "cell_type": "markdown",
   "metadata": {
    "collapsed": true
   },
   "source": [
    "The Champions\n",
    "\n",
    "This plot shows the goalscoring performance over their Liverpool career of \n",
    "arguably the most important 8 players, those who scored most goals in the \n",
    "18 title winning seasons"
   ]
  },
  {
   "cell_type": "code",
   "execution_count": 112,
   "metadata": {},
   "outputs": [
    {
     "name": "stdout",
     "output_type": "stream",
     "text": [
      "18\n"
     ]
    }
   ],
   "source": [
    "# create list of seasons when LFC were champions\n",
    "CHAMPS = ['1900-1901', '1905-1906', '1921-1922', '1922-1923', '1946-1947', '1963-1964',\\\n",
    "          '1965-1966', '1972-1973', '1975-1976', '1976-1977', '1978-1979', '1979-1980',\\\n",
    "          '1981-1982', '1982-1983', '1983-1984', '1985-1986', '1987-1988', '1989-1990']\n",
    "print(len(CHAMPS))"
   ]
  },
  {
   "cell_type": "code",
   "execution_count": 113,
   "metadata": {},
   "outputs": [
    {
     "data": {
      "text/html": [
       "<div>\n",
       "<style scoped>\n",
       "    .dataframe tbody tr th:only-of-type {\n",
       "        vertical-align: middle;\n",
       "    }\n",
       "\n",
       "    .dataframe tbody tr th {\n",
       "        vertical-align: top;\n",
       "    }\n",
       "\n",
       "    .dataframe thead th {\n",
       "        text-align: right;\n",
       "    }\n",
       "</style>\n",
       "<table border=\"1\" class=\"dataframe\">\n",
       "  <thead>\n",
       "    <tr style=\"text-align: right;\">\n",
       "      <th></th>\n",
       "      <th>league</th>\n",
       "    </tr>\n",
       "    <tr>\n",
       "      <th>player</th>\n",
       "      <th></th>\n",
       "    </tr>\n",
       "  </thead>\n",
       "  <tbody>\n",
       "    <tr>\n",
       "      <th>Ian Rush</th>\n",
       "      <td>113</td>\n",
       "    </tr>\n",
       "    <tr>\n",
       "      <th>Kenny Dalglish</th>\n",
       "      <td>78</td>\n",
       "    </tr>\n",
       "    <tr>\n",
       "      <th>Roger Hunt</th>\n",
       "      <td>60</td>\n",
       "    </tr>\n",
       "    <tr>\n",
       "      <th>David Johnson</th>\n",
       "      <td>44</td>\n",
       "    </tr>\n",
       "    <tr>\n",
       "      <th>Harry Chambers</th>\n",
       "      <td>41</td>\n",
       "    </tr>\n",
       "    <tr>\n",
       "      <th>John Toshack</th>\n",
       "      <td>39</td>\n",
       "    </tr>\n",
       "    <tr>\n",
       "      <th>John Barnes</th>\n",
       "      <td>37</td>\n",
       "    </tr>\n",
       "    <tr>\n",
       "      <th>Kevin Keegan</th>\n",
       "      <td>37</td>\n",
       "    </tr>\n",
       "    <tr>\n",
       "      <th>Dick Forshaw</th>\n",
       "      <td>36</td>\n",
       "    </tr>\n",
       "    <tr>\n",
       "      <th>Terry McDermott</th>\n",
       "      <td>35</td>\n",
       "    </tr>\n",
       "    <tr>\n",
       "      <th>Ray Kennedy</th>\n",
       "      <td>34</td>\n",
       "    </tr>\n",
       "    <tr>\n",
       "      <th>Phil Neal</th>\n",
       "      <td>31</td>\n",
       "    </tr>\n",
       "  </tbody>\n",
       "</table>\n",
       "</div>"
      ],
      "text/plain": [
       "                 league\n",
       "player                 \n",
       "Ian Rush            113\n",
       "Kenny Dalglish       78\n",
       "Roger Hunt           60\n",
       "David Johnson        44\n",
       "Harry Chambers       41\n",
       "John Toshack         39\n",
       "John Barnes          37\n",
       "Kevin Keegan         37\n",
       "Dick Forshaw         36\n",
       "Terry McDermott      35\n",
       "Ray Kennedy          34\n",
       "Phil Neal            31"
      ]
     },
     "execution_count": 113,
     "metadata": {},
     "output_type": "execute_result"
    }
   ],
   "source": [
    "# show total goals over career in title winning teams\n",
    "df_champs = dflfcgm[dflfcgm.season.isin(CHAMPS)][['league', 'player']].groupby('player').sum()\\\n",
    "                            .sort_values('league', ascending=False).head(12)\n",
    "df_champs"
   ]
  },
  {
   "cell_type": "code",
   "execution_count": 114,
   "metadata": {},
   "outputs": [
    {
     "name": "stdout",
     "output_type": "stream",
     "text": [
      "['Ian Rush', 'Kenny Dalglish', 'Roger Hunt', 'David Johnson', 'Harry Chambers', 'John Toshack', 'John Barnes', 'Kevin Keegan']\n"
     ]
    }
   ],
   "source": [
    "# plot top 8\n",
    "players = list(df_champs.index.values[:8])\n",
    "print(players)"
   ]
  },
  {
   "cell_type": "code",
   "execution_count": 115,
   "metadata": {},
   "outputs": [
    {
     "data": {
      "image/png": "[encoded data removed]"
     },
     "metadata": {},
     "output_type": "display_data"
    }
   ],
   "source": [
    "%%R -i dflfcgm -w 12 -h 8 -u in\n",
    "\n",
    "players = c('Ian Rush', 'Kenny Dalglish', 'Roger Hunt', 'David Johnson', 'Harry Chambers', 'John Toshack', 'John Barnes', 'Kevin Keegan')\n",
    "plt <- ggplot_age_vs_lgoals(dflfcgm, players)\n",
    "print(plt)"
   ]
  },
  {
   "cell_type": "code",
   "execution_count": 116,
   "metadata": {},
   "outputs": [
    {
     "data": {
      "text/html": [
       "<div>\n",
       "<style scoped>\n",
       "    .dataframe tbody tr th:only-of-type {\n",
       "        vertical-align: middle;\n",
       "    }\n",
       "\n",
       "    .dataframe tbody tr th {\n",
       "        vertical-align: top;\n",
       "    }\n",
       "\n",
       "    .dataframe thead th {\n",
       "        text-align: right;\n",
       "    }\n",
       "</style>\n",
       "<table border=\"1\" class=\"dataframe\">\n",
       "  <thead>\n",
       "    <tr style=\"text-align: right;\">\n",
       "      <th></th>\n",
       "      <th>season</th>\n",
       "      <th>player</th>\n",
       "      <th>league</th>\n",
       "      <th>position</th>\n",
       "      <th>age</th>\n",
       "    </tr>\n",
       "  </thead>\n",
       "  <tbody>\n",
       "    <tr>\n",
       "      <th>448</th>\n",
       "      <td>1983-1984</td>\n",
       "      <td>Ian Rush</td>\n",
       "      <td>32</td>\n",
       "      <td>Striker</td>\n",
       "      <td>22.2</td>\n",
       "    </tr>\n",
       "    <tr>\n",
       "      <th>697</th>\n",
       "      <td>1963-1964</td>\n",
       "      <td>Roger Hunt</td>\n",
       "      <td>31</td>\n",
       "      <td>Striker</td>\n",
       "      <td>25.4</td>\n",
       "    </tr>\n",
       "    <tr>\n",
       "      <th>670</th>\n",
       "      <td>1965-1966</td>\n",
       "      <td>Roger Hunt</td>\n",
       "      <td>29</td>\n",
       "      <td>Striker</td>\n",
       "      <td>27.4</td>\n",
       "    </tr>\n",
       "    <tr>\n",
       "      <th>401</th>\n",
       "      <td>1987-1988</td>\n",
       "      <td>John Aldridge</td>\n",
       "      <td>26</td>\n",
       "      <td>Striker</td>\n",
       "      <td>29.3</td>\n",
       "    </tr>\n",
       "    <tr>\n",
       "      <th>798</th>\n",
       "      <td>1946-1947</td>\n",
       "      <td>Albert Stubbins</td>\n",
       "      <td>24</td>\n",
       "      <td>Striker</td>\n",
       "      <td>27.5</td>\n",
       "    </tr>\n",
       "    <tr>\n",
       "      <th>797</th>\n",
       "      <td>1946-1947</td>\n",
       "      <td>Jack Balmer</td>\n",
       "      <td>24</td>\n",
       "      <td>Striker</td>\n",
       "      <td>30.9</td>\n",
       "    </tr>\n",
       "    <tr>\n",
       "      <th>1132</th>\n",
       "      <td>1905-1906</td>\n",
       "      <td>Joe Hewitt</td>\n",
       "      <td>24</td>\n",
       "      <td>Striker</td>\n",
       "      <td>24.7</td>\n",
       "    </tr>\n",
       "    <tr>\n",
       "      <th>460</th>\n",
       "      <td>1982-1983</td>\n",
       "      <td>Ian Rush</td>\n",
       "      <td>24</td>\n",
       "      <td>Striker</td>\n",
       "      <td>21.2</td>\n",
       "    </tr>\n",
       "    <tr>\n",
       "      <th>379</th>\n",
       "      <td>1989-1990</td>\n",
       "      <td>John Barnes</td>\n",
       "      <td>22</td>\n",
       "      <td>Striker</td>\n",
       "      <td>26.2</td>\n",
       "    </tr>\n",
       "    <tr>\n",
       "      <th>422</th>\n",
       "      <td>1985-1986</td>\n",
       "      <td>Ian Rush</td>\n",
       "      <td>22</td>\n",
       "      <td>Striker</td>\n",
       "      <td>24.2</td>\n",
       "    </tr>\n",
       "    <tr>\n",
       "      <th>983</th>\n",
       "      <td>1922-1923</td>\n",
       "      <td>Harry Chambers</td>\n",
       "      <td>22</td>\n",
       "      <td>Striker</td>\n",
       "      <td>26.1</td>\n",
       "    </tr>\n",
       "    <tr>\n",
       "      <th>698</th>\n",
       "      <td>1963-1964</td>\n",
       "      <td>Ian St John</td>\n",
       "      <td>21</td>\n",
       "      <td>Striker</td>\n",
       "      <td>25.6</td>\n",
       "    </tr>\n",
       "  </tbody>\n",
       "</table>\n",
       "</div>"
      ],
      "text/plain": [
       "         season           player  league position   age\n",
       "448   1983-1984         Ian Rush      32  Striker  22.2\n",
       "697   1963-1964       Roger Hunt      31  Striker  25.4\n",
       "670   1965-1966       Roger Hunt      29  Striker  27.4\n",
       "401   1987-1988    John Aldridge      26  Striker  29.3\n",
       "798   1946-1947  Albert Stubbins      24  Striker  27.5\n",
       "797   1946-1947      Jack Balmer      24  Striker  30.9\n",
       "1132  1905-1906       Joe Hewitt      24  Striker  24.7\n",
       "460   1982-1983         Ian Rush      24  Striker  21.2\n",
       "379   1989-1990      John Barnes      22  Striker  26.2\n",
       "422   1985-1986         Ian Rush      22  Striker  24.2\n",
       "983   1922-1923   Harry Chambers      22  Striker  26.1\n",
       "698   1963-1964      Ian St John      21  Striker  25.6"
      ]
     },
     "execution_count": 116,
     "metadata": {},
     "output_type": "execute_result"
    }
   ],
   "source": [
    "# show highest scorers in a title winning season\n",
    "dflfcgm[dflfcgm.season.isin(CHAMPS)].sort_values('league', ascending=False).head(12)"
   ]
  },
  {
   "cell_type": "markdown",
   "metadata": {
    "collapsed": true
   },
   "source": [
    "European Cup Winning Team, May 1977"
   ]
  },
  {
   "cell_type": "code",
   "execution_count": 117,
   "metadata": {},
   "outputs": [
    {
     "name": "stdout",
     "output_type": "stream",
     "text": [
      "['Ray Clemence', 'Phil Neal', 'Joey Jones', 'Tommy Smith', 'Ray Kennedy', 'Emlyn Hughes', 'Kevin Keegan', 'Jimmy Case', 'Steve Heighway', 'Ian Callaghan', 'Terry McDermott']\n"
     ]
    }
   ],
   "source": [
    "players = ['Ray Clemence', 'Phil Neal', 'Joey Jones', 'Tommy Smith',\n",
    "           'Ray Kennedy', 'Emlyn Hughes', 'Kevin Keegan', 'Jimmy Case',\n",
    "           'Steve Heighway', 'Ian Callaghan', 'Terry McDermott']\n",
    "print(players)"
   ]
  },
  {
   "cell_type": "code",
   "execution_count": 118,
   "metadata": {},
   "outputs": [
    {
     "data": {
      "image/png": "[encoded data removed]"
     },
     "metadata": {},
     "output_type": "display_data"
    }
   ],
   "source": [
    "%%R -i dflfcgm -w 12 -h 8 -u in\n",
    "\n",
    "players = c('Ray Clemence', 'Phil Neal', 'Joey Jones', 'Tommy Smith', 'Ray Kennedy', 'Emlyn Hughes', 'Kevin Keegan', 'Jimmy Case', 'Steve Heighway', 'Ian Callaghan', 'Terry McDermott')\n",
    "plt <- ggplot_age_vs_lgoals(dflfcgm, players)\n",
    "print(plt)"
   ]
  },
  {
   "cell_type": "markdown",
   "metadata": {},
   "source": [
    "Best goals per game"
   ]
  },
  {
   "cell_type": "raw",
   "metadata": {},
   "source": [
    "# calculate GPG for each player season\n",
    "dflfc_scorers_tl_pos_age_apps['GPG'] = (dflfc_scorers_tl_pos_age_apps.league/dflfc_scorers_tl_pos_age_apps.lgapp).round(3)"
   ]
  },
  {
   "cell_type": "code",
   "execution_count": 119,
   "metadata": {},
   "outputs": [
    {
     "data": {
      "text/html": [
       "<div>\n",
       "<style scoped>\n",
       "    .dataframe tbody tr th:only-of-type {\n",
       "        vertical-align: middle;\n",
       "    }\n",
       "\n",
       "    .dataframe tbody tr th {\n",
       "        vertical-align: top;\n",
       "    }\n",
       "\n",
       "    .dataframe thead th {\n",
       "        text-align: right;\n",
       "    }\n",
       "</style>\n",
       "<table border=\"1\" class=\"dataframe\">\n",
       "  <thead>\n",
       "    <tr style=\"text-align: right;\">\n",
       "      <th></th>\n",
       "      <th>season</th>\n",
       "      <th>player</th>\n",
       "      <th>league</th>\n",
       "      <th>position</th>\n",
       "      <th>age</th>\n",
       "      <th>lgapp</th>\n",
       "      <th>GPG</th>\n",
       "    </tr>\n",
       "  </thead>\n",
       "  <tbody>\n",
       "    <tr>\n",
       "      <th>0</th>\n",
       "      <td>2018-2019</td>\n",
       "      <td>Mohamed Salah</td>\n",
       "      <td>22</td>\n",
       "      <td>Striker</td>\n",
       "      <td>26.5</td>\n",
       "      <td>38</td>\n",
       "      <td>0.579</td>\n",
       "    </tr>\n",
       "    <tr>\n",
       "      <th>1</th>\n",
       "      <td>2018-2019</td>\n",
       "      <td>Sadio Mane</td>\n",
       "      <td>22</td>\n",
       "      <td>Striker</td>\n",
       "      <td>26.7</td>\n",
       "      <td>36</td>\n",
       "      <td>0.611</td>\n",
       "    </tr>\n",
       "    <tr>\n",
       "      <th>2</th>\n",
       "      <td>2018-2019</td>\n",
       "      <td>Roberto Firmino</td>\n",
       "      <td>12</td>\n",
       "      <td>Striker</td>\n",
       "      <td>27.2</td>\n",
       "      <td>34</td>\n",
       "      <td>0.353</td>\n",
       "    </tr>\n",
       "    <tr>\n",
       "      <th>3</th>\n",
       "      <td>2018-2019</td>\n",
       "      <td>Xherdan Shaqiri</td>\n",
       "      <td>6</td>\n",
       "      <td>Midfielder</td>\n",
       "      <td>27.2</td>\n",
       "      <td>24</td>\n",
       "      <td>0.250</td>\n",
       "    </tr>\n",
       "    <tr>\n",
       "      <th>4</th>\n",
       "      <td>2018-2019</td>\n",
       "      <td>James Milner</td>\n",
       "      <td>5</td>\n",
       "      <td>Midfielder</td>\n",
       "      <td>33.0</td>\n",
       "      <td>31</td>\n",
       "      <td>0.161</td>\n",
       "    </tr>\n",
       "  </tbody>\n",
       "</table>\n",
       "</div>"
      ],
      "text/plain": [
       "      season           player  league    position   age  lgapp    GPG\n",
       "0  2018-2019    Mohamed Salah      22     Striker  26.5     38  0.579\n",
       "1  2018-2019       Sadio Mane      22     Striker  26.7     36  0.611\n",
       "2  2018-2019  Roberto Firmino      12     Striker  27.2     34  0.353\n",
       "3  2018-2019  Xherdan Shaqiri       6  Midfielder  27.2     24  0.250\n",
       "4  2018-2019     James Milner       5  Midfielder  33.0     31  0.161"
      ]
     },
     "execution_count": 119,
     "metadata": {},
     "output_type": "execute_result"
    }
   ],
   "source": [
    "dflfc_scorers_tl_pos_age_apps.head()"
   ]
  },
  {
   "cell_type": "code",
   "execution_count": 120,
   "metadata": {},
   "outputs": [
    {
     "data": {
      "text/html": [
       "<div>\n",
       "<style scoped>\n",
       "    .dataframe tbody tr th:only-of-type {\n",
       "        vertical-align: middle;\n",
       "    }\n",
       "\n",
       "    .dataframe tbody tr th {\n",
       "        vertical-align: top;\n",
       "    }\n",
       "\n",
       "    .dataframe thead th {\n",
       "        text-align: right;\n",
       "    }\n",
       "</style>\n",
       "<table border=\"1\" class=\"dataframe\">\n",
       "  <thead>\n",
       "    <tr style=\"text-align: right;\">\n",
       "      <th></th>\n",
       "      <th>season</th>\n",
       "      <th>player</th>\n",
       "      <th>league</th>\n",
       "      <th>position</th>\n",
       "      <th>age</th>\n",
       "      <th>lgapp</th>\n",
       "      <th>GPG</th>\n",
       "    </tr>\n",
       "  </thead>\n",
       "  <tbody>\n",
       "    <tr>\n",
       "      <th>1088</th>\n",
       "      <td>1909-1910</td>\n",
       "      <td>Jack Parkinson</td>\n",
       "      <td>30</td>\n",
       "      <td>Striker</td>\n",
       "      <td>26.3</td>\n",
       "      <td>31</td>\n",
       "      <td>0.968</td>\n",
       "    </tr>\n",
       "    <tr>\n",
       "      <th>1159</th>\n",
       "      <td>1902-1903</td>\n",
       "      <td>Sam Raybould</td>\n",
       "      <td>31</td>\n",
       "      <td>Striker</td>\n",
       "      <td>27.6</td>\n",
       "      <td>33</td>\n",
       "      <td>0.939</td>\n",
       "    </tr>\n",
       "    <tr>\n",
       "      <th>75</th>\n",
       "      <td>2013-2014</td>\n",
       "      <td>Luis Suarez</td>\n",
       "      <td>31</td>\n",
       "      <td>Striker</td>\n",
       "      <td>26.9</td>\n",
       "      <td>33</td>\n",
       "      <td>0.939</td>\n",
       "    </tr>\n",
       "    <tr>\n",
       "      <th>892</th>\n",
       "      <td>1930-1931</td>\n",
       "      <td>Gordon Hodgson</td>\n",
       "      <td>36</td>\n",
       "      <td>Striker</td>\n",
       "      <td>26.7</td>\n",
       "      <td>40</td>\n",
       "      <td>0.900</td>\n",
       "    </tr>\n",
       "    <tr>\n",
       "      <th>15</th>\n",
       "      <td>2017-2018</td>\n",
       "      <td>Mohamed Salah</td>\n",
       "      <td>32</td>\n",
       "      <td>Striker</td>\n",
       "      <td>25.5</td>\n",
       "      <td>36</td>\n",
       "      <td>0.889</td>\n",
       "    </tr>\n",
       "    <tr>\n",
       "      <th>953</th>\n",
       "      <td>1925-1926</td>\n",
       "      <td>Dick Forshaw</td>\n",
       "      <td>27</td>\n",
       "      <td>Striker</td>\n",
       "      <td>30.4</td>\n",
       "      <td>32</td>\n",
       "      <td>0.844</td>\n",
       "    </tr>\n",
       "    <tr>\n",
       "      <th>1028</th>\n",
       "      <td>1914-1915</td>\n",
       "      <td>Fred Pagnam</td>\n",
       "      <td>24</td>\n",
       "      <td>Striker</td>\n",
       "      <td>23.3</td>\n",
       "      <td>29</td>\n",
       "      <td>0.828</td>\n",
       "    </tr>\n",
       "    <tr>\n",
       "      <th>128</th>\n",
       "      <td>2009-2010</td>\n",
       "      <td>Fernando Torres</td>\n",
       "      <td>18</td>\n",
       "      <td>Striker</td>\n",
       "      <td>25.8</td>\n",
       "      <td>22</td>\n",
       "      <td>0.818</td>\n",
       "    </tr>\n",
       "    <tr>\n",
       "      <th>845</th>\n",
       "      <td>1934-1935</td>\n",
       "      <td>Gordon Hodgson</td>\n",
       "      <td>27</td>\n",
       "      <td>Striker</td>\n",
       "      <td>30.7</td>\n",
       "      <td>34</td>\n",
       "      <td>0.794</td>\n",
       "    </tr>\n",
       "    <tr>\n",
       "      <th>918</th>\n",
       "      <td>1928-1929</td>\n",
       "      <td>Gordon Hodgson</td>\n",
       "      <td>30</td>\n",
       "      <td>Striker</td>\n",
       "      <td>24.7</td>\n",
       "      <td>38</td>\n",
       "      <td>0.789</td>\n",
       "    </tr>\n",
       "    <tr>\n",
       "      <th>670</th>\n",
       "      <td>1965-1966</td>\n",
       "      <td>Roger Hunt</td>\n",
       "      <td>29</td>\n",
       "      <td>Striker</td>\n",
       "      <td>27.4</td>\n",
       "      <td>37</td>\n",
       "      <td>0.784</td>\n",
       "    </tr>\n",
       "    <tr>\n",
       "      <th>448</th>\n",
       "      <td>1983-1984</td>\n",
       "      <td>Ian Rush</td>\n",
       "      <td>32</td>\n",
       "      <td>Striker</td>\n",
       "      <td>22.2</td>\n",
       "      <td>41</td>\n",
       "      <td>0.780</td>\n",
       "    </tr>\n",
       "    <tr>\n",
       "      <th>934</th>\n",
       "      <td>1927-1928</td>\n",
       "      <td>Willie Devlin</td>\n",
       "      <td>14</td>\n",
       "      <td>Striker</td>\n",
       "      <td>28.4</td>\n",
       "      <td>18</td>\n",
       "      <td>0.778</td>\n",
       "    </tr>\n",
       "    <tr>\n",
       "      <th>697</th>\n",
       "      <td>1963-1964</td>\n",
       "      <td>Roger Hunt</td>\n",
       "      <td>31</td>\n",
       "      <td>Striker</td>\n",
       "      <td>25.4</td>\n",
       "      <td>41</td>\n",
       "      <td>0.756</td>\n",
       "    </tr>\n",
       "    <tr>\n",
       "      <th>699</th>\n",
       "      <td>1963-1964</td>\n",
       "      <td>Alf Arrowsmith</td>\n",
       "      <td>15</td>\n",
       "      <td>Midfielder</td>\n",
       "      <td>21.1</td>\n",
       "      <td>20</td>\n",
       "      <td>0.750</td>\n",
       "    </tr>\n",
       "  </tbody>\n",
       "</table>\n",
       "</div>"
      ],
      "text/plain": [
       "         season           player  league    position   age  lgapp    GPG\n",
       "1088  1909-1910   Jack Parkinson      30     Striker  26.3     31  0.968\n",
       "1159  1902-1903     Sam Raybould      31     Striker  27.6     33  0.939\n",
       "75    2013-2014      Luis Suarez      31     Striker  26.9     33  0.939\n",
       "892   1930-1931   Gordon Hodgson      36     Striker  26.7     40  0.900\n",
       "15    2017-2018    Mohamed Salah      32     Striker  25.5     36  0.889\n",
       "953   1925-1926     Dick Forshaw      27     Striker  30.4     32  0.844\n",
       "1028  1914-1915      Fred Pagnam      24     Striker  23.3     29  0.828\n",
       "128   2009-2010  Fernando Torres      18     Striker  25.8     22  0.818\n",
       "845   1934-1935   Gordon Hodgson      27     Striker  30.7     34  0.794\n",
       "918   1928-1929   Gordon Hodgson      30     Striker  24.7     38  0.789\n",
       "670   1965-1966       Roger Hunt      29     Striker  27.4     37  0.784\n",
       "448   1983-1984         Ian Rush      32     Striker  22.2     41  0.780\n",
       "934   1927-1928    Willie Devlin      14     Striker  28.4     18  0.778\n",
       "697   1963-1964       Roger Hunt      31     Striker  25.4     41  0.756\n",
       "699   1963-1964   Alf Arrowsmith      15  Midfielder  21.1     20  0.750"
      ]
     },
     "execution_count": 120,
     "metadata": {},
     "output_type": "execute_result"
    }
   ],
   "source": [
    "# show best GPG per season where appearance > 10\n",
    "dflfc_scorers_tl_pos_age_apps[dflfc_scorers_tl_pos_age_apps.lgapp > 10].sort_values('GPG', ascending=False).head(15)"
   ]
  },
  {
   "cell_type": "code",
   "execution_count": 121,
   "metadata": {},
   "outputs": [
    {
     "data": {
      "text/html": [
       "<div>\n",
       "<style scoped>\n",
       "    .dataframe tbody tr th:only-of-type {\n",
       "        vertical-align: middle;\n",
       "    }\n",
       "\n",
       "    .dataframe tbody tr th {\n",
       "        vertical-align: top;\n",
       "    }\n",
       "\n",
       "    .dataframe thead th {\n",
       "        text-align: right;\n",
       "    }\n",
       "</style>\n",
       "<table border=\"1\" class=\"dataframe\">\n",
       "  <thead>\n",
       "    <tr style=\"text-align: right;\">\n",
       "      <th></th>\n",
       "      <th>league</th>\n",
       "      <th>lgapp</th>\n",
       "      <th>CGPG</th>\n",
       "      <th>CMPG</th>\n",
       "    </tr>\n",
       "    <tr>\n",
       "      <th>player</th>\n",
       "      <th></th>\n",
       "      <th></th>\n",
       "      <th></th>\n",
       "      <th></th>\n",
       "    </tr>\n",
       "  </thead>\n",
       "  <tbody>\n",
       "    <tr>\n",
       "      <th>Mohamed Salah</th>\n",
       "      <td>54</td>\n",
       "      <td>74</td>\n",
       "      <td>0.730</td>\n",
       "      <td>123.333</td>\n",
       "    </tr>\n",
       "    <tr>\n",
       "      <th>Gordon Hodgson</th>\n",
       "      <td>233</td>\n",
       "      <td>358</td>\n",
       "      <td>0.651</td>\n",
       "      <td>138.283</td>\n",
       "    </tr>\n",
       "    <tr>\n",
       "      <th>Fernando Torres</th>\n",
       "      <td>65</td>\n",
       "      <td>102</td>\n",
       "      <td>0.637</td>\n",
       "      <td>141.231</td>\n",
       "    </tr>\n",
       "    <tr>\n",
       "      <th>Luis Suarez</th>\n",
       "      <td>69</td>\n",
       "      <td>110</td>\n",
       "      <td>0.627</td>\n",
       "      <td>143.478</td>\n",
       "    </tr>\n",
       "    <tr>\n",
       "      <th>Jimmy Smith</th>\n",
       "      <td>38</td>\n",
       "      <td>61</td>\n",
       "      <td>0.623</td>\n",
       "      <td>144.474</td>\n",
       "    </tr>\n",
       "    <tr>\n",
       "      <th>John Aldridge</th>\n",
       "      <td>50</td>\n",
       "      <td>83</td>\n",
       "      <td>0.602</td>\n",
       "      <td>149.400</td>\n",
       "    </tr>\n",
       "    <tr>\n",
       "      <th>Tom Reid</th>\n",
       "      <td>30</td>\n",
       "      <td>51</td>\n",
       "      <td>0.588</td>\n",
       "      <td>153.000</td>\n",
       "    </tr>\n",
       "    <tr>\n",
       "      <th>Jack Parkinson</th>\n",
       "      <td>103</td>\n",
       "      <td>178</td>\n",
       "      <td>0.579</td>\n",
       "      <td>155.534</td>\n",
       "    </tr>\n",
       "    <tr>\n",
       "      <th>Roger Hunt</th>\n",
       "      <td>167</td>\n",
       "      <td>295</td>\n",
       "      <td>0.566</td>\n",
       "      <td>158.982</td>\n",
       "    </tr>\n",
       "    <tr>\n",
       "      <th>Sam Raybould</th>\n",
       "      <td>101</td>\n",
       "      <td>179</td>\n",
       "      <td>0.564</td>\n",
       "      <td>159.505</td>\n",
       "    </tr>\n",
       "    <tr>\n",
       "      <th>Michael Owen</th>\n",
       "      <td>118</td>\n",
       "      <td>216</td>\n",
       "      <td>0.546</td>\n",
       "      <td>164.746</td>\n",
       "    </tr>\n",
       "    <tr>\n",
       "      <th>Ian Rush</th>\n",
       "      <td>229</td>\n",
       "      <td>462</td>\n",
       "      <td>0.496</td>\n",
       "      <td>181.572</td>\n",
       "    </tr>\n",
       "  </tbody>\n",
       "</table>\n",
       "</div>"
      ],
      "text/plain": [
       "                 league  lgapp   CGPG     CMPG\n",
       "player                                        \n",
       "Mohamed Salah        54     74  0.730  123.333\n",
       "Gordon Hodgson      233    358  0.651  138.283\n",
       "Fernando Torres      65    102  0.637  141.231\n",
       "Luis Suarez          69    110  0.627  143.478\n",
       "Jimmy Smith          38     61  0.623  144.474\n",
       "John Aldridge        50     83  0.602  149.400\n",
       "Tom Reid             30     51  0.588  153.000\n",
       "Jack Parkinson      103    178  0.579  155.534\n",
       "Roger Hunt          167    295  0.566  158.982\n",
       "Sam Raybould        101    179  0.564  159.505\n",
       "Michael Owen        118    216  0.546  164.746\n",
       "Ian Rush            229    462  0.496  181.572"
      ]
     },
     "execution_count": 121,
     "metadata": {},
     "output_type": "execute_result"
    }
   ],
   "source": [
    "# show best Career GPG (CGPG) per career where appearance > 50\n",
    "df_gpg = dflfc_scorers_tl_pos_age_apps[['player', 'league', 'lgapp']].groupby('player').sum()\n",
    "df_gpg['CGPG'] = (df_gpg.league/df_gpg.lgapp).round(3) # career goals per game\n",
    "df_gpg['CMPG'] = (df_gpg.lgapp*90/df_gpg.league).round(3) # career minutes per goal (assume all apps = 90 mins)\n",
    "df_gpg[df_gpg.lgapp > 50].sort_values('CGPG', ascending=False).head(12)"
   ]
  },
  {
   "cell_type": "code",
   "execution_count": 122,
   "metadata": {},
   "outputs": [
    {
     "name": "stdout",
     "output_type": "stream",
     "text": [
      "['Mohamed Salah', 'Gordon Hodgson', 'Fernando Torres', 'Luis Suarez', 'Jimmy Smith', 'John Aldridge']\n"
     ]
    }
   ],
   "source": [
    "# plot top 6 goal scorers with best Career GPG\n",
    "players = list(df_gpg[df_gpg.lgapp > 50].sort_values('CGPG', ascending=False).head(6).index.values)\n",
    "print(players)"
   ]
  },
  {
   "cell_type": "code",
   "execution_count": 123,
   "metadata": {},
   "outputs": [
    {
     "data": {
      "image/png": "[encoded data removed]"
     },
     "metadata": {},
     "output_type": "display_data"
    }
   ],
   "source": [
    "%%R -i dflfcgm -w 12 -h 8 -u in\n",
    "\n",
    "players = c('Mohamed Salah', 'Gordon Hodgson', 'Fernando Torres', 'Luis Suarez', 'Jimmy Smith', 'John Aldridge')\n",
    "plt <- ggplot_age_vs_lgoals(dflfcgm, players)\n",
    "print(plt)"
   ]
  },
  {
   "cell_type": "markdown",
   "metadata": {},
   "source": [
    "## Note on the variable number of games per season"
   ]
  },
  {
   "cell_type": "markdown",
   "metadata": {},
   "source": [
    "Note that the number of league games has varied over the top level seasons."
   ]
  },
  {
   "cell_type": "code",
   "execution_count": 124,
   "metadata": {},
   "outputs": [
    {
     "name": "stdout",
     "output_type": "stream",
     "text": [
      "[30 34 38 42 40]\n"
     ]
    }
   ],
   "source": [
    "# show number of different total games\n",
    "print(dflfc_league[dflfc_league.League.isin(['1st Division', 'Premier League'])].PLD.unique())"
   ]
  },
  {
   "cell_type": "code",
   "execution_count": 125,
   "metadata": {},
   "outputs": [
    {
     "data": {
      "text/html": [
       "<div>\n",
       "<style scoped>\n",
       "    .dataframe tbody tr th:only-of-type {\n",
       "        vertical-align: middle;\n",
       "    }\n",
       "\n",
       "    .dataframe tbody tr th {\n",
       "        vertical-align: top;\n",
       "    }\n",
       "\n",
       "    .dataframe thead th {\n",
       "        text-align: right;\n",
       "    }\n",
       "</style>\n",
       "<table border=\"1\" class=\"dataframe\">\n",
       "  <thead>\n",
       "    <tr style=\"text-align: right;\">\n",
       "      <th></th>\n",
       "      <th>Season</th>\n",
       "    </tr>\n",
       "    <tr>\n",
       "      <th>PLD</th>\n",
       "      <th></th>\n",
       "    </tr>\n",
       "  </thead>\n",
       "  <tbody>\n",
       "    <tr>\n",
       "      <th>30</th>\n",
       "      <td>3</td>\n",
       "    </tr>\n",
       "    <tr>\n",
       "      <th>34</th>\n",
       "      <td>6</td>\n",
       "    </tr>\n",
       "    <tr>\n",
       "      <th>38</th>\n",
       "      <td>37</td>\n",
       "    </tr>\n",
       "    <tr>\n",
       "      <th>40</th>\n",
       "      <td>1</td>\n",
       "    </tr>\n",
       "    <tr>\n",
       "      <th>42</th>\n",
       "      <td>57</td>\n",
       "    </tr>\n",
       "  </tbody>\n",
       "</table>\n",
       "</div>"
      ],
      "text/plain": [
       "     Season\n",
       "PLD        \n",
       "30        3\n",
       "34        6\n",
       "38       37\n",
       "40        1\n",
       "42       57"
      ]
     },
     "execution_count": 125,
     "metadata": {},
     "output_type": "execute_result"
    }
   ],
   "source": [
    "# show number of seasons for each total\n",
    "dflfc_league[dflfc_league.League.isin(['1st Division', 'Premier League'])][['PLD', 'Season']].groupby('PLD').count()"
   ]
  },
  {
   "cell_type": "code",
   "execution_count": 126,
   "metadata": {
    "scrolled": true
   },
   "outputs": [
    {
     "data": {
      "text/plain": [
       "PLD\n",
       "30                        1894-1895,1896-1897,1897-1898\n",
       "34    1898-1899,1899-1900,1900-1901,1901-1902,1902-1...\n",
       "38    1905-1906,1906-1907,1907-1908,1908-1909,1909-1...\n",
       "40                                            1987-1988\n",
       "42    1919-1920,1920-1921,1921-1922,1922-1923,1923-1...\n",
       "Name: Season, dtype: object"
      ]
     },
     "execution_count": 126,
     "metadata": {},
     "output_type": "execute_result"
    }
   ],
   "source": [
    "# show the seasons for each total\n",
    "dflfc_league[dflfc_league.League.isin(['1st Division', 'Premier League'])][['PLD', 'Season']]\\\n",
    "                        .groupby('PLD')['Season'].apply(lambda x: ','.join(x))"
   ]
  },
  {
   "cell_type": "code",
   "execution_count": null,
   "metadata": {},
   "outputs": [],
   "source": []
  },
  {
   "cell_type": "markdown",
   "metadata": {},
   "source": [
    "## lfcgmR App"
   ]
  },
  {
   "cell_type": "markdown",
   "metadata": {
    "collapsed": true
   },
   "source": [
    "### Building and Deploying the lfcgmR App"
   ]
  },
  {
   "cell_type": "markdown",
   "metadata": {},
   "source": [
    "The lfcgmR interactive web app is built using R Shiny and published using their cloud platform.\n",
    "\n",
    "Useful reference material:\n",
    "+ How to develop a shiny app [https://shiny.rstudio.com/](https://shiny.rstudio.com/)."
   ]
  },
  {
   "cell_type": "markdown",
   "metadata": {},
   "source": [
    "### Running the App"
   ]
  },
  {
   "cell_type": "markdown",
   "metadata": {},
   "source": [
    "The app is available at [lfcgmr.lfcsorted.com](http://lfcgmr.lfcsorted.com) and [terrydolan.shinyapps.io/lfcgmR](https://terrydolan.shinyapps.io/lfcgmR/)."
   ]
  },
  {
   "cell_type": "markdown",
   "metadata": {},
   "source": [
    "### App Source Code"
   ]
  },
  {
   "cell_type": "markdown",
   "metadata": {},
   "source": [
    "The lfcgmR source code is available on github at [lfcgmR github repo](https://github.com/terrydolan/lfcgmR).\n",
    "\n",
    "The main files are:\n",
    "+ ui.R: user interface definition.\n",
    "+ server.R: server definition, with main plot and table functions.\n",
    "+ global.R: global definition e.g. version.\n",
    "+ about.html: description of the app.\n",
    "+ lfcgmR.ipynb: this notebook."
   ]
  },
  {
   "cell_type": "markdown",
   "metadata": {},
   "source": [
    "## App Data"
   ]
  },
  {
   "cell_type": "markdown",
   "metadata": {},
   "source": [
    "The LFC Goal Machine app uses the following data files:\n",
    "+ data/lfcgm_app_dropdown.csv (used to build the dropdown list of players)\n",
    "+ data/lfc_scorers_tl_pos_age.csv (used to build the pandas dataframe of LFC scorers in top level league)\n",
    "\n",
    "The data structure of these files is described in this notebook. However the data is not in the lfcgm github repository because the data is owned by [lfchistory.net](http://www.lfchistory.net)."
   ]
  },
  {
   "cell_type": "code",
   "execution_count": null,
   "metadata": {},
   "outputs": [],
   "source": []
  },
  {
   "cell_type": "code",
   "execution_count": 127,
   "metadata": {},
   "outputs": [
    {
     "name": "stdout",
     "output_type": "stream",
     "text": [
      "reached final cell\n"
     ]
    }
   ],
   "source": [
    "print(\"reached final cell\")"
   ]
  },
  {
   "cell_type": "code",
   "execution_count": null,
   "metadata": {},
   "outputs": [],
   "source": []
  }
 ],
 "metadata": {
  "kernelspec": {
   "display_name": "Python 3",
   "language": "python",
   "name": "python3"
  },
  "language_info": {
   "codemirror_mode": {
    "name": "ipython",
    "version": 3
   },
   "file_extension": ".py",
   "mimetype": "text/x-python",
   "name": "python",
   "nbconvert_exporter": "python",
   "pygments_lexer": "ipython3",
   "version": "3.7.4"
  }
 },
 "nbformat": 4,
 "nbformat_minor": 1
}
